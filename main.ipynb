{
  "nbformat": 4,
  "nbformat_minor": 0,
  "metadata": {
    "colab": {
      "name": "main.ipynb",
      "provenance": [],
      "toc_visible": true,
      "authorship_tag": "ABX9TyMb/rpO4lIO7A2OSdqys4zs",
      "include_colab_link": true
    },
    "kernelspec": {
      "name": "python3",
      "display_name": "Python 3"
    },
    "language_info": {
      "name": "python"
    },
    "widgets": {
      "application/vnd.jupyter.widget-state+json": {
        "cb57d03e0f62458681e5971cd7d7089e": {
          "model_module": "@jupyter-widgets/controls",
          "model_name": "HBoxModel",
          "state": {
            "_view_name": "HBoxView",
            "_dom_classes": [],
            "_model_name": "HBoxModel",
            "_view_module": "@jupyter-widgets/controls",
            "_model_module_version": "1.5.0",
            "_view_count": null,
            "_view_module_version": "1.5.0",
            "box_style": "",
            "layout": "IPY_MODEL_d63289bc12844937b7d912006a7ef177",
            "_model_module": "@jupyter-widgets/controls",
            "children": [
              "IPY_MODEL_0d50a26d7bb546478cea766b51bf120a",
              "IPY_MODEL_d953c25f002c47ae99c63eb83c69272a"
            ]
          }
        },
        "d63289bc12844937b7d912006a7ef177": {
          "model_module": "@jupyter-widgets/base",
          "model_name": "LayoutModel",
          "state": {
            "_view_name": "LayoutView",
            "grid_template_rows": null,
            "right": null,
            "justify_content": null,
            "_view_module": "@jupyter-widgets/base",
            "overflow": null,
            "_model_module_version": "1.2.0",
            "_view_count": null,
            "flex_flow": null,
            "width": null,
            "min_width": null,
            "border": null,
            "align_items": null,
            "bottom": null,
            "_model_module": "@jupyter-widgets/base",
            "top": null,
            "grid_column": null,
            "overflow_y": null,
            "overflow_x": null,
            "grid_auto_flow": null,
            "grid_area": null,
            "grid_template_columns": null,
            "flex": null,
            "_model_name": "LayoutModel",
            "justify_items": null,
            "grid_row": null,
            "max_height": null,
            "align_content": null,
            "visibility": null,
            "align_self": null,
            "height": null,
            "min_height": null,
            "padding": null,
            "grid_auto_rows": null,
            "grid_gap": null,
            "max_width": null,
            "order": null,
            "_view_module_version": "1.2.0",
            "grid_template_areas": null,
            "object_position": null,
            "object_fit": null,
            "grid_auto_columns": null,
            "margin": null,
            "display": null,
            "left": null
          }
        },
        "0d50a26d7bb546478cea766b51bf120a": {
          "model_module": "@jupyter-widgets/controls",
          "model_name": "FloatProgressModel",
          "state": {
            "_view_name": "ProgressView",
            "style": "IPY_MODEL_acd88b8d8b8841309e526fc1ff868ebe",
            "_dom_classes": [],
            "description": "100%",
            "_model_name": "FloatProgressModel",
            "bar_style": "success",
            "max": 8,
            "_view_module": "@jupyter-widgets/controls",
            "_model_module_version": "1.5.0",
            "value": 8,
            "_view_count": null,
            "_view_module_version": "1.5.0",
            "orientation": "horizontal",
            "min": 0,
            "description_tooltip": null,
            "_model_module": "@jupyter-widgets/controls",
            "layout": "IPY_MODEL_5ab3bb8503794c2c8b96debd3f4cbd39"
          }
        },
        "d953c25f002c47ae99c63eb83c69272a": {
          "model_module": "@jupyter-widgets/controls",
          "model_name": "HTMLModel",
          "state": {
            "_view_name": "HTMLView",
            "style": "IPY_MODEL_23cbc3771eeb4433a3704536132e1c82",
            "_dom_classes": [],
            "description": "",
            "_model_name": "HTMLModel",
            "placeholder": "​",
            "_view_module": "@jupyter-widgets/controls",
            "_model_module_version": "1.5.0",
            "value": " 8/8 [02:09&lt;00:00, 16.13s/it]",
            "_view_count": null,
            "_view_module_version": "1.5.0",
            "description_tooltip": null,
            "_model_module": "@jupyter-widgets/controls",
            "layout": "IPY_MODEL_32964a55444c4b50a2315dda32bbb44c"
          }
        },
        "acd88b8d8b8841309e526fc1ff868ebe": {
          "model_module": "@jupyter-widgets/controls",
          "model_name": "ProgressStyleModel",
          "state": {
            "_view_name": "StyleView",
            "_model_name": "ProgressStyleModel",
            "description_width": "initial",
            "_view_module": "@jupyter-widgets/base",
            "_model_module_version": "1.5.0",
            "_view_count": null,
            "_view_module_version": "1.2.0",
            "bar_color": null,
            "_model_module": "@jupyter-widgets/controls"
          }
        },
        "5ab3bb8503794c2c8b96debd3f4cbd39": {
          "model_module": "@jupyter-widgets/base",
          "model_name": "LayoutModel",
          "state": {
            "_view_name": "LayoutView",
            "grid_template_rows": null,
            "right": null,
            "justify_content": null,
            "_view_module": "@jupyter-widgets/base",
            "overflow": null,
            "_model_module_version": "1.2.0",
            "_view_count": null,
            "flex_flow": null,
            "width": null,
            "min_width": null,
            "border": null,
            "align_items": null,
            "bottom": null,
            "_model_module": "@jupyter-widgets/base",
            "top": null,
            "grid_column": null,
            "overflow_y": null,
            "overflow_x": null,
            "grid_auto_flow": null,
            "grid_area": null,
            "grid_template_columns": null,
            "flex": null,
            "_model_name": "LayoutModel",
            "justify_items": null,
            "grid_row": null,
            "max_height": null,
            "align_content": null,
            "visibility": null,
            "align_self": null,
            "height": null,
            "min_height": null,
            "padding": null,
            "grid_auto_rows": null,
            "grid_gap": null,
            "max_width": null,
            "order": null,
            "_view_module_version": "1.2.0",
            "grid_template_areas": null,
            "object_position": null,
            "object_fit": null,
            "grid_auto_columns": null,
            "margin": null,
            "display": null,
            "left": null
          }
        },
        "23cbc3771eeb4433a3704536132e1c82": {
          "model_module": "@jupyter-widgets/controls",
          "model_name": "DescriptionStyleModel",
          "state": {
            "_view_name": "StyleView",
            "_model_name": "DescriptionStyleModel",
            "description_width": "",
            "_view_module": "@jupyter-widgets/base",
            "_model_module_version": "1.5.0",
            "_view_count": null,
            "_view_module_version": "1.2.0",
            "_model_module": "@jupyter-widgets/controls"
          }
        },
        "32964a55444c4b50a2315dda32bbb44c": {
          "model_module": "@jupyter-widgets/base",
          "model_name": "LayoutModel",
          "state": {
            "_view_name": "LayoutView",
            "grid_template_rows": null,
            "right": null,
            "justify_content": null,
            "_view_module": "@jupyter-widgets/base",
            "overflow": null,
            "_model_module_version": "1.2.0",
            "_view_count": null,
            "flex_flow": null,
            "width": null,
            "min_width": null,
            "border": null,
            "align_items": null,
            "bottom": null,
            "_model_module": "@jupyter-widgets/base",
            "top": null,
            "grid_column": null,
            "overflow_y": null,
            "overflow_x": null,
            "grid_auto_flow": null,
            "grid_area": null,
            "grid_template_columns": null,
            "flex": null,
            "_model_name": "LayoutModel",
            "justify_items": null,
            "grid_row": null,
            "max_height": null,
            "align_content": null,
            "visibility": null,
            "align_self": null,
            "height": null,
            "min_height": null,
            "padding": null,
            "grid_auto_rows": null,
            "grid_gap": null,
            "max_width": null,
            "order": null,
            "_view_module_version": "1.2.0",
            "grid_template_areas": null,
            "object_position": null,
            "object_fit": null,
            "grid_auto_columns": null,
            "margin": null,
            "display": null,
            "left": null
          }
        },
        "fbfc848d84ae4120826c9a886e205ee3": {
          "model_module": "@jupyter-widgets/controls",
          "model_name": "HBoxModel",
          "state": {
            "_view_name": "HBoxView",
            "_dom_classes": [],
            "_model_name": "HBoxModel",
            "_view_module": "@jupyter-widgets/controls",
            "_model_module_version": "1.5.0",
            "_view_count": null,
            "_view_module_version": "1.5.0",
            "box_style": "",
            "layout": "IPY_MODEL_918009b42b3f4901b9e26ba2e629433a",
            "_model_module": "@jupyter-widgets/controls",
            "children": [
              "IPY_MODEL_4c628f48abcb4c76a0ed3b21592c9666",
              "IPY_MODEL_5af29c3fe4ec4c02b082a357b196ead9"
            ]
          }
        },
        "918009b42b3f4901b9e26ba2e629433a": {
          "model_module": "@jupyter-widgets/base",
          "model_name": "LayoutModel",
          "state": {
            "_view_name": "LayoutView",
            "grid_template_rows": null,
            "right": null,
            "justify_content": null,
            "_view_module": "@jupyter-widgets/base",
            "overflow": null,
            "_model_module_version": "1.2.0",
            "_view_count": null,
            "flex_flow": null,
            "width": null,
            "min_width": null,
            "border": null,
            "align_items": null,
            "bottom": null,
            "_model_module": "@jupyter-widgets/base",
            "top": null,
            "grid_column": null,
            "overflow_y": null,
            "overflow_x": null,
            "grid_auto_flow": null,
            "grid_area": null,
            "grid_template_columns": null,
            "flex": null,
            "_model_name": "LayoutModel",
            "justify_items": null,
            "grid_row": null,
            "max_height": null,
            "align_content": null,
            "visibility": null,
            "align_self": null,
            "height": null,
            "min_height": null,
            "padding": null,
            "grid_auto_rows": null,
            "grid_gap": null,
            "max_width": null,
            "order": null,
            "_view_module_version": "1.2.0",
            "grid_template_areas": null,
            "object_position": null,
            "object_fit": null,
            "grid_auto_columns": null,
            "margin": null,
            "display": null,
            "left": null
          }
        },
        "4c628f48abcb4c76a0ed3b21592c9666": {
          "model_module": "@jupyter-widgets/controls",
          "model_name": "FloatProgressModel",
          "state": {
            "_view_name": "ProgressView",
            "style": "IPY_MODEL_afb332cde60c4241b646f681786f959e",
            "_dom_classes": [],
            "description": "100%",
            "_model_name": "FloatProgressModel",
            "bar_style": "",
            "max": 100,
            "_view_module": "@jupyter-widgets/controls",
            "_model_module_version": "1.5.0",
            "value": 100,
            "_view_count": null,
            "_view_module_version": "1.5.0",
            "orientation": "horizontal",
            "min": 0,
            "description_tooltip": null,
            "_model_module": "@jupyter-widgets/controls",
            "layout": "IPY_MODEL_a2a6206e8d8545f29384ff6bfa17fa48"
          }
        },
        "5af29c3fe4ec4c02b082a357b196ead9": {
          "model_module": "@jupyter-widgets/controls",
          "model_name": "HTMLModel",
          "state": {
            "_view_name": "HTMLView",
            "style": "IPY_MODEL_36acfd23f8b340f2932782cce0f734ce",
            "_dom_classes": [],
            "description": "",
            "_model_name": "HTMLModel",
            "placeholder": "​",
            "_view_module": "@jupyter-widgets/controls",
            "_model_module_version": "1.5.0",
            "value": " 100/100 [00:11&lt;00:00,  8.43it/s]",
            "_view_count": null,
            "_view_module_version": "1.5.0",
            "description_tooltip": null,
            "_model_module": "@jupyter-widgets/controls",
            "layout": "IPY_MODEL_1a1c7ac5c0ee46419606d88aa836ef07"
          }
        },
        "afb332cde60c4241b646f681786f959e": {
          "model_module": "@jupyter-widgets/controls",
          "model_name": "ProgressStyleModel",
          "state": {
            "_view_name": "StyleView",
            "_model_name": "ProgressStyleModel",
            "description_width": "initial",
            "_view_module": "@jupyter-widgets/base",
            "_model_module_version": "1.5.0",
            "_view_count": null,
            "_view_module_version": "1.2.0",
            "bar_color": null,
            "_model_module": "@jupyter-widgets/controls"
          }
        },
        "a2a6206e8d8545f29384ff6bfa17fa48": {
          "model_module": "@jupyter-widgets/base",
          "model_name": "LayoutModel",
          "state": {
            "_view_name": "LayoutView",
            "grid_template_rows": null,
            "right": null,
            "justify_content": null,
            "_view_module": "@jupyter-widgets/base",
            "overflow": null,
            "_model_module_version": "1.2.0",
            "_view_count": null,
            "flex_flow": null,
            "width": null,
            "min_width": null,
            "border": null,
            "align_items": null,
            "bottom": null,
            "_model_module": "@jupyter-widgets/base",
            "top": null,
            "grid_column": null,
            "overflow_y": null,
            "overflow_x": null,
            "grid_auto_flow": null,
            "grid_area": null,
            "grid_template_columns": null,
            "flex": null,
            "_model_name": "LayoutModel",
            "justify_items": null,
            "grid_row": null,
            "max_height": null,
            "align_content": null,
            "visibility": null,
            "align_self": null,
            "height": null,
            "min_height": null,
            "padding": null,
            "grid_auto_rows": null,
            "grid_gap": null,
            "max_width": null,
            "order": null,
            "_view_module_version": "1.2.0",
            "grid_template_areas": null,
            "object_position": null,
            "object_fit": null,
            "grid_auto_columns": null,
            "margin": null,
            "display": null,
            "left": null
          }
        },
        "36acfd23f8b340f2932782cce0f734ce": {
          "model_module": "@jupyter-widgets/controls",
          "model_name": "DescriptionStyleModel",
          "state": {
            "_view_name": "StyleView",
            "_model_name": "DescriptionStyleModel",
            "description_width": "",
            "_view_module": "@jupyter-widgets/base",
            "_model_module_version": "1.5.0",
            "_view_count": null,
            "_view_module_version": "1.2.0",
            "_model_module": "@jupyter-widgets/controls"
          }
        },
        "1a1c7ac5c0ee46419606d88aa836ef07": {
          "model_module": "@jupyter-widgets/base",
          "model_name": "LayoutModel",
          "state": {
            "_view_name": "LayoutView",
            "grid_template_rows": null,
            "right": null,
            "justify_content": null,
            "_view_module": "@jupyter-widgets/base",
            "overflow": null,
            "_model_module_version": "1.2.0",
            "_view_count": null,
            "flex_flow": null,
            "width": null,
            "min_width": null,
            "border": null,
            "align_items": null,
            "bottom": null,
            "_model_module": "@jupyter-widgets/base",
            "top": null,
            "grid_column": null,
            "overflow_y": null,
            "overflow_x": null,
            "grid_auto_flow": null,
            "grid_area": null,
            "grid_template_columns": null,
            "flex": null,
            "_model_name": "LayoutModel",
            "justify_items": null,
            "grid_row": null,
            "max_height": null,
            "align_content": null,
            "visibility": null,
            "align_self": null,
            "height": null,
            "min_height": null,
            "padding": null,
            "grid_auto_rows": null,
            "grid_gap": null,
            "max_width": null,
            "order": null,
            "_view_module_version": "1.2.0",
            "grid_template_areas": null,
            "object_position": null,
            "object_fit": null,
            "grid_auto_columns": null,
            "margin": null,
            "display": null,
            "left": null
          }
        },
        "5d7bf414e33947d3817a6829911bb381": {
          "model_module": "@jupyter-widgets/controls",
          "model_name": "HBoxModel",
          "state": {
            "_view_name": "HBoxView",
            "_dom_classes": [],
            "_model_name": "HBoxModel",
            "_view_module": "@jupyter-widgets/controls",
            "_model_module_version": "1.5.0",
            "_view_count": null,
            "_view_module_version": "1.5.0",
            "box_style": "",
            "layout": "IPY_MODEL_52c60caabbcf4d2b9ba534d1a38bdfbd",
            "_model_module": "@jupyter-widgets/controls",
            "children": [
              "IPY_MODEL_c913cee2c26946069afa6f7569507848",
              "IPY_MODEL_aac723fbc5a440f595cee2c45b24b2b3"
            ]
          }
        },
        "52c60caabbcf4d2b9ba534d1a38bdfbd": {
          "model_module": "@jupyter-widgets/base",
          "model_name": "LayoutModel",
          "state": {
            "_view_name": "LayoutView",
            "grid_template_rows": null,
            "right": null,
            "justify_content": null,
            "_view_module": "@jupyter-widgets/base",
            "overflow": null,
            "_model_module_version": "1.2.0",
            "_view_count": null,
            "flex_flow": null,
            "width": null,
            "min_width": null,
            "border": null,
            "align_items": null,
            "bottom": null,
            "_model_module": "@jupyter-widgets/base",
            "top": null,
            "grid_column": null,
            "overflow_y": null,
            "overflow_x": null,
            "grid_auto_flow": null,
            "grid_area": null,
            "grid_template_columns": null,
            "flex": null,
            "_model_name": "LayoutModel",
            "justify_items": null,
            "grid_row": null,
            "max_height": null,
            "align_content": null,
            "visibility": null,
            "align_self": null,
            "height": null,
            "min_height": null,
            "padding": null,
            "grid_auto_rows": null,
            "grid_gap": null,
            "max_width": null,
            "order": null,
            "_view_module_version": "1.2.0",
            "grid_template_areas": null,
            "object_position": null,
            "object_fit": null,
            "grid_auto_columns": null,
            "margin": null,
            "display": null,
            "left": null
          }
        },
        "c913cee2c26946069afa6f7569507848": {
          "model_module": "@jupyter-widgets/controls",
          "model_name": "FloatProgressModel",
          "state": {
            "_view_name": "ProgressView",
            "style": "IPY_MODEL_3cfaa89fb7ca42179b4eb4595d9d2715",
            "_dom_classes": [],
            "description": "100%",
            "_model_name": "FloatProgressModel",
            "bar_style": "",
            "max": 100,
            "_view_module": "@jupyter-widgets/controls",
            "_model_module_version": "1.5.0",
            "value": 100,
            "_view_count": null,
            "_view_module_version": "1.5.0",
            "orientation": "horizontal",
            "min": 0,
            "description_tooltip": null,
            "_model_module": "@jupyter-widgets/controls",
            "layout": "IPY_MODEL_fff2c72cc2a64aa5b88a0ceb4746fad3"
          }
        },
        "aac723fbc5a440f595cee2c45b24b2b3": {
          "model_module": "@jupyter-widgets/controls",
          "model_name": "HTMLModel",
          "state": {
            "_view_name": "HTMLView",
            "style": "IPY_MODEL_d5e2608ab16045dda57fe9fe55361f2b",
            "_dom_classes": [],
            "description": "",
            "_model_name": "HTMLModel",
            "placeholder": "​",
            "_view_module": "@jupyter-widgets/controls",
            "_model_module_version": "1.5.0",
            "value": " 100/100 [00:40&lt;00:00,  2.48it/s]",
            "_view_count": null,
            "_view_module_version": "1.5.0",
            "description_tooltip": null,
            "_model_module": "@jupyter-widgets/controls",
            "layout": "IPY_MODEL_e63edf9c846d4c4686bcb80eb3f1c001"
          }
        },
        "3cfaa89fb7ca42179b4eb4595d9d2715": {
          "model_module": "@jupyter-widgets/controls",
          "model_name": "ProgressStyleModel",
          "state": {
            "_view_name": "StyleView",
            "_model_name": "ProgressStyleModel",
            "description_width": "initial",
            "_view_module": "@jupyter-widgets/base",
            "_model_module_version": "1.5.0",
            "_view_count": null,
            "_view_module_version": "1.2.0",
            "bar_color": null,
            "_model_module": "@jupyter-widgets/controls"
          }
        },
        "fff2c72cc2a64aa5b88a0ceb4746fad3": {
          "model_module": "@jupyter-widgets/base",
          "model_name": "LayoutModel",
          "state": {
            "_view_name": "LayoutView",
            "grid_template_rows": null,
            "right": null,
            "justify_content": null,
            "_view_module": "@jupyter-widgets/base",
            "overflow": null,
            "_model_module_version": "1.2.0",
            "_view_count": null,
            "flex_flow": null,
            "width": null,
            "min_width": null,
            "border": null,
            "align_items": null,
            "bottom": null,
            "_model_module": "@jupyter-widgets/base",
            "top": null,
            "grid_column": null,
            "overflow_y": null,
            "overflow_x": null,
            "grid_auto_flow": null,
            "grid_area": null,
            "grid_template_columns": null,
            "flex": null,
            "_model_name": "LayoutModel",
            "justify_items": null,
            "grid_row": null,
            "max_height": null,
            "align_content": null,
            "visibility": null,
            "align_self": null,
            "height": null,
            "min_height": null,
            "padding": null,
            "grid_auto_rows": null,
            "grid_gap": null,
            "max_width": null,
            "order": null,
            "_view_module_version": "1.2.0",
            "grid_template_areas": null,
            "object_position": null,
            "object_fit": null,
            "grid_auto_columns": null,
            "margin": null,
            "display": null,
            "left": null
          }
        },
        "d5e2608ab16045dda57fe9fe55361f2b": {
          "model_module": "@jupyter-widgets/controls",
          "model_name": "DescriptionStyleModel",
          "state": {
            "_view_name": "StyleView",
            "_model_name": "DescriptionStyleModel",
            "description_width": "",
            "_view_module": "@jupyter-widgets/base",
            "_model_module_version": "1.5.0",
            "_view_count": null,
            "_view_module_version": "1.2.0",
            "_model_module": "@jupyter-widgets/controls"
          }
        },
        "e63edf9c846d4c4686bcb80eb3f1c001": {
          "model_module": "@jupyter-widgets/base",
          "model_name": "LayoutModel",
          "state": {
            "_view_name": "LayoutView",
            "grid_template_rows": null,
            "right": null,
            "justify_content": null,
            "_view_module": "@jupyter-widgets/base",
            "overflow": null,
            "_model_module_version": "1.2.0",
            "_view_count": null,
            "flex_flow": null,
            "width": null,
            "min_width": null,
            "border": null,
            "align_items": null,
            "bottom": null,
            "_model_module": "@jupyter-widgets/base",
            "top": null,
            "grid_column": null,
            "overflow_y": null,
            "overflow_x": null,
            "grid_auto_flow": null,
            "grid_area": null,
            "grid_template_columns": null,
            "flex": null,
            "_model_name": "LayoutModel",
            "justify_items": null,
            "grid_row": null,
            "max_height": null,
            "align_content": null,
            "visibility": null,
            "align_self": null,
            "height": null,
            "min_height": null,
            "padding": null,
            "grid_auto_rows": null,
            "grid_gap": null,
            "max_width": null,
            "order": null,
            "_view_module_version": "1.2.0",
            "grid_template_areas": null,
            "object_position": null,
            "object_fit": null,
            "grid_auto_columns": null,
            "margin": null,
            "display": null,
            "left": null
          }
        },
        "ed7c173ec64d49f0abb39d6dce7efb2b": {
          "model_module": "@jupyter-widgets/controls",
          "model_name": "HBoxModel",
          "state": {
            "_view_name": "HBoxView",
            "_dom_classes": [],
            "_model_name": "HBoxModel",
            "_view_module": "@jupyter-widgets/controls",
            "_model_module_version": "1.5.0",
            "_view_count": null,
            "_view_module_version": "1.5.0",
            "box_style": "",
            "layout": "IPY_MODEL_0fe8506bc51145c19815c7036059964d",
            "_model_module": "@jupyter-widgets/controls",
            "children": [
              "IPY_MODEL_6c8e981f814e430482a2179f93f9fa15",
              "IPY_MODEL_197424b9226e42fea5173389e490a4d3"
            ]
          }
        },
        "0fe8506bc51145c19815c7036059964d": {
          "model_module": "@jupyter-widgets/base",
          "model_name": "LayoutModel",
          "state": {
            "_view_name": "LayoutView",
            "grid_template_rows": null,
            "right": null,
            "justify_content": null,
            "_view_module": "@jupyter-widgets/base",
            "overflow": null,
            "_model_module_version": "1.2.0",
            "_view_count": null,
            "flex_flow": null,
            "width": null,
            "min_width": null,
            "border": null,
            "align_items": null,
            "bottom": null,
            "_model_module": "@jupyter-widgets/base",
            "top": null,
            "grid_column": null,
            "overflow_y": null,
            "overflow_x": null,
            "grid_auto_flow": null,
            "grid_area": null,
            "grid_template_columns": null,
            "flex": null,
            "_model_name": "LayoutModel",
            "justify_items": null,
            "grid_row": null,
            "max_height": null,
            "align_content": null,
            "visibility": null,
            "align_self": null,
            "height": null,
            "min_height": null,
            "padding": null,
            "grid_auto_rows": null,
            "grid_gap": null,
            "max_width": null,
            "order": null,
            "_view_module_version": "1.2.0",
            "grid_template_areas": null,
            "object_position": null,
            "object_fit": null,
            "grid_auto_columns": null,
            "margin": null,
            "display": null,
            "left": null
          }
        },
        "6c8e981f814e430482a2179f93f9fa15": {
          "model_module": "@jupyter-widgets/controls",
          "model_name": "FloatProgressModel",
          "state": {
            "_view_name": "ProgressView",
            "style": "IPY_MODEL_896d10d2a97540ba81886452f8f13f52",
            "_dom_classes": [],
            "description": "100%",
            "_model_name": "FloatProgressModel",
            "bar_style": "",
            "max": 100,
            "_view_module": "@jupyter-widgets/controls",
            "_model_module_version": "1.5.0",
            "value": 100,
            "_view_count": null,
            "_view_module_version": "1.5.0",
            "orientation": "horizontal",
            "min": 0,
            "description_tooltip": null,
            "_model_module": "@jupyter-widgets/controls",
            "layout": "IPY_MODEL_e8d2ebbee27c4823b088d696121f2cef"
          }
        },
        "197424b9226e42fea5173389e490a4d3": {
          "model_module": "@jupyter-widgets/controls",
          "model_name": "HTMLModel",
          "state": {
            "_view_name": "HTMLView",
            "style": "IPY_MODEL_0c01da3cfa4846e0b576e504440c9d01",
            "_dom_classes": [],
            "description": "",
            "_model_name": "HTMLModel",
            "placeholder": "​",
            "_view_module": "@jupyter-widgets/controls",
            "_model_module_version": "1.5.0",
            "value": " 100/100 [00:11&lt;00:00,  8.63it/s]",
            "_view_count": null,
            "_view_module_version": "1.5.0",
            "description_tooltip": null,
            "_model_module": "@jupyter-widgets/controls",
            "layout": "IPY_MODEL_4f6bcf4bf43245a092b784cc09d9fccd"
          }
        },
        "896d10d2a97540ba81886452f8f13f52": {
          "model_module": "@jupyter-widgets/controls",
          "model_name": "ProgressStyleModel",
          "state": {
            "_view_name": "StyleView",
            "_model_name": "ProgressStyleModel",
            "description_width": "initial",
            "_view_module": "@jupyter-widgets/base",
            "_model_module_version": "1.5.0",
            "_view_count": null,
            "_view_module_version": "1.2.0",
            "bar_color": null,
            "_model_module": "@jupyter-widgets/controls"
          }
        },
        "e8d2ebbee27c4823b088d696121f2cef": {
          "model_module": "@jupyter-widgets/base",
          "model_name": "LayoutModel",
          "state": {
            "_view_name": "LayoutView",
            "grid_template_rows": null,
            "right": null,
            "justify_content": null,
            "_view_module": "@jupyter-widgets/base",
            "overflow": null,
            "_model_module_version": "1.2.0",
            "_view_count": null,
            "flex_flow": null,
            "width": null,
            "min_width": null,
            "border": null,
            "align_items": null,
            "bottom": null,
            "_model_module": "@jupyter-widgets/base",
            "top": null,
            "grid_column": null,
            "overflow_y": null,
            "overflow_x": null,
            "grid_auto_flow": null,
            "grid_area": null,
            "grid_template_columns": null,
            "flex": null,
            "_model_name": "LayoutModel",
            "justify_items": null,
            "grid_row": null,
            "max_height": null,
            "align_content": null,
            "visibility": null,
            "align_self": null,
            "height": null,
            "min_height": null,
            "padding": null,
            "grid_auto_rows": null,
            "grid_gap": null,
            "max_width": null,
            "order": null,
            "_view_module_version": "1.2.0",
            "grid_template_areas": null,
            "object_position": null,
            "object_fit": null,
            "grid_auto_columns": null,
            "margin": null,
            "display": null,
            "left": null
          }
        },
        "0c01da3cfa4846e0b576e504440c9d01": {
          "model_module": "@jupyter-widgets/controls",
          "model_name": "DescriptionStyleModel",
          "state": {
            "_view_name": "StyleView",
            "_model_name": "DescriptionStyleModel",
            "description_width": "",
            "_view_module": "@jupyter-widgets/base",
            "_model_module_version": "1.5.0",
            "_view_count": null,
            "_view_module_version": "1.2.0",
            "_model_module": "@jupyter-widgets/controls"
          }
        },
        "4f6bcf4bf43245a092b784cc09d9fccd": {
          "model_module": "@jupyter-widgets/base",
          "model_name": "LayoutModel",
          "state": {
            "_view_name": "LayoutView",
            "grid_template_rows": null,
            "right": null,
            "justify_content": null,
            "_view_module": "@jupyter-widgets/base",
            "overflow": null,
            "_model_module_version": "1.2.0",
            "_view_count": null,
            "flex_flow": null,
            "width": null,
            "min_width": null,
            "border": null,
            "align_items": null,
            "bottom": null,
            "_model_module": "@jupyter-widgets/base",
            "top": null,
            "grid_column": null,
            "overflow_y": null,
            "overflow_x": null,
            "grid_auto_flow": null,
            "grid_area": null,
            "grid_template_columns": null,
            "flex": null,
            "_model_name": "LayoutModel",
            "justify_items": null,
            "grid_row": null,
            "max_height": null,
            "align_content": null,
            "visibility": null,
            "align_self": null,
            "height": null,
            "min_height": null,
            "padding": null,
            "grid_auto_rows": null,
            "grid_gap": null,
            "max_width": null,
            "order": null,
            "_view_module_version": "1.2.0",
            "grid_template_areas": null,
            "object_position": null,
            "object_fit": null,
            "grid_auto_columns": null,
            "margin": null,
            "display": null,
            "left": null
          }
        },
        "8be61fbb25a24889a7f4f80b3089bbf7": {
          "model_module": "@jupyter-widgets/controls",
          "model_name": "HBoxModel",
          "state": {
            "_view_name": "HBoxView",
            "_dom_classes": [],
            "_model_name": "HBoxModel",
            "_view_module": "@jupyter-widgets/controls",
            "_model_module_version": "1.5.0",
            "_view_count": null,
            "_view_module_version": "1.5.0",
            "box_style": "",
            "layout": "IPY_MODEL_38cfc29d8d5a45c1a17a9577178c8adc",
            "_model_module": "@jupyter-widgets/controls",
            "children": [
              "IPY_MODEL_66a58b5b66194b8b8aedea136d4a3167",
              "IPY_MODEL_95d75f53167c4f5292adff976dc58dd0"
            ]
          }
        },
        "38cfc29d8d5a45c1a17a9577178c8adc": {
          "model_module": "@jupyter-widgets/base",
          "model_name": "LayoutModel",
          "state": {
            "_view_name": "LayoutView",
            "grid_template_rows": null,
            "right": null,
            "justify_content": null,
            "_view_module": "@jupyter-widgets/base",
            "overflow": null,
            "_model_module_version": "1.2.0",
            "_view_count": null,
            "flex_flow": null,
            "width": null,
            "min_width": null,
            "border": null,
            "align_items": null,
            "bottom": null,
            "_model_module": "@jupyter-widgets/base",
            "top": null,
            "grid_column": null,
            "overflow_y": null,
            "overflow_x": null,
            "grid_auto_flow": null,
            "grid_area": null,
            "grid_template_columns": null,
            "flex": null,
            "_model_name": "LayoutModel",
            "justify_items": null,
            "grid_row": null,
            "max_height": null,
            "align_content": null,
            "visibility": null,
            "align_self": null,
            "height": null,
            "min_height": null,
            "padding": null,
            "grid_auto_rows": null,
            "grid_gap": null,
            "max_width": null,
            "order": null,
            "_view_module_version": "1.2.0",
            "grid_template_areas": null,
            "object_position": null,
            "object_fit": null,
            "grid_auto_columns": null,
            "margin": null,
            "display": null,
            "left": null
          }
        },
        "66a58b5b66194b8b8aedea136d4a3167": {
          "model_module": "@jupyter-widgets/controls",
          "model_name": "FloatProgressModel",
          "state": {
            "_view_name": "ProgressView",
            "style": "IPY_MODEL_351342c982eb48b9803a2b37ae35e337",
            "_dom_classes": [],
            "description": "100%",
            "_model_name": "FloatProgressModel",
            "bar_style": "",
            "max": 100,
            "_view_module": "@jupyter-widgets/controls",
            "_model_module_version": "1.5.0",
            "value": 100,
            "_view_count": null,
            "_view_module_version": "1.5.0",
            "orientation": "horizontal",
            "min": 0,
            "description_tooltip": null,
            "_model_module": "@jupyter-widgets/controls",
            "layout": "IPY_MODEL_3531ffaa2f904bc886627899945ecddc"
          }
        },
        "95d75f53167c4f5292adff976dc58dd0": {
          "model_module": "@jupyter-widgets/controls",
          "model_name": "HTMLModel",
          "state": {
            "_view_name": "HTMLView",
            "style": "IPY_MODEL_14ddbf7f6af349f8b78f3c929c385ce8",
            "_dom_classes": [],
            "description": "",
            "_model_name": "HTMLModel",
            "placeholder": "​",
            "_view_module": "@jupyter-widgets/controls",
            "_model_module_version": "1.5.0",
            "value": " 100/100 [00:14&lt;00:00,  6.92it/s]",
            "_view_count": null,
            "_view_module_version": "1.5.0",
            "description_tooltip": null,
            "_model_module": "@jupyter-widgets/controls",
            "layout": "IPY_MODEL_fff41ad643d54b1bb9b2f6b20dcd64e2"
          }
        },
        "351342c982eb48b9803a2b37ae35e337": {
          "model_module": "@jupyter-widgets/controls",
          "model_name": "ProgressStyleModel",
          "state": {
            "_view_name": "StyleView",
            "_model_name": "ProgressStyleModel",
            "description_width": "initial",
            "_view_module": "@jupyter-widgets/base",
            "_model_module_version": "1.5.0",
            "_view_count": null,
            "_view_module_version": "1.2.0",
            "bar_color": null,
            "_model_module": "@jupyter-widgets/controls"
          }
        },
        "3531ffaa2f904bc886627899945ecddc": {
          "model_module": "@jupyter-widgets/base",
          "model_name": "LayoutModel",
          "state": {
            "_view_name": "LayoutView",
            "grid_template_rows": null,
            "right": null,
            "justify_content": null,
            "_view_module": "@jupyter-widgets/base",
            "overflow": null,
            "_model_module_version": "1.2.0",
            "_view_count": null,
            "flex_flow": null,
            "width": null,
            "min_width": null,
            "border": null,
            "align_items": null,
            "bottom": null,
            "_model_module": "@jupyter-widgets/base",
            "top": null,
            "grid_column": null,
            "overflow_y": null,
            "overflow_x": null,
            "grid_auto_flow": null,
            "grid_area": null,
            "grid_template_columns": null,
            "flex": null,
            "_model_name": "LayoutModel",
            "justify_items": null,
            "grid_row": null,
            "max_height": null,
            "align_content": null,
            "visibility": null,
            "align_self": null,
            "height": null,
            "min_height": null,
            "padding": null,
            "grid_auto_rows": null,
            "grid_gap": null,
            "max_width": null,
            "order": null,
            "_view_module_version": "1.2.0",
            "grid_template_areas": null,
            "object_position": null,
            "object_fit": null,
            "grid_auto_columns": null,
            "margin": null,
            "display": null,
            "left": null
          }
        },
        "14ddbf7f6af349f8b78f3c929c385ce8": {
          "model_module": "@jupyter-widgets/controls",
          "model_name": "DescriptionStyleModel",
          "state": {
            "_view_name": "StyleView",
            "_model_name": "DescriptionStyleModel",
            "description_width": "",
            "_view_module": "@jupyter-widgets/base",
            "_model_module_version": "1.5.0",
            "_view_count": null,
            "_view_module_version": "1.2.0",
            "_model_module": "@jupyter-widgets/controls"
          }
        },
        "fff41ad643d54b1bb9b2f6b20dcd64e2": {
          "model_module": "@jupyter-widgets/base",
          "model_name": "LayoutModel",
          "state": {
            "_view_name": "LayoutView",
            "grid_template_rows": null,
            "right": null,
            "justify_content": null,
            "_view_module": "@jupyter-widgets/base",
            "overflow": null,
            "_model_module_version": "1.2.0",
            "_view_count": null,
            "flex_flow": null,
            "width": null,
            "min_width": null,
            "border": null,
            "align_items": null,
            "bottom": null,
            "_model_module": "@jupyter-widgets/base",
            "top": null,
            "grid_column": null,
            "overflow_y": null,
            "overflow_x": null,
            "grid_auto_flow": null,
            "grid_area": null,
            "grid_template_columns": null,
            "flex": null,
            "_model_name": "LayoutModel",
            "justify_items": null,
            "grid_row": null,
            "max_height": null,
            "align_content": null,
            "visibility": null,
            "align_self": null,
            "height": null,
            "min_height": null,
            "padding": null,
            "grid_auto_rows": null,
            "grid_gap": null,
            "max_width": null,
            "order": null,
            "_view_module_version": "1.2.0",
            "grid_template_areas": null,
            "object_position": null,
            "object_fit": null,
            "grid_auto_columns": null,
            "margin": null,
            "display": null,
            "left": null
          }
        },
        "b4aad637e3a04c72a186baa879686260": {
          "model_module": "@jupyter-widgets/controls",
          "model_name": "HBoxModel",
          "state": {
            "_view_name": "HBoxView",
            "_dom_classes": [],
            "_model_name": "HBoxModel",
            "_view_module": "@jupyter-widgets/controls",
            "_model_module_version": "1.5.0",
            "_view_count": null,
            "_view_module_version": "1.5.0",
            "box_style": "",
            "layout": "IPY_MODEL_c1b7a2ea0afc4d57a3a5dad3ec053212",
            "_model_module": "@jupyter-widgets/controls",
            "children": [
              "IPY_MODEL_0c405a400618445c8103313c63ced566",
              "IPY_MODEL_e5e1d471f1c741f386546ea757c3903a"
            ]
          }
        },
        "c1b7a2ea0afc4d57a3a5dad3ec053212": {
          "model_module": "@jupyter-widgets/base",
          "model_name": "LayoutModel",
          "state": {
            "_view_name": "LayoutView",
            "grid_template_rows": null,
            "right": null,
            "justify_content": null,
            "_view_module": "@jupyter-widgets/base",
            "overflow": null,
            "_model_module_version": "1.2.0",
            "_view_count": null,
            "flex_flow": null,
            "width": null,
            "min_width": null,
            "border": null,
            "align_items": null,
            "bottom": null,
            "_model_module": "@jupyter-widgets/base",
            "top": null,
            "grid_column": null,
            "overflow_y": null,
            "overflow_x": null,
            "grid_auto_flow": null,
            "grid_area": null,
            "grid_template_columns": null,
            "flex": null,
            "_model_name": "LayoutModel",
            "justify_items": null,
            "grid_row": null,
            "max_height": null,
            "align_content": null,
            "visibility": null,
            "align_self": null,
            "height": null,
            "min_height": null,
            "padding": null,
            "grid_auto_rows": null,
            "grid_gap": null,
            "max_width": null,
            "order": null,
            "_view_module_version": "1.2.0",
            "grid_template_areas": null,
            "object_position": null,
            "object_fit": null,
            "grid_auto_columns": null,
            "margin": null,
            "display": null,
            "left": null
          }
        },
        "0c405a400618445c8103313c63ced566": {
          "model_module": "@jupyter-widgets/controls",
          "model_name": "FloatProgressModel",
          "state": {
            "_view_name": "ProgressView",
            "style": "IPY_MODEL_7615569db9f340a18fa70753311c0e16",
            "_dom_classes": [],
            "description": "100%",
            "_model_name": "FloatProgressModel",
            "bar_style": "",
            "max": 100,
            "_view_module": "@jupyter-widgets/controls",
            "_model_module_version": "1.5.0",
            "value": 100,
            "_view_count": null,
            "_view_module_version": "1.5.0",
            "orientation": "horizontal",
            "min": 0,
            "description_tooltip": null,
            "_model_module": "@jupyter-widgets/controls",
            "layout": "IPY_MODEL_cbed1e29f6c84fa49d7841d53e1e630c"
          }
        },
        "e5e1d471f1c741f386546ea757c3903a": {
          "model_module": "@jupyter-widgets/controls",
          "model_name": "HTMLModel",
          "state": {
            "_view_name": "HTMLView",
            "style": "IPY_MODEL_21d30de5ee194850af0f5c999bdf6be0",
            "_dom_classes": [],
            "description": "",
            "_model_name": "HTMLModel",
            "placeholder": "​",
            "_view_module": "@jupyter-widgets/controls",
            "_model_module_version": "1.5.0",
            "value": " 100/100 [00:17&lt;00:00,  5.79it/s]",
            "_view_count": null,
            "_view_module_version": "1.5.0",
            "description_tooltip": null,
            "_model_module": "@jupyter-widgets/controls",
            "layout": "IPY_MODEL_47641981f5a144a8b5d0ceda7471197e"
          }
        },
        "7615569db9f340a18fa70753311c0e16": {
          "model_module": "@jupyter-widgets/controls",
          "model_name": "ProgressStyleModel",
          "state": {
            "_view_name": "StyleView",
            "_model_name": "ProgressStyleModel",
            "description_width": "initial",
            "_view_module": "@jupyter-widgets/base",
            "_model_module_version": "1.5.0",
            "_view_count": null,
            "_view_module_version": "1.2.0",
            "bar_color": null,
            "_model_module": "@jupyter-widgets/controls"
          }
        },
        "cbed1e29f6c84fa49d7841d53e1e630c": {
          "model_module": "@jupyter-widgets/base",
          "model_name": "LayoutModel",
          "state": {
            "_view_name": "LayoutView",
            "grid_template_rows": null,
            "right": null,
            "justify_content": null,
            "_view_module": "@jupyter-widgets/base",
            "overflow": null,
            "_model_module_version": "1.2.0",
            "_view_count": null,
            "flex_flow": null,
            "width": null,
            "min_width": null,
            "border": null,
            "align_items": null,
            "bottom": null,
            "_model_module": "@jupyter-widgets/base",
            "top": null,
            "grid_column": null,
            "overflow_y": null,
            "overflow_x": null,
            "grid_auto_flow": null,
            "grid_area": null,
            "grid_template_columns": null,
            "flex": null,
            "_model_name": "LayoutModel",
            "justify_items": null,
            "grid_row": null,
            "max_height": null,
            "align_content": null,
            "visibility": null,
            "align_self": null,
            "height": null,
            "min_height": null,
            "padding": null,
            "grid_auto_rows": null,
            "grid_gap": null,
            "max_width": null,
            "order": null,
            "_view_module_version": "1.2.0",
            "grid_template_areas": null,
            "object_position": null,
            "object_fit": null,
            "grid_auto_columns": null,
            "margin": null,
            "display": null,
            "left": null
          }
        },
        "21d30de5ee194850af0f5c999bdf6be0": {
          "model_module": "@jupyter-widgets/controls",
          "model_name": "DescriptionStyleModel",
          "state": {
            "_view_name": "StyleView",
            "_model_name": "DescriptionStyleModel",
            "description_width": "",
            "_view_module": "@jupyter-widgets/base",
            "_model_module_version": "1.5.0",
            "_view_count": null,
            "_view_module_version": "1.2.0",
            "_model_module": "@jupyter-widgets/controls"
          }
        },
        "47641981f5a144a8b5d0ceda7471197e": {
          "model_module": "@jupyter-widgets/base",
          "model_name": "LayoutModel",
          "state": {
            "_view_name": "LayoutView",
            "grid_template_rows": null,
            "right": null,
            "justify_content": null,
            "_view_module": "@jupyter-widgets/base",
            "overflow": null,
            "_model_module_version": "1.2.0",
            "_view_count": null,
            "flex_flow": null,
            "width": null,
            "min_width": null,
            "border": null,
            "align_items": null,
            "bottom": null,
            "_model_module": "@jupyter-widgets/base",
            "top": null,
            "grid_column": null,
            "overflow_y": null,
            "overflow_x": null,
            "grid_auto_flow": null,
            "grid_area": null,
            "grid_template_columns": null,
            "flex": null,
            "_model_name": "LayoutModel",
            "justify_items": null,
            "grid_row": null,
            "max_height": null,
            "align_content": null,
            "visibility": null,
            "align_self": null,
            "height": null,
            "min_height": null,
            "padding": null,
            "grid_auto_rows": null,
            "grid_gap": null,
            "max_width": null,
            "order": null,
            "_view_module_version": "1.2.0",
            "grid_template_areas": null,
            "object_position": null,
            "object_fit": null,
            "grid_auto_columns": null,
            "margin": null,
            "display": null,
            "left": null
          }
        },
        "2a62aa7cb3394ae8ac51d740d0a06605": {
          "model_module": "@jupyter-widgets/controls",
          "model_name": "HBoxModel",
          "state": {
            "_view_name": "HBoxView",
            "_dom_classes": [],
            "_model_name": "HBoxModel",
            "_view_module": "@jupyter-widgets/controls",
            "_model_module_version": "1.5.0",
            "_view_count": null,
            "_view_module_version": "1.5.0",
            "box_style": "",
            "layout": "IPY_MODEL_f00c47fc57c94b679f8523cfa3252101",
            "_model_module": "@jupyter-widgets/controls",
            "children": [
              "IPY_MODEL_c46b79ca8d8641dead6e340fc49203f4",
              "IPY_MODEL_3c027ba2de3c40d580c43157ca69dae9"
            ]
          }
        },
        "f00c47fc57c94b679f8523cfa3252101": {
          "model_module": "@jupyter-widgets/base",
          "model_name": "LayoutModel",
          "state": {
            "_view_name": "LayoutView",
            "grid_template_rows": null,
            "right": null,
            "justify_content": null,
            "_view_module": "@jupyter-widgets/base",
            "overflow": null,
            "_model_module_version": "1.2.0",
            "_view_count": null,
            "flex_flow": null,
            "width": null,
            "min_width": null,
            "border": null,
            "align_items": null,
            "bottom": null,
            "_model_module": "@jupyter-widgets/base",
            "top": null,
            "grid_column": null,
            "overflow_y": null,
            "overflow_x": null,
            "grid_auto_flow": null,
            "grid_area": null,
            "grid_template_columns": null,
            "flex": null,
            "_model_name": "LayoutModel",
            "justify_items": null,
            "grid_row": null,
            "max_height": null,
            "align_content": null,
            "visibility": null,
            "align_self": null,
            "height": null,
            "min_height": null,
            "padding": null,
            "grid_auto_rows": null,
            "grid_gap": null,
            "max_width": null,
            "order": null,
            "_view_module_version": "1.2.0",
            "grid_template_areas": null,
            "object_position": null,
            "object_fit": null,
            "grid_auto_columns": null,
            "margin": null,
            "display": null,
            "left": null
          }
        },
        "c46b79ca8d8641dead6e340fc49203f4": {
          "model_module": "@jupyter-widgets/controls",
          "model_name": "FloatProgressModel",
          "state": {
            "_view_name": "ProgressView",
            "style": "IPY_MODEL_33d35dc2aceb4d3cb853a0c20c1e2bd1",
            "_dom_classes": [],
            "description": "100%",
            "_model_name": "FloatProgressModel",
            "bar_style": "",
            "max": 100,
            "_view_module": "@jupyter-widgets/controls",
            "_model_module_version": "1.5.0",
            "value": 100,
            "_view_count": null,
            "_view_module_version": "1.5.0",
            "orientation": "horizontal",
            "min": 0,
            "description_tooltip": null,
            "_model_module": "@jupyter-widgets/controls",
            "layout": "IPY_MODEL_158113e1f096406a8d3d7e0cffea6f2b"
          }
        },
        "3c027ba2de3c40d580c43157ca69dae9": {
          "model_module": "@jupyter-widgets/controls",
          "model_name": "HTMLModel",
          "state": {
            "_view_name": "HTMLView",
            "style": "IPY_MODEL_1fd3b49260c543b0a4292865a868285c",
            "_dom_classes": [],
            "description": "",
            "_model_name": "HTMLModel",
            "placeholder": "​",
            "_view_module": "@jupyter-widgets/controls",
            "_model_module_version": "1.5.0",
            "value": " 100/100 [00:09&lt;00:00, 10.75it/s]",
            "_view_count": null,
            "_view_module_version": "1.5.0",
            "description_tooltip": null,
            "_model_module": "@jupyter-widgets/controls",
            "layout": "IPY_MODEL_5cb56dcade3b447bba9b462bc7d448fd"
          }
        },
        "33d35dc2aceb4d3cb853a0c20c1e2bd1": {
          "model_module": "@jupyter-widgets/controls",
          "model_name": "ProgressStyleModel",
          "state": {
            "_view_name": "StyleView",
            "_model_name": "ProgressStyleModel",
            "description_width": "initial",
            "_view_module": "@jupyter-widgets/base",
            "_model_module_version": "1.5.0",
            "_view_count": null,
            "_view_module_version": "1.2.0",
            "bar_color": null,
            "_model_module": "@jupyter-widgets/controls"
          }
        },
        "158113e1f096406a8d3d7e0cffea6f2b": {
          "model_module": "@jupyter-widgets/base",
          "model_name": "LayoutModel",
          "state": {
            "_view_name": "LayoutView",
            "grid_template_rows": null,
            "right": null,
            "justify_content": null,
            "_view_module": "@jupyter-widgets/base",
            "overflow": null,
            "_model_module_version": "1.2.0",
            "_view_count": null,
            "flex_flow": null,
            "width": null,
            "min_width": null,
            "border": null,
            "align_items": null,
            "bottom": null,
            "_model_module": "@jupyter-widgets/base",
            "top": null,
            "grid_column": null,
            "overflow_y": null,
            "overflow_x": null,
            "grid_auto_flow": null,
            "grid_area": null,
            "grid_template_columns": null,
            "flex": null,
            "_model_name": "LayoutModel",
            "justify_items": null,
            "grid_row": null,
            "max_height": null,
            "align_content": null,
            "visibility": null,
            "align_self": null,
            "height": null,
            "min_height": null,
            "padding": null,
            "grid_auto_rows": null,
            "grid_gap": null,
            "max_width": null,
            "order": null,
            "_view_module_version": "1.2.0",
            "grid_template_areas": null,
            "object_position": null,
            "object_fit": null,
            "grid_auto_columns": null,
            "margin": null,
            "display": null,
            "left": null
          }
        },
        "1fd3b49260c543b0a4292865a868285c": {
          "model_module": "@jupyter-widgets/controls",
          "model_name": "DescriptionStyleModel",
          "state": {
            "_view_name": "StyleView",
            "_model_name": "DescriptionStyleModel",
            "description_width": "",
            "_view_module": "@jupyter-widgets/base",
            "_model_module_version": "1.5.0",
            "_view_count": null,
            "_view_module_version": "1.2.0",
            "_model_module": "@jupyter-widgets/controls"
          }
        },
        "5cb56dcade3b447bba9b462bc7d448fd": {
          "model_module": "@jupyter-widgets/base",
          "model_name": "LayoutModel",
          "state": {
            "_view_name": "LayoutView",
            "grid_template_rows": null,
            "right": null,
            "justify_content": null,
            "_view_module": "@jupyter-widgets/base",
            "overflow": null,
            "_model_module_version": "1.2.0",
            "_view_count": null,
            "flex_flow": null,
            "width": null,
            "min_width": null,
            "border": null,
            "align_items": null,
            "bottom": null,
            "_model_module": "@jupyter-widgets/base",
            "top": null,
            "grid_column": null,
            "overflow_y": null,
            "overflow_x": null,
            "grid_auto_flow": null,
            "grid_area": null,
            "grid_template_columns": null,
            "flex": null,
            "_model_name": "LayoutModel",
            "justify_items": null,
            "grid_row": null,
            "max_height": null,
            "align_content": null,
            "visibility": null,
            "align_self": null,
            "height": null,
            "min_height": null,
            "padding": null,
            "grid_auto_rows": null,
            "grid_gap": null,
            "max_width": null,
            "order": null,
            "_view_module_version": "1.2.0",
            "grid_template_areas": null,
            "object_position": null,
            "object_fit": null,
            "grid_auto_columns": null,
            "margin": null,
            "display": null,
            "left": null
          }
        },
        "1601f08d06a54f9b830cfe999cae0edc": {
          "model_module": "@jupyter-widgets/controls",
          "model_name": "HBoxModel",
          "state": {
            "_view_name": "HBoxView",
            "_dom_classes": [],
            "_model_name": "HBoxModel",
            "_view_module": "@jupyter-widgets/controls",
            "_model_module_version": "1.5.0",
            "_view_count": null,
            "_view_module_version": "1.5.0",
            "box_style": "",
            "layout": "IPY_MODEL_451196e4acfd4cda996c00ea60be0237",
            "_model_module": "@jupyter-widgets/controls",
            "children": [
              "IPY_MODEL_1188058614cb4254b449963cdd596de7",
              "IPY_MODEL_e47fd79f5bcb47429cd1f7fab02dedc9"
            ]
          }
        },
        "451196e4acfd4cda996c00ea60be0237": {
          "model_module": "@jupyter-widgets/base",
          "model_name": "LayoutModel",
          "state": {
            "_view_name": "LayoutView",
            "grid_template_rows": null,
            "right": null,
            "justify_content": null,
            "_view_module": "@jupyter-widgets/base",
            "overflow": null,
            "_model_module_version": "1.2.0",
            "_view_count": null,
            "flex_flow": null,
            "width": null,
            "min_width": null,
            "border": null,
            "align_items": null,
            "bottom": null,
            "_model_module": "@jupyter-widgets/base",
            "top": null,
            "grid_column": null,
            "overflow_y": null,
            "overflow_x": null,
            "grid_auto_flow": null,
            "grid_area": null,
            "grid_template_columns": null,
            "flex": null,
            "_model_name": "LayoutModel",
            "justify_items": null,
            "grid_row": null,
            "max_height": null,
            "align_content": null,
            "visibility": null,
            "align_self": null,
            "height": null,
            "min_height": null,
            "padding": null,
            "grid_auto_rows": null,
            "grid_gap": null,
            "max_width": null,
            "order": null,
            "_view_module_version": "1.2.0",
            "grid_template_areas": null,
            "object_position": null,
            "object_fit": null,
            "grid_auto_columns": null,
            "margin": null,
            "display": null,
            "left": null
          }
        },
        "1188058614cb4254b449963cdd596de7": {
          "model_module": "@jupyter-widgets/controls",
          "model_name": "FloatProgressModel",
          "state": {
            "_view_name": "ProgressView",
            "style": "IPY_MODEL_0e440ebcdd804e5caa7adab324e27c93",
            "_dom_classes": [],
            "description": "100%",
            "_model_name": "FloatProgressModel",
            "bar_style": "",
            "max": 100,
            "_view_module": "@jupyter-widgets/controls",
            "_model_module_version": "1.5.0",
            "value": 100,
            "_view_count": null,
            "_view_module_version": "1.5.0",
            "orientation": "horizontal",
            "min": 0,
            "description_tooltip": null,
            "_model_module": "@jupyter-widgets/controls",
            "layout": "IPY_MODEL_842ea8fb9de9402583a7425400877618"
          }
        },
        "e47fd79f5bcb47429cd1f7fab02dedc9": {
          "model_module": "@jupyter-widgets/controls",
          "model_name": "HTMLModel",
          "state": {
            "_view_name": "HTMLView",
            "style": "IPY_MODEL_5a1827bff2914c8ca394b8d79f6bf1ae",
            "_dom_classes": [],
            "description": "",
            "_model_name": "HTMLModel",
            "placeholder": "​",
            "_view_module": "@jupyter-widgets/controls",
            "_model_module_version": "1.5.0",
            "value": " 100/100 [00:12&lt;00:00,  7.98it/s]",
            "_view_count": null,
            "_view_module_version": "1.5.0",
            "description_tooltip": null,
            "_model_module": "@jupyter-widgets/controls",
            "layout": "IPY_MODEL_1d519f6743e741e4bff5d36de075e190"
          }
        },
        "0e440ebcdd804e5caa7adab324e27c93": {
          "model_module": "@jupyter-widgets/controls",
          "model_name": "ProgressStyleModel",
          "state": {
            "_view_name": "StyleView",
            "_model_name": "ProgressStyleModel",
            "description_width": "initial",
            "_view_module": "@jupyter-widgets/base",
            "_model_module_version": "1.5.0",
            "_view_count": null,
            "_view_module_version": "1.2.0",
            "bar_color": null,
            "_model_module": "@jupyter-widgets/controls"
          }
        },
        "842ea8fb9de9402583a7425400877618": {
          "model_module": "@jupyter-widgets/base",
          "model_name": "LayoutModel",
          "state": {
            "_view_name": "LayoutView",
            "grid_template_rows": null,
            "right": null,
            "justify_content": null,
            "_view_module": "@jupyter-widgets/base",
            "overflow": null,
            "_model_module_version": "1.2.0",
            "_view_count": null,
            "flex_flow": null,
            "width": null,
            "min_width": null,
            "border": null,
            "align_items": null,
            "bottom": null,
            "_model_module": "@jupyter-widgets/base",
            "top": null,
            "grid_column": null,
            "overflow_y": null,
            "overflow_x": null,
            "grid_auto_flow": null,
            "grid_area": null,
            "grid_template_columns": null,
            "flex": null,
            "_model_name": "LayoutModel",
            "justify_items": null,
            "grid_row": null,
            "max_height": null,
            "align_content": null,
            "visibility": null,
            "align_self": null,
            "height": null,
            "min_height": null,
            "padding": null,
            "grid_auto_rows": null,
            "grid_gap": null,
            "max_width": null,
            "order": null,
            "_view_module_version": "1.2.0",
            "grid_template_areas": null,
            "object_position": null,
            "object_fit": null,
            "grid_auto_columns": null,
            "margin": null,
            "display": null,
            "left": null
          }
        },
        "5a1827bff2914c8ca394b8d79f6bf1ae": {
          "model_module": "@jupyter-widgets/controls",
          "model_name": "DescriptionStyleModel",
          "state": {
            "_view_name": "StyleView",
            "_model_name": "DescriptionStyleModel",
            "description_width": "",
            "_view_module": "@jupyter-widgets/base",
            "_model_module_version": "1.5.0",
            "_view_count": null,
            "_view_module_version": "1.2.0",
            "_model_module": "@jupyter-widgets/controls"
          }
        },
        "1d519f6743e741e4bff5d36de075e190": {
          "model_module": "@jupyter-widgets/base",
          "model_name": "LayoutModel",
          "state": {
            "_view_name": "LayoutView",
            "grid_template_rows": null,
            "right": null,
            "justify_content": null,
            "_view_module": "@jupyter-widgets/base",
            "overflow": null,
            "_model_module_version": "1.2.0",
            "_view_count": null,
            "flex_flow": null,
            "width": null,
            "min_width": null,
            "border": null,
            "align_items": null,
            "bottom": null,
            "_model_module": "@jupyter-widgets/base",
            "top": null,
            "grid_column": null,
            "overflow_y": null,
            "overflow_x": null,
            "grid_auto_flow": null,
            "grid_area": null,
            "grid_template_columns": null,
            "flex": null,
            "_model_name": "LayoutModel",
            "justify_items": null,
            "grid_row": null,
            "max_height": null,
            "align_content": null,
            "visibility": null,
            "align_self": null,
            "height": null,
            "min_height": null,
            "padding": null,
            "grid_auto_rows": null,
            "grid_gap": null,
            "max_width": null,
            "order": null,
            "_view_module_version": "1.2.0",
            "grid_template_areas": null,
            "object_position": null,
            "object_fit": null,
            "grid_auto_columns": null,
            "margin": null,
            "display": null,
            "left": null
          }
        },
        "c77b9a9cd75147e9b87f03b7d8f5597a": {
          "model_module": "@jupyter-widgets/controls",
          "model_name": "HBoxModel",
          "state": {
            "_view_name": "HBoxView",
            "_dom_classes": [],
            "_model_name": "HBoxModel",
            "_view_module": "@jupyter-widgets/controls",
            "_model_module_version": "1.5.0",
            "_view_count": null,
            "_view_module_version": "1.5.0",
            "box_style": "",
            "layout": "IPY_MODEL_ab058c27cd0e4ebe84256e4078654ecf",
            "_model_module": "@jupyter-widgets/controls",
            "children": [
              "IPY_MODEL_fb766dd4d18347f792e580d665ca7bc5",
              "IPY_MODEL_4d68e1e722fd451fb202cd065313ae6f"
            ]
          }
        },
        "ab058c27cd0e4ebe84256e4078654ecf": {
          "model_module": "@jupyter-widgets/base",
          "model_name": "LayoutModel",
          "state": {
            "_view_name": "LayoutView",
            "grid_template_rows": null,
            "right": null,
            "justify_content": null,
            "_view_module": "@jupyter-widgets/base",
            "overflow": null,
            "_model_module_version": "1.2.0",
            "_view_count": null,
            "flex_flow": null,
            "width": null,
            "min_width": null,
            "border": null,
            "align_items": null,
            "bottom": null,
            "_model_module": "@jupyter-widgets/base",
            "top": null,
            "grid_column": null,
            "overflow_y": null,
            "overflow_x": null,
            "grid_auto_flow": null,
            "grid_area": null,
            "grid_template_columns": null,
            "flex": null,
            "_model_name": "LayoutModel",
            "justify_items": null,
            "grid_row": null,
            "max_height": null,
            "align_content": null,
            "visibility": null,
            "align_self": null,
            "height": null,
            "min_height": null,
            "padding": null,
            "grid_auto_rows": null,
            "grid_gap": null,
            "max_width": null,
            "order": null,
            "_view_module_version": "1.2.0",
            "grid_template_areas": null,
            "object_position": null,
            "object_fit": null,
            "grid_auto_columns": null,
            "margin": null,
            "display": null,
            "left": null
          }
        },
        "fb766dd4d18347f792e580d665ca7bc5": {
          "model_module": "@jupyter-widgets/controls",
          "model_name": "FloatProgressModel",
          "state": {
            "_view_name": "ProgressView",
            "style": "IPY_MODEL_ed96a0c059b348c3841060e04867fb9b",
            "_dom_classes": [],
            "description": "100%",
            "_model_name": "FloatProgressModel",
            "bar_style": "",
            "max": 100,
            "_view_module": "@jupyter-widgets/controls",
            "_model_module_version": "1.5.0",
            "value": 100,
            "_view_count": null,
            "_view_module_version": "1.5.0",
            "orientation": "horizontal",
            "min": 0,
            "description_tooltip": null,
            "_model_module": "@jupyter-widgets/controls",
            "layout": "IPY_MODEL_7d38f038cd1848ea9841d728f25efec9"
          }
        },
        "4d68e1e722fd451fb202cd065313ae6f": {
          "model_module": "@jupyter-widgets/controls",
          "model_name": "HTMLModel",
          "state": {
            "_view_name": "HTMLView",
            "style": "IPY_MODEL_bfa763946ea24d95be1f586c117bb6d4",
            "_dom_classes": [],
            "description": "",
            "_model_name": "HTMLModel",
            "placeholder": "​",
            "_view_module": "@jupyter-widgets/controls",
            "_model_module_version": "1.5.0",
            "value": " 100/100 [00:10&lt;00:00,  9.10it/s]",
            "_view_count": null,
            "_view_module_version": "1.5.0",
            "description_tooltip": null,
            "_model_module": "@jupyter-widgets/controls",
            "layout": "IPY_MODEL_57cd6bac65364ca98e486ce3d2b20d77"
          }
        },
        "ed96a0c059b348c3841060e04867fb9b": {
          "model_module": "@jupyter-widgets/controls",
          "model_name": "ProgressStyleModel",
          "state": {
            "_view_name": "StyleView",
            "_model_name": "ProgressStyleModel",
            "description_width": "initial",
            "_view_module": "@jupyter-widgets/base",
            "_model_module_version": "1.5.0",
            "_view_count": null,
            "_view_module_version": "1.2.0",
            "bar_color": null,
            "_model_module": "@jupyter-widgets/controls"
          }
        },
        "7d38f038cd1848ea9841d728f25efec9": {
          "model_module": "@jupyter-widgets/base",
          "model_name": "LayoutModel",
          "state": {
            "_view_name": "LayoutView",
            "grid_template_rows": null,
            "right": null,
            "justify_content": null,
            "_view_module": "@jupyter-widgets/base",
            "overflow": null,
            "_model_module_version": "1.2.0",
            "_view_count": null,
            "flex_flow": null,
            "width": null,
            "min_width": null,
            "border": null,
            "align_items": null,
            "bottom": null,
            "_model_module": "@jupyter-widgets/base",
            "top": null,
            "grid_column": null,
            "overflow_y": null,
            "overflow_x": null,
            "grid_auto_flow": null,
            "grid_area": null,
            "grid_template_columns": null,
            "flex": null,
            "_model_name": "LayoutModel",
            "justify_items": null,
            "grid_row": null,
            "max_height": null,
            "align_content": null,
            "visibility": null,
            "align_self": null,
            "height": null,
            "min_height": null,
            "padding": null,
            "grid_auto_rows": null,
            "grid_gap": null,
            "max_width": null,
            "order": null,
            "_view_module_version": "1.2.0",
            "grid_template_areas": null,
            "object_position": null,
            "object_fit": null,
            "grid_auto_columns": null,
            "margin": null,
            "display": null,
            "left": null
          }
        },
        "bfa763946ea24d95be1f586c117bb6d4": {
          "model_module": "@jupyter-widgets/controls",
          "model_name": "DescriptionStyleModel",
          "state": {
            "_view_name": "StyleView",
            "_model_name": "DescriptionStyleModel",
            "description_width": "",
            "_view_module": "@jupyter-widgets/base",
            "_model_module_version": "1.5.0",
            "_view_count": null,
            "_view_module_version": "1.2.0",
            "_model_module": "@jupyter-widgets/controls"
          }
        },
        "57cd6bac65364ca98e486ce3d2b20d77": {
          "model_module": "@jupyter-widgets/base",
          "model_name": "LayoutModel",
          "state": {
            "_view_name": "LayoutView",
            "grid_template_rows": null,
            "right": null,
            "justify_content": null,
            "_view_module": "@jupyter-widgets/base",
            "overflow": null,
            "_model_module_version": "1.2.0",
            "_view_count": null,
            "flex_flow": null,
            "width": null,
            "min_width": null,
            "border": null,
            "align_items": null,
            "bottom": null,
            "_model_module": "@jupyter-widgets/base",
            "top": null,
            "grid_column": null,
            "overflow_y": null,
            "overflow_x": null,
            "grid_auto_flow": null,
            "grid_area": null,
            "grid_template_columns": null,
            "flex": null,
            "_model_name": "LayoutModel",
            "justify_items": null,
            "grid_row": null,
            "max_height": null,
            "align_content": null,
            "visibility": null,
            "align_self": null,
            "height": null,
            "min_height": null,
            "padding": null,
            "grid_auto_rows": null,
            "grid_gap": null,
            "max_width": null,
            "order": null,
            "_view_module_version": "1.2.0",
            "grid_template_areas": null,
            "object_position": null,
            "object_fit": null,
            "grid_auto_columns": null,
            "margin": null,
            "display": null,
            "left": null
          }
        },
        "70be1852613042a9933ee3da4b90c1a8": {
          "model_module": "@jupyter-widgets/controls",
          "model_name": "HBoxModel",
          "state": {
            "_view_name": "HBoxView",
            "_dom_classes": [],
            "_model_name": "HBoxModel",
            "_view_module": "@jupyter-widgets/controls",
            "_model_module_version": "1.5.0",
            "_view_count": null,
            "_view_module_version": "1.5.0",
            "box_style": "",
            "layout": "IPY_MODEL_6e775a17a0f44fc3829ef4a7c6b0f811",
            "_model_module": "@jupyter-widgets/controls",
            "children": [
              "IPY_MODEL_143e285270404def8bdd0eddf46f0a80",
              "IPY_MODEL_d15f3b9c07444c58b0b0ee1b427252c4"
            ]
          }
        },
        "6e775a17a0f44fc3829ef4a7c6b0f811": {
          "model_module": "@jupyter-widgets/base",
          "model_name": "LayoutModel",
          "state": {
            "_view_name": "LayoutView",
            "grid_template_rows": null,
            "right": null,
            "justify_content": null,
            "_view_module": "@jupyter-widgets/base",
            "overflow": null,
            "_model_module_version": "1.2.0",
            "_view_count": null,
            "flex_flow": null,
            "width": null,
            "min_width": null,
            "border": null,
            "align_items": null,
            "bottom": null,
            "_model_module": "@jupyter-widgets/base",
            "top": null,
            "grid_column": null,
            "overflow_y": null,
            "overflow_x": null,
            "grid_auto_flow": null,
            "grid_area": null,
            "grid_template_columns": null,
            "flex": null,
            "_model_name": "LayoutModel",
            "justify_items": null,
            "grid_row": null,
            "max_height": null,
            "align_content": null,
            "visibility": null,
            "align_self": null,
            "height": null,
            "min_height": null,
            "padding": null,
            "grid_auto_rows": null,
            "grid_gap": null,
            "max_width": null,
            "order": null,
            "_view_module_version": "1.2.0",
            "grid_template_areas": null,
            "object_position": null,
            "object_fit": null,
            "grid_auto_columns": null,
            "margin": null,
            "display": null,
            "left": null
          }
        },
        "143e285270404def8bdd0eddf46f0a80": {
          "model_module": "@jupyter-widgets/controls",
          "model_name": "FloatProgressModel",
          "state": {
            "_view_name": "ProgressView",
            "style": "IPY_MODEL_b8bb9a77f70d4f4987a71d484499d06f",
            "_dom_classes": [],
            "description": "100%",
            "_model_name": "FloatProgressModel",
            "bar_style": "success",
            "max": 8,
            "_view_module": "@jupyter-widgets/controls",
            "_model_module_version": "1.5.0",
            "value": 8,
            "_view_count": null,
            "_view_module_version": "1.5.0",
            "orientation": "horizontal",
            "min": 0,
            "description_tooltip": null,
            "_model_module": "@jupyter-widgets/controls",
            "layout": "IPY_MODEL_596313ed34214956a3b5d94db236d2c5"
          }
        },
        "d15f3b9c07444c58b0b0ee1b427252c4": {
          "model_module": "@jupyter-widgets/controls",
          "model_name": "HTMLModel",
          "state": {
            "_view_name": "HTMLView",
            "style": "IPY_MODEL_cbab17299f1f439d9fe219c9309440d6",
            "_dom_classes": [],
            "description": "",
            "_model_name": "HTMLModel",
            "placeholder": "​",
            "_view_module": "@jupyter-widgets/controls",
            "_model_module_version": "1.5.0",
            "value": " 8/8 [00:00&lt;00:00, 12.71it/s]",
            "_view_count": null,
            "_view_module_version": "1.5.0",
            "description_tooltip": null,
            "_model_module": "@jupyter-widgets/controls",
            "layout": "IPY_MODEL_601d6d9a9ca24e69a9c8efd222a6b669"
          }
        },
        "b8bb9a77f70d4f4987a71d484499d06f": {
          "model_module": "@jupyter-widgets/controls",
          "model_name": "ProgressStyleModel",
          "state": {
            "_view_name": "StyleView",
            "_model_name": "ProgressStyleModel",
            "description_width": "initial",
            "_view_module": "@jupyter-widgets/base",
            "_model_module_version": "1.5.0",
            "_view_count": null,
            "_view_module_version": "1.2.0",
            "bar_color": null,
            "_model_module": "@jupyter-widgets/controls"
          }
        },
        "596313ed34214956a3b5d94db236d2c5": {
          "model_module": "@jupyter-widgets/base",
          "model_name": "LayoutModel",
          "state": {
            "_view_name": "LayoutView",
            "grid_template_rows": null,
            "right": null,
            "justify_content": null,
            "_view_module": "@jupyter-widgets/base",
            "overflow": null,
            "_model_module_version": "1.2.0",
            "_view_count": null,
            "flex_flow": null,
            "width": null,
            "min_width": null,
            "border": null,
            "align_items": null,
            "bottom": null,
            "_model_module": "@jupyter-widgets/base",
            "top": null,
            "grid_column": null,
            "overflow_y": null,
            "overflow_x": null,
            "grid_auto_flow": null,
            "grid_area": null,
            "grid_template_columns": null,
            "flex": null,
            "_model_name": "LayoutModel",
            "justify_items": null,
            "grid_row": null,
            "max_height": null,
            "align_content": null,
            "visibility": null,
            "align_self": null,
            "height": null,
            "min_height": null,
            "padding": null,
            "grid_auto_rows": null,
            "grid_gap": null,
            "max_width": null,
            "order": null,
            "_view_module_version": "1.2.0",
            "grid_template_areas": null,
            "object_position": null,
            "object_fit": null,
            "grid_auto_columns": null,
            "margin": null,
            "display": null,
            "left": null
          }
        },
        "cbab17299f1f439d9fe219c9309440d6": {
          "model_module": "@jupyter-widgets/controls",
          "model_name": "DescriptionStyleModel",
          "state": {
            "_view_name": "StyleView",
            "_model_name": "DescriptionStyleModel",
            "description_width": "",
            "_view_module": "@jupyter-widgets/base",
            "_model_module_version": "1.5.0",
            "_view_count": null,
            "_view_module_version": "1.2.0",
            "_model_module": "@jupyter-widgets/controls"
          }
        },
        "601d6d9a9ca24e69a9c8efd222a6b669": {
          "model_module": "@jupyter-widgets/base",
          "model_name": "LayoutModel",
          "state": {
            "_view_name": "LayoutView",
            "grid_template_rows": null,
            "right": null,
            "justify_content": null,
            "_view_module": "@jupyter-widgets/base",
            "overflow": null,
            "_model_module_version": "1.2.0",
            "_view_count": null,
            "flex_flow": null,
            "width": null,
            "min_width": null,
            "border": null,
            "align_items": null,
            "bottom": null,
            "_model_module": "@jupyter-widgets/base",
            "top": null,
            "grid_column": null,
            "overflow_y": null,
            "overflow_x": null,
            "grid_auto_flow": null,
            "grid_area": null,
            "grid_template_columns": null,
            "flex": null,
            "_model_name": "LayoutModel",
            "justify_items": null,
            "grid_row": null,
            "max_height": null,
            "align_content": null,
            "visibility": null,
            "align_self": null,
            "height": null,
            "min_height": null,
            "padding": null,
            "grid_auto_rows": null,
            "grid_gap": null,
            "max_width": null,
            "order": null,
            "_view_module_version": "1.2.0",
            "grid_template_areas": null,
            "object_position": null,
            "object_fit": null,
            "grid_auto_columns": null,
            "margin": null,
            "display": null,
            "left": null
          }
        }
      }
    }
  },
  "cells": [
    {
      "cell_type": "markdown",
      "metadata": {
        "id": "view-in-github",
        "colab_type": "text"
      },
      "source": [
        "<a href=\"https://colab.research.google.com/github/gregorio-saporito/hate-speech-detection/blob/main/main.ipynb\" target=\"_parent\"><img src=\"https://colab.research.google.com/assets/colab-badge.svg\" alt=\"Open In Colab\"/></a>"
      ]
    },
    {
      "cell_type": "markdown",
      "metadata": {
        "id": "dKdkB-QJUp0v"
      },
      "source": [
        "# Text Mining and Sentiment Analysis: Hate Speech Detection\n",
        "Gregorio Luigi Saporito - DSE (2020-2021)"
      ]
    },
    {
      "cell_type": "markdown",
      "metadata": {
        "id": "vRYdUTInUtbe"
      },
      "source": [
        "### Reproducibility"
      ]
    },
    {
      "cell_type": "code",
      "metadata": {
        "id": "HZqT-C_hUcIi"
      },
      "source": [
        "import os\n",
        "os.environ['PYTHONHASHSEED'] = '0'\n",
        "import numpy as np\n",
        "np.random.seed(123)\n",
        "import random as rn\n",
        "rn.seed(123)"
      ],
      "execution_count": 68,
      "outputs": []
    },
    {
      "cell_type": "markdown",
      "metadata": {
        "id": "STNwf5JOUxxQ"
      },
      "source": [
        "### Libraries"
      ]
    },
    {
      "cell_type": "code",
      "metadata": {
        "colab": {
          "base_uri": "https://localhost:8080/"
        },
        "id": "DBZT9v9IU0A5",
        "outputId": "648c66fe-5495-4427-d645-b1d347c08a80"
      },
      "source": [
        "!pip install text-preprocessing\n",
        "!pip install tweet-preprocessor\n",
        "!pip install -U nltk[twitter]\n",
        "!pip install joblib"
      ],
      "execution_count": 69,
      "outputs": [
        {
          "output_type": "stream",
          "text": [
            "Requirement already satisfied: text-preprocessing in /usr/local/lib/python3.7/dist-packages (0.1.0)\n",
            "Requirement already satisfied: names-dataset in /usr/local/lib/python3.7/dist-packages (from text-preprocessing) (2.0.1)\n",
            "Requirement already satisfied: pyspellchecker in /usr/local/lib/python3.7/dist-packages (from text-preprocessing) (0.6.2)\n",
            "Requirement already satisfied: unittest-xml-reporting in /usr/local/lib/python3.7/dist-packages (from text-preprocessing) (3.0.4)\n",
            "Requirement already satisfied: nltk in /usr/local/lib/python3.7/dist-packages (from text-preprocessing) (3.6.2)\n",
            "Requirement already satisfied: contractions in /usr/local/lib/python3.7/dist-packages (from text-preprocessing) (0.0.48)\n",
            "Requirement already satisfied: joblib in /usr/local/lib/python3.7/dist-packages (from nltk->text-preprocessing) (1.0.1)\n",
            "Requirement already satisfied: regex in /usr/local/lib/python3.7/dist-packages (from nltk->text-preprocessing) (2019.12.20)\n",
            "Requirement already satisfied: tqdm in /usr/local/lib/python3.7/dist-packages (from nltk->text-preprocessing) (4.41.1)\n",
            "Requirement already satisfied: click in /usr/local/lib/python3.7/dist-packages (from nltk->text-preprocessing) (8.0.0)\n",
            "Requirement already satisfied: textsearch>=0.0.21 in /usr/local/lib/python3.7/dist-packages (from contractions->text-preprocessing) (0.0.21)\n",
            "Requirement already satisfied: anyascii in /usr/local/lib/python3.7/dist-packages (from textsearch>=0.0.21->contractions->text-preprocessing) (0.2.0)\n",
            "Requirement already satisfied: pyahocorasick in /usr/local/lib/python3.7/dist-packages (from textsearch>=0.0.21->contractions->text-preprocessing) (1.4.2)\n",
            "Requirement already satisfied: tweet-preprocessor in /usr/local/lib/python3.7/dist-packages (0.6.0)\n",
            "Requirement already up-to-date: nltk[twitter] in /usr/local/lib/python3.7/dist-packages (3.6.2)\n",
            "Requirement already satisfied, skipping upgrade: joblib in /usr/local/lib/python3.7/dist-packages (from nltk[twitter]) (1.0.1)\n",
            "Requirement already satisfied, skipping upgrade: regex in /usr/local/lib/python3.7/dist-packages (from nltk[twitter]) (2019.12.20)\n",
            "Requirement already satisfied, skipping upgrade: tqdm in /usr/local/lib/python3.7/dist-packages (from nltk[twitter]) (4.41.1)\n",
            "Requirement already satisfied, skipping upgrade: click in /usr/local/lib/python3.7/dist-packages (from nltk[twitter]) (8.0.0)\n",
            "Requirement already satisfied, skipping upgrade: twython; extra == \"twitter\" in /usr/local/lib/python3.7/dist-packages (from nltk[twitter]) (3.8.2)\n",
            "Requirement already satisfied, skipping upgrade: requests-oauthlib>=0.4.0 in /usr/local/lib/python3.7/dist-packages (from twython; extra == \"twitter\"->nltk[twitter]) (1.3.0)\n",
            "Requirement already satisfied, skipping upgrade: requests>=2.1.0 in /usr/local/lib/python3.7/dist-packages (from twython; extra == \"twitter\"->nltk[twitter]) (2.23.0)\n",
            "Requirement already satisfied, skipping upgrade: oauthlib>=3.0.0 in /usr/local/lib/python3.7/dist-packages (from requests-oauthlib>=0.4.0->twython; extra == \"twitter\"->nltk[twitter]) (3.1.0)\n",
            "Requirement already satisfied, skipping upgrade: idna<3,>=2.5 in /usr/local/lib/python3.7/dist-packages (from requests>=2.1.0->twython; extra == \"twitter\"->nltk[twitter]) (2.10)\n",
            "Requirement already satisfied, skipping upgrade: certifi>=2017.4.17 in /usr/local/lib/python3.7/dist-packages (from requests>=2.1.0->twython; extra == \"twitter\"->nltk[twitter]) (2020.12.5)\n",
            "Requirement already satisfied, skipping upgrade: urllib3!=1.25.0,!=1.25.1,<1.26,>=1.21.1 in /usr/local/lib/python3.7/dist-packages (from requests>=2.1.0->twython; extra == \"twitter\"->nltk[twitter]) (1.24.3)\n",
            "Requirement already satisfied, skipping upgrade: chardet<4,>=3.0.2 in /usr/local/lib/python3.7/dist-packages (from requests>=2.1.0->twython; extra == \"twitter\"->nltk[twitter]) (3.0.4)\n",
            "Requirement already satisfied: joblib in /usr/local/lib/python3.7/dist-packages (1.0.1)\n"
          ],
          "name": "stdout"
        }
      ]
    },
    {
      "cell_type": "code",
      "metadata": {
        "id": "UegTOIZ-U4AS"
      },
      "source": [
        "from google.colab import files\n",
        "import pandas as pd\n",
        "import matplotlib.pyplot as plt\n",
        "import preprocessor as p\n",
        "from text_preprocessing import preprocess_text\n",
        "from text_preprocessing import to_lower, expand_contraction, remove_number, remove_punctuation, remove_whitespace, normalize_unicode, lemmatize_word\n",
        "from sklearn.model_selection import train_test_split\n",
        "from sklearn.feature_extraction.text import TfidfVectorizer\n",
        "from nltk.tokenize import word_tokenize\n",
        "from gensim.models.doc2vec import Doc2Vec, TaggedDocument\n",
        "import multiprocessing\n",
        "from tqdm import tqdm\n",
        "from sklearn import utils\n",
        "import nltk\n",
        "from nltk.sentiment import SentimentIntensityAnalyzer\n",
        "import numpy as np\n",
        "from sklearn.preprocessing import StandardScaler\n",
        "from sklearn.decomposition import TruncatedSVD\n",
        "from sklearn.linear_model import LogisticRegression\n",
        "from sklearn.model_selection import cross_val_score\n",
        "import statistics as st\n",
        "from sklearn.model_selection import StratifiedKFold\n",
        "from sklearn.metrics import accuracy_score\n",
        "from sklearn.pipeline import Pipeline\n",
        "from sklearn.model_selection import GridSearchCV\n",
        "from sklearn.feature_selection import SelectKBest\n",
        "from sklearn.feature_selection import f_classif, chi2, mutual_info_classif\n",
        "from sklearn.ensemble import RandomForestClassifier\n",
        "from sklearn.datasets import make_classification\n",
        "from sklearn.ensemble import AdaBoostClassifier, ExtraTreesClassifier\n",
        "from xgboost import XGBClassifier\n",
        "from sklearn.feature_selection import SelectFromModel\n",
        "from mlxtend.feature_selection import ColumnSelector\n",
        "from sklearn.base import BaseEstimator, TransformerMixin\n",
        "from sklearn.pipeline import FeatureUnion\n",
        "from sklearn.metrics import confusion_matrix, plot_confusion_matrix, balanced_accuracy_score\n",
        "from sklearn.neighbors import KNeighborsClassifier\n",
        "from sklearn.svm import SVC\n",
        "from sklearn.naive_bayes import MultinomialNB\n",
        "from sklearn.neural_network import MLPClassifier\n",
        "from sklearn.metrics import classification_report\n",
        "from itertools import chain\n",
        "from scipy.stats import pearsonr\n",
        "from itertools import cycle\n",
        "from sklearn.metrics import roc_curve, auc\n",
        "from sklearn.preprocessing import label_binarize\n",
        "from sklearn.metrics import roc_auc_score"
      ],
      "execution_count": 70,
      "outputs": []
    },
    {
      "cell_type": "code",
      "metadata": {
        "colab": {
          "base_uri": "https://localhost:8080/"
        },
        "id": "oK3rwPvuU6Kq",
        "outputId": "6e15b486-4805-465b-dd6f-e1fbd95806ad"
      },
      "source": [
        "nltk.download('vader_lexicon')"
      ],
      "execution_count": 71,
      "outputs": [
        {
          "output_type": "stream",
          "text": [
            "[nltk_data] Downloading package vader_lexicon to /root/nltk_data...\n",
            "[nltk_data]   Package vader_lexicon is already up-to-date!\n"
          ],
          "name": "stderr"
        },
        {
          "output_type": "execute_result",
          "data": {
            "text/plain": [
              "True"
            ]
          },
          "metadata": {
            "tags": []
          },
          "execution_count": 71
        }
      ]
    },
    {
      "cell_type": "markdown",
      "metadata": {
        "id": "niK1meqiU8zx"
      },
      "source": [
        "### Upload the data to session storage\n",
        "Upload here below the __labeled_data.csv__ file. The labels correspond to\n",
        "- 0: hate speech\n",
        "- 1: offensive language\n",
        "- 2: neither"
      ]
    },
    {
      "cell_type": "code",
      "metadata": {
        "colab": {
          "resources": {
            "http://localhost:8080/nbextensions/google.colab/files.js": {
              "data": "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",
              "ok": true,
              "headers": [
                [
                  "content-type",
                  "application/javascript"
                ]
              ],
              "status": 200,
              "status_text": ""
            }
          },
          "base_uri": "https://localhost:8080/",
          "height": 73
        },
        "id": "45PO_OsHU_kv",
        "outputId": "ad67ac3c-e858-4897-9704-85b565a1ca98"
      },
      "source": [
        "# upload here the .csv file \"labeled_data.csv\"\n",
        "uploaded = files.upload()"
      ],
      "execution_count": null,
      "outputs": [
        {
          "output_type": "display_data",
          "data": {
            "text/html": [
              "\n",
              "     <input type=\"file\" id=\"files-6a9e2844-ec37-487b-8b74-ff69de00592b\" name=\"files[]\" multiple disabled\n",
              "        style=\"border:none\" />\n",
              "     <output id=\"result-6a9e2844-ec37-487b-8b74-ff69de00592b\">\n",
              "      Upload widget is only available when the cell has been executed in the\n",
              "      current browser session. Please rerun this cell to enable.\n",
              "      </output>\n",
              "      <script src=\"/nbextensions/google.colab/files.js\"></script> "
            ],
            "text/plain": [
              "<IPython.core.display.HTML object>"
            ]
          },
          "metadata": {
            "tags": []
          }
        },
        {
          "output_type": "stream",
          "text": [
            "Saving labeled_data.csv to labeled_data.csv\n"
          ],
          "name": "stdout"
        }
      ]
    },
    {
      "cell_type": "code",
      "metadata": {
        "id": "vX4jMfeFVD8r"
      },
      "source": [
        "# read the csv file, select the columns of interest, and rename them\n",
        "fields = ['Unnamed: 0', 'class', 'tweet']\n",
        "raw = pd.read_csv('labeled_data.csv', usecols=fields)\\\n",
        "  .rename(columns={\"Unnamed: 0\": \"id\", \"class\": \"label\"})"
      ],
      "execution_count": 72,
      "outputs": []
    },
    {
      "cell_type": "markdown",
      "metadata": {
        "id": "f-yB5vpAVGSQ"
      },
      "source": [
        "### Inspect the data"
      ]
    },
    {
      "cell_type": "code",
      "metadata": {
        "colab": {
          "base_uri": "https://localhost:8080/",
          "height": 0
        },
        "id": "ulxxpvxrVJTC",
        "outputId": "67436b02-7332-4a71-e739-c09866bbac8d"
      },
      "source": [
        "# snapshot of the first rows\n",
        "raw.head()"
      ],
      "execution_count": 73,
      "outputs": [
        {
          "output_type": "execute_result",
          "data": {
            "text/html": [
              "<div>\n",
              "<style scoped>\n",
              "    .dataframe tbody tr th:only-of-type {\n",
              "        vertical-align: middle;\n",
              "    }\n",
              "\n",
              "    .dataframe tbody tr th {\n",
              "        vertical-align: top;\n",
              "    }\n",
              "\n",
              "    .dataframe thead th {\n",
              "        text-align: right;\n",
              "    }\n",
              "</style>\n",
              "<table border=\"1\" class=\"dataframe\">\n",
              "  <thead>\n",
              "    <tr style=\"text-align: right;\">\n",
              "      <th></th>\n",
              "      <th>id</th>\n",
              "      <th>label</th>\n",
              "      <th>tweet</th>\n",
              "    </tr>\n",
              "  </thead>\n",
              "  <tbody>\n",
              "    <tr>\n",
              "      <th>0</th>\n",
              "      <td>0</td>\n",
              "      <td>2</td>\n",
              "      <td>!!! RT @mayasolovely: As a woman you shouldn't...</td>\n",
              "    </tr>\n",
              "    <tr>\n",
              "      <th>1</th>\n",
              "      <td>1</td>\n",
              "      <td>1</td>\n",
              "      <td>!!!!! RT @mleew17: boy dats cold...tyga dwn ba...</td>\n",
              "    </tr>\n",
              "    <tr>\n",
              "      <th>2</th>\n",
              "      <td>2</td>\n",
              "      <td>1</td>\n",
              "      <td>!!!!!!! RT @UrKindOfBrand Dawg!!!! RT @80sbaby...</td>\n",
              "    </tr>\n",
              "    <tr>\n",
              "      <th>3</th>\n",
              "      <td>3</td>\n",
              "      <td>1</td>\n",
              "      <td>!!!!!!!!! RT @C_G_Anderson: @viva_based she lo...</td>\n",
              "    </tr>\n",
              "    <tr>\n",
              "      <th>4</th>\n",
              "      <td>4</td>\n",
              "      <td>1</td>\n",
              "      <td>!!!!!!!!!!!!! RT @ShenikaRoberts: The shit you...</td>\n",
              "    </tr>\n",
              "  </tbody>\n",
              "</table>\n",
              "</div>"
            ],
            "text/plain": [
              "   id  label                                              tweet\n",
              "0   0      2  !!! RT @mayasolovely: As a woman you shouldn't...\n",
              "1   1      1  !!!!! RT @mleew17: boy dats cold...tyga dwn ba...\n",
              "2   2      1  !!!!!!! RT @UrKindOfBrand Dawg!!!! RT @80sbaby...\n",
              "3   3      1  !!!!!!!!! RT @C_G_Anderson: @viva_based she lo...\n",
              "4   4      1  !!!!!!!!!!!!! RT @ShenikaRoberts: The shit you..."
            ]
          },
          "metadata": {
            "tags": []
          },
          "execution_count": 73
        }
      ]
    },
    {
      "cell_type": "code",
      "metadata": {
        "colab": {
          "base_uri": "https://localhost:8080/"
        },
        "id": "9OO4wKYEVLn8",
        "outputId": "f3511bdb-aff3-41aa-b49b-a0b69ccb26ba"
      },
      "source": [
        "# size of the dataset\n",
        "raw.shape"
      ],
      "execution_count": 74,
      "outputs": [
        {
          "output_type": "execute_result",
          "data": {
            "text/plain": [
              "(24783, 3)"
            ]
          },
          "metadata": {
            "tags": []
          },
          "execution_count": 74
        }
      ]
    },
    {
      "cell_type": "code",
      "metadata": {
        "colab": {
          "base_uri": "https://localhost:8080/"
        },
        "id": "340LzX6lVNv-",
        "outputId": "7986855f-552e-43cd-8135-857c8e1170ed"
      },
      "source": [
        "# inspect the presence of missing values\n",
        "print(\n",
        "    'Check for null values\\n' +\n",
        "    str(raw.isnull().sum()) + '\\n'\n",
        "    'Check for na values\\n' +\n",
        "    str(raw.isna().sum())\n",
        ")"
      ],
      "execution_count": 75,
      "outputs": [
        {
          "output_type": "stream",
          "text": [
            "Check for null values\n",
            "id       0\n",
            "label    0\n",
            "tweet    0\n",
            "dtype: int64\n",
            "Check for na values\n",
            "id       0\n",
            "label    0\n",
            "tweet    0\n",
            "dtype: int64\n"
          ],
          "name": "stdout"
        }
      ]
    },
    {
      "cell_type": "code",
      "metadata": {
        "colab": {
          "base_uri": "https://localhost:8080/",
          "height": 0
        },
        "id": "b246NMuvVP-D",
        "outputId": "a314aee0-42cb-409f-d48c-a2fbdba9f8cb"
      },
      "source": [
        "# inspect the classes' frequency\n",
        "raw['label'].replace(0,'Hate').replace(1,'Offensive').replace(2,'Neither')\\\n",
        "  .value_counts(normalize=True).plot.pie(autopct='%1.0f%%')\n",
        "plt.title('Labels Frequency')\n",
        "plt.savefig('figure_1.png', dpi=200, transparent=True)\n",
        "plt.show()"
      ],
      "execution_count": 76,
      "outputs": [
        {
          "output_type": "display_data",
          "data": {
            "image/png": "[encoded data removed]",
            "text/plain": [
              "<Figure size 432x288 with 1 Axes>"
            ]
          },
          "metadata": {
            "tags": []
          }
        }
      ]
    },
    {
      "cell_type": "markdown",
      "metadata": {
        "id": "Ar9ilO--VR-X"
      },
      "source": [
        "### Preprocessing text"
      ]
    },
    {
      "cell_type": "code",
      "metadata": {
        "id": "JxCvG4oLVTUy"
      },
      "source": [
        "# normalise tags, URLS, emoji, and smiley\n",
        "# the hashtags are left out because they could contain hate speech to detect\n",
        "p.set_options(p.OPT.MENTION, p.OPT.URL, p.OPT.EMOJI, p.OPT.SMILEY)\n",
        "raw['normalised'] = [p.tokenize(x) for x in raw['tweet']]\n",
        "\n",
        "# Preprocess text using custom preprocess functions in the pipeline\n",
        "def preprocess_txt(x):\n",
        "  preprocess_functions = [to_lower, expand_contraction, remove_number, remove_punctuation,\n",
        "                          remove_whitespace, normalize_unicode, lemmatize_word]\n",
        "  preprocessed_text = preprocess_text(x, preprocess_functions)\n",
        "  return preprocessed_text.replace(\"rt \", \"\").strip()\n",
        "\n",
        "raw['cleaned'] = [preprocess_txt(x) for x in raw['normalised']]"
      ],
      "execution_count": 77,
      "outputs": []
    },
    {
      "cell_type": "markdown",
      "metadata": {
        "id": "RA6dME_RVW5x"
      },
      "source": [
        "### Train Test Split"
      ]
    },
    {
      "cell_type": "code",
      "metadata": {
        "id": "t2jgJ1_uVWqH"
      },
      "source": [
        "X_train, X_test, y_train, y_test = train_test_split(raw['cleaned'], raw['label'], test_size=0.1, random_state=123)"
      ],
      "execution_count": 78,
      "outputs": []
    },
    {
      "cell_type": "markdown",
      "metadata": {
        "id": "LGlxaeTpVbM3"
      },
      "source": [
        "### Doc2vec Custom Transformer"
      ]
    },
    {
      "cell_type": "code",
      "metadata": {
        "id": "XheEwJARVcdC"
      },
      "source": [
        "class Doc2VecTransformer(BaseEstimator):\n",
        "\n",
        "    def __init__(self, dm=1, size=1, window=1):\n",
        "        self.d2v_model = None\n",
        "        self.size = size\n",
        "        self.window = window\n",
        "        self.dm = dm\n",
        "\n",
        "    def fit(self, raw_documents, y=None):\n",
        "        # Initialize model\n",
        "        self.d2v_model = Doc2Vec(workers=1, seed=123)\n",
        "        # Tag docs\n",
        "        tagged_documents = []\n",
        "        for index, row in raw_documents.iteritems():\n",
        "            tag = '{}_{}'.format(\"type\", index)\n",
        "            tokens = row.split()\n",
        "            tagged_documents.append(TaggedDocument(words=tokens, tags=[tag]))\n",
        "        # Build vocabulary\n",
        "        self.d2v_model.build_vocab(tagged_documents)\n",
        "        # Train model\n",
        "        self.d2v_model.train(tagged_documents, total_examples=len(tagged_documents), epochs=self.d2v_model.epochs)\n",
        "        return self\n",
        "\n",
        "    def transform(self, raw_documents):\n",
        "        X = []\n",
        "        for index, row in raw_documents.iteritems():\n",
        "            X.append(self.d2v_model.infer_vector(row))\n",
        "        X = pd.DataFrame(X, index=raw_documents.index)\n",
        "        return X\n",
        "        \n",
        "    def fit_transform(self, raw_documents, y=None):\n",
        "        self.fit(raw_documents)\n",
        "        return self.transform(raw_documents)"
      ],
      "execution_count": 79,
      "outputs": []
    },
    {
      "cell_type": "markdown",
      "metadata": {
        "id": "ffshyoirVeX-"
      },
      "source": [
        "### Sentiment Custom Transformer"
      ]
    },
    {
      "cell_type": "code",
      "metadata": {
        "id": "oSkJ6yuHVhlJ"
      },
      "source": [
        "class SentimentTransformer( BaseEstimator, TransformerMixin ):\n",
        "    \n",
        "    # Class Constructor \n",
        "    def __init__( self ):\n",
        "        return\n",
        "    \n",
        "    # Return self nothing else to do here    \n",
        "    def fit( self, X, y = None ):\n",
        "        return self \n",
        "        \n",
        "    # Method that describes what we need this transformer to do i.e.\n",
        "    # returning length, digits and punctuations in the 'text' column in data frame\n",
        "    def transform( self, X, y = None ):\n",
        "      sia = SentimentIntensityAnalyzer()\n",
        "\n",
        "      f           = pd.DataFrame()\n",
        "      f['neg']    = [sia.polarity_scores(x)['neg'] for x in X]\n",
        "      f['neu']    = [sia.polarity_scores(x)['neu'] for x in X]\n",
        "      f['pos']    = [sia.polarity_scores(x)['pos'] for x in X]\n",
        "      return f[['neg','neu','pos']]"
      ],
      "execution_count": 80,
      "outputs": []
    },
    {
      "cell_type": "markdown",
      "metadata": {
        "id": "r9dAsNHnVjzI"
      },
      "source": [
        "### Dense Transformer"
      ]
    },
    {
      "cell_type": "code",
      "metadata": {
        "id": "wPA-47BpVlpo"
      },
      "source": [
        "class DenseTransformer(TransformerMixin):\n",
        "\n",
        "    def fit(self, X, y=None, **fit_params):\n",
        "        return self\n",
        "\n",
        "    def transform(self, X, y=None, **fit_params):\n",
        "        return X.todense()"
      ],
      "execution_count": 81,
      "outputs": []
    },
    {
      "cell_type": "markdown",
      "metadata": {
        "id": "AkBTZhPCVpuX"
      },
      "source": [
        "### 1) Latent Semantic Analysis (LSA) and Logistic Classifier"
      ]
    },
    {
      "cell_type": "code",
      "metadata": {
        "colab": {
          "base_uri": "https://localhost:8080/"
        },
        "id": "lLVvRGiyVsp6",
        "outputId": "7022f8e0-6682-4f95-f72f-336bdb89e3d4"
      },
      "source": [
        "# vectoriser\n",
        "tfidf = TfidfVectorizer(sublinear_tf=True, use_idf=True).fit_transform(X_train)\n",
        "# check the shape\n",
        "print('TF-IDF shape: ' + str(tfidf.shape))"
      ],
      "execution_count": null,
      "outputs": [
        {
          "output_type": "stream",
          "text": [
            "TF-IDF shape: (22304, 19165)\n"
          ],
          "name": "stdout"
        }
      ]
    },
    {
      "cell_type": "code",
      "metadata": {
        "colab": {
          "base_uri": "https://localhost:8080/",
          "height": 295
        },
        "id": "DFIT8nybVuh4",
        "outputId": "862a4129-6475-441d-de5b-89909ac01bf5"
      },
      "source": [
        "# TruncatedSVD\n",
        "svd = TruncatedSVD(n_components=200, random_state=123).fit(tfidf)\n",
        "# plot singular values to have an idea of how many components to select\n",
        "fig = plt.figure()\n",
        "ax = plt.axes()\n",
        "ax.plot(range(1,201), svd.singular_values_)\n",
        "plt.title('Singular Values from TruncatedSVD')\n",
        "plt.xlabel('Components')\n",
        "plt.ylabel('Singular Values')\n",
        "plt.savefig('figure_2.png', dpi=200, transparent=True)\n",
        "plt.show()"
      ],
      "execution_count": null,
      "outputs": [
        {
          "output_type": "display_data",
          "data": {
            "image/png": "[encoded data removed]",
            "text/plain": [
              "<Figure size 432x288 with 1 Axes>"
            ]
          },
          "metadata": {
            "tags": [],
            "needs_background": "light"
          }
        }
      ]
    },
    {
      "cell_type": "code",
      "metadata": {
        "colab": {
          "base_uri": "https://localhost:8080/"
        },
        "id": "o5uCSAeCVwsC",
        "outputId": "a4e64fd3-ff2b-42f6-b1ea-2354b771a933"
      },
      "source": [
        "# build pipeline\n",
        "pipe = Pipeline([\n",
        "    ('tfidf', TfidfVectorizer(sublinear_tf=True, use_idf=True)),\n",
        "    ('lsa', TruncatedSVD(random_state=123)),\n",
        "    ('logistic', LogisticRegression(max_iter=10000, class_weight='balanced', random_state=123)),\n",
        "])\n",
        "\n",
        "# test some components to select\n",
        "param_grid = {'lsa__n_components': [100, 1000, 2000]}\n",
        "\n",
        "log_grid = GridSearchCV(pipe, \n",
        "                        param_grid=param_grid,\n",
        "                        scoring=\"balanced_accuracy\",\n",
        "                        verbose=3,\n",
        "                        n_jobs=1,\n",
        "                        cv = 3)\n",
        "\n",
        "fitted = log_grid.fit(X_train, y_train)\n",
        "\n",
        "# Best parameters\n",
        "print(\"Best Parameters: {}\\n\".format(log_grid.best_params_))\n",
        "print(\"Best accuracy: {}\\n\".format(log_grid.best_score_))\n",
        "print(\"Finished.\")"
      ],
      "execution_count": null,
      "outputs": [
        {
          "output_type": "stream",
          "text": [
            "Fitting 3 folds for each of 3 candidates, totalling 9 fits\n",
            "[CV] lsa__n_components=100 ...........................................\n"
          ],
          "name": "stdout"
        },
        {
          "output_type": "stream",
          "text": [
            "[Parallel(n_jobs=1)]: Using backend SequentialBackend with 1 concurrent workers.\n"
          ],
          "name": "stderr"
        },
        {
          "output_type": "stream",
          "text": [
            "[CV] ............... lsa__n_components=100, score=0.767, total=   3.5s\n",
            "[CV] lsa__n_components=100 ...........................................\n"
          ],
          "name": "stdout"
        },
        {
          "output_type": "stream",
          "text": [
            "[Parallel(n_jobs=1)]: Done   1 out of   1 | elapsed:    3.5s remaining:    0.0s\n"
          ],
          "name": "stderr"
        },
        {
          "output_type": "stream",
          "text": [
            "[CV] ............... lsa__n_components=100, score=0.761, total=   3.5s\n",
            "[CV] lsa__n_components=100 ...........................................\n"
          ],
          "name": "stdout"
        },
        {
          "output_type": "stream",
          "text": [
            "[Parallel(n_jobs=1)]: Done   2 out of   2 | elapsed:    7.0s remaining:    0.0s\n"
          ],
          "name": "stderr"
        },
        {
          "output_type": "stream",
          "text": [
            "[CV] ............... lsa__n_components=100, score=0.771, total=   3.6s\n",
            "[CV] lsa__n_components=1000 ..........................................\n",
            "[CV] .............. lsa__n_components=1000, score=0.795, total=  37.2s\n",
            "[CV] lsa__n_components=1000 ..........................................\n",
            "[CV] .............. lsa__n_components=1000, score=0.800, total=  37.4s\n",
            "[CV] lsa__n_components=1000 ..........................................\n",
            "[CV] .............. lsa__n_components=1000, score=0.805, total=  37.4s\n",
            "[CV] lsa__n_components=2000 ..........................................\n",
            "[CV] .............. lsa__n_components=2000, score=0.797, total= 1.6min\n",
            "[CV] lsa__n_components=2000 ..........................................\n",
            "[CV] .............. lsa__n_components=2000, score=0.797, total= 1.6min\n",
            "[CV] lsa__n_components=2000 ..........................................\n",
            "[CV] .............. lsa__n_components=2000, score=0.803, total= 1.7min\n"
          ],
          "name": "stdout"
        },
        {
          "output_type": "stream",
          "text": [
            "[Parallel(n_jobs=1)]: Done   9 out of   9 | elapsed:  6.9min finished\n"
          ],
          "name": "stderr"
        },
        {
          "output_type": "stream",
          "text": [
            "Best Parameters: {'lsa__n_components': 1000}\n",
            "\n",
            "Best accuracy: 0.8001275086013887\n",
            "\n",
            "Finished.\n"
          ],
          "name": "stdout"
        }
      ]
    },
    {
      "cell_type": "code",
      "metadata": {
        "colab": {
          "base_uri": "https://localhost:8080/"
        },
        "id": "nBmoFTvuWDgx",
        "outputId": "9db1f33a-a31e-4c2d-a38b-9668d13be285"
      },
      "source": [
        "# final evaluation after parameter tuning\n",
        "y_pred = fitted.predict(X_test)\n",
        "balanced_accuracy_score(y_test,y_pred)"
      ],
      "execution_count": null,
      "outputs": [
        {
          "output_type": "execute_result",
          "data": {
            "text/plain": [
              "0.8086370644663581"
            ]
          },
          "metadata": {
            "tags": []
          },
          "execution_count": 19
        }
      ]
    },
    {
      "cell_type": "markdown",
      "metadata": {
        "id": "XahANYLjWIl2"
      },
      "source": [
        "### 2) Rich Feature Extraction (mixed), Feature Selection, Regularisation, and Logistic Classifier\n",
        "A richer feature extraction is considered including the:\n",
        "- TF-IDF transformer\n",
        "- Doc2vec custom transformer\n",
        "- Sentiment polarity custom transformer"
      ]
    },
    {
      "cell_type": "code",
      "metadata": {
        "colab": {
          "base_uri": "https://localhost:8080/"
        },
        "id": "l8ZoNjcbWKpl",
        "outputId": "0181cfd1-c5e4-4438-e011-1b9dc880a227"
      },
      "source": [
        "# build pipeline\n",
        "pipe = Pipeline([\n",
        "  ('extract',\n",
        "    FeatureUnion([\n",
        "      ('tfidf', TfidfVectorizer(sublinear_tf=True, use_idf=True)),\n",
        "      ('doc2vec', Doc2VecTransformer()),\n",
        "      ('sentiment', SentimentTransformer())\n",
        "    ])),\n",
        "  ('select', SelectKBest(score_func = f_classif)),\n",
        "  ('to_dense', DenseTransformer()),\n",
        "  ('scale', StandardScaler()),\n",
        "  ('logistic', LogisticRegression(max_iter=1000, class_weight='balanced', random_state=123, penalty='l2'))\n",
        "])\n",
        "\n",
        "# test some parameters (number of features and regularisation)\n",
        "param_grid = {'select__k': [200, 300, 500]\n",
        "}\n",
        "\n",
        "log_grid = GridSearchCV(pipe, \n",
        "                        param_grid=param_grid,\n",
        "                        scoring=\"balanced_accuracy\",\n",
        "                        verbose=3,\n",
        "                        n_jobs=1,\n",
        "                        cv = 3)\n",
        "\n",
        "fitted = log_grid.fit(X_train, y_train)\n",
        "\n",
        "# Best parameters\n",
        "print(\"Best Parameters: {}\\n\".format(log_grid.best_params_))\n",
        "print(\"Best accuracy: {}\\n\".format(log_grid.best_score_))\n",
        "print(\"Finished.\")"
      ],
      "execution_count": null,
      "outputs": [
        {
          "output_type": "stream",
          "text": [
            "Fitting 3 folds for each of 3 candidates, totalling 9 fits\n",
            "[CV] select__k=200 ...................................................\n"
          ],
          "name": "stdout"
        },
        {
          "output_type": "stream",
          "text": [
            "[Parallel(n_jobs=1)]: Using backend SequentialBackend with 1 concurrent workers.\n"
          ],
          "name": "stderr"
        },
        {
          "output_type": "stream",
          "text": [
            "[CV] ....................... select__k=200, score=0.787, total=  59.5s\n",
            "[CV] select__k=200 ...................................................\n"
          ],
          "name": "stdout"
        },
        {
          "output_type": "stream",
          "text": [
            "[Parallel(n_jobs=1)]: Done   1 out of   1 | elapsed:   59.5s remaining:    0.0s\n"
          ],
          "name": "stderr"
        },
        {
          "output_type": "stream",
          "text": [
            "[CV] ....................... select__k=200, score=0.778, total=  58.8s\n",
            "[CV] select__k=200 ...................................................\n"
          ],
          "name": "stdout"
        },
        {
          "output_type": "stream",
          "text": [
            "[Parallel(n_jobs=1)]: Done   2 out of   2 | elapsed:  2.0min remaining:    0.0s\n"
          ],
          "name": "stderr"
        },
        {
          "output_type": "stream",
          "text": [
            "[CV] ....................... select__k=200, score=0.799, total=  57.8s\n",
            "[CV] select__k=300 ...................................................\n",
            "[CV] ....................... select__k=300, score=0.806, total= 1.1min\n",
            "[CV] select__k=300 ...................................................\n",
            "[CV] ....................... select__k=300, score=0.792, total= 1.1min\n",
            "[CV] select__k=300 ...................................................\n",
            "[CV] ....................... select__k=300, score=0.809, total= 1.0min\n",
            "[CV] select__k=500 ...................................................\n",
            "[CV] ....................... select__k=500, score=0.785, total= 1.3min\n",
            "[CV] select__k=500 ...................................................\n",
            "[CV] ....................... select__k=500, score=0.787, total= 1.2min\n",
            "[CV] select__k=500 ...................................................\n",
            "[CV] ....................... select__k=500, score=0.797, total= 1.3min\n"
          ],
          "name": "stdout"
        },
        {
          "output_type": "stream",
          "text": [
            "[Parallel(n_jobs=1)]: Done   9 out of   9 | elapsed:  9.9min finished\n"
          ],
          "name": "stderr"
        },
        {
          "output_type": "stream",
          "text": [
            "Best Parameters: {'select__k': 300}\n",
            "\n",
            "Best accuracy: 0.8022918597875366\n",
            "\n",
            "Finished.\n"
          ],
          "name": "stdout"
        }
      ]
    },
    {
      "cell_type": "code",
      "metadata": {
        "colab": {
          "base_uri": "https://localhost:8080/"
        },
        "id": "iAr-c3dlWNQy",
        "outputId": "170f1335-afc6-435d-9216-b29c2b1a845f"
      },
      "source": [
        "# final evaluation after parameter tuning\n",
        "y_pred = fitted.predict(X_test)\n",
        "balanced_accuracy_score(y_test,y_pred)"
      ],
      "execution_count": null,
      "outputs": [
        {
          "output_type": "execute_result",
          "data": {
            "text/plain": [
              "0.8024294031581304"
            ]
          },
          "metadata": {
            "tags": []
          },
          "execution_count": 21
        }
      ]
    },
    {
      "cell_type": "markdown",
      "metadata": {
        "id": "Pm0Aw39fWPIp"
      },
      "source": [
        "### 3) Random Forest"
      ]
    },
    {
      "cell_type": "code",
      "metadata": {
        "colab": {
          "base_uri": "https://localhost:8080/"
        },
        "id": "UygvXwVqWQCZ",
        "outputId": "fb39d62d-02b9-4c2a-ef18-8a9ba5863e94"
      },
      "source": [
        "# build pipeline\n",
        "pipe = Pipeline([\n",
        "  ('extract',\n",
        "    FeatureUnion([\n",
        "      ('tfidf', TfidfVectorizer(sublinear_tf=True, use_idf=True)),\n",
        "      ('doc2vec', Doc2VecTransformer()),\n",
        "      ('sentiment', SentimentTransformer())\n",
        "    ])),\n",
        "  ('select', SelectKBest(score_func = f_classif)),\n",
        "  ('tree', RandomForestClassifier(n_estimators=50, random_state=123))\n",
        "])\n",
        "\n",
        "# test some parameters\n",
        "param_grid = {'select__k': [300, 500]}\n",
        "\n",
        "grid = GridSearchCV(pipe,\n",
        "                    param_grid=param_grid,\n",
        "                    scoring=\"balanced_accuracy\",\n",
        "                    verbose=3,\n",
        "                    n_jobs=1,\n",
        "                    cv = 3)\n",
        "\n",
        "fitted = grid.fit(X_train, y_train)\n",
        "\n",
        "# Best parameters\n",
        "print(\"Best Parameters: {}\\n\".format(grid.best_params_))\n",
        "print(\"Best accuracy: {}\\n\".format(grid.best_score_))\n",
        "print(\"Finished.\")"
      ],
      "execution_count": null,
      "outputs": [
        {
          "output_type": "stream",
          "text": [
            "Fitting 3 folds for each of 2 candidates, totalling 6 fits\n",
            "[CV] select__k=300 ...................................................\n"
          ],
          "name": "stdout"
        },
        {
          "output_type": "stream",
          "text": [
            "[Parallel(n_jobs=1)]: Using backend SequentialBackend with 1 concurrent workers.\n"
          ],
          "name": "stderr"
        },
        {
          "output_type": "stream",
          "text": [
            "[CV] ....................... select__k=300, score=0.573, total= 1.0min\n",
            "[CV] select__k=300 ...................................................\n"
          ],
          "name": "stdout"
        },
        {
          "output_type": "stream",
          "text": [
            "[Parallel(n_jobs=1)]: Done   1 out of   1 | elapsed:  1.0min remaining:    0.0s\n"
          ],
          "name": "stderr"
        },
        {
          "output_type": "stream",
          "text": [
            "[CV] ....................... select__k=300, score=0.554, total= 1.1min\n",
            "[CV] select__k=300 ...................................................\n"
          ],
          "name": "stdout"
        },
        {
          "output_type": "stream",
          "text": [
            "[Parallel(n_jobs=1)]: Done   2 out of   2 | elapsed:  2.1min remaining:    0.0s\n"
          ],
          "name": "stderr"
        },
        {
          "output_type": "stream",
          "text": [
            "[CV] ....................... select__k=300, score=0.574, total= 1.0min\n",
            "[CV] select__k=500 ...................................................\n",
            "[CV] ....................... select__k=500, score=0.551, total= 1.0min\n",
            "[CV] select__k=500 ...................................................\n",
            "[CV] ....................... select__k=500, score=0.539, total= 1.0min\n",
            "[CV] select__k=500 ...................................................\n",
            "[CV] ....................... select__k=500, score=0.557, total= 1.0min\n"
          ],
          "name": "stdout"
        },
        {
          "output_type": "stream",
          "text": [
            "[Parallel(n_jobs=1)]: Done   6 out of   6 | elapsed:  6.2min finished\n"
          ],
          "name": "stderr"
        },
        {
          "output_type": "stream",
          "text": [
            "Best Parameters: {'select__k': 300}\n",
            "\n",
            "Best accuracy: 0.5669822999803182\n",
            "\n",
            "Finished.\n"
          ],
          "name": "stdout"
        }
      ]
    },
    {
      "cell_type": "code",
      "metadata": {
        "colab": {
          "base_uri": "https://localhost:8080/"
        },
        "id": "jGp11YGsWXPJ",
        "outputId": "9b94036c-1deb-4ec9-c0b0-45b92cdadd0f"
      },
      "source": [
        "# final evaluation after parameter tuning\n",
        "y_pred = fitted.predict(X_test)\n",
        "balanced_accuracy_score(y_test,y_pred)"
      ],
      "execution_count": null,
      "outputs": [
        {
          "output_type": "execute_result",
          "data": {
            "text/plain": [
              "0.5684040730580847"
            ]
          },
          "metadata": {
            "tags": []
          },
          "execution_count": 23
        }
      ]
    },
    {
      "cell_type": "markdown",
      "metadata": {
        "id": "zX4MlEFdWYQs"
      },
      "source": [
        "### 4) XGBoost\n"
      ]
    },
    {
      "cell_type": "code",
      "metadata": {
        "colab": {
          "base_uri": "https://localhost:8080/"
        },
        "id": "3YbqG2lLWaOE",
        "outputId": "53353089-f5ec-4e1f-b5b2-df61f03baaa9"
      },
      "source": [
        "# build pipeline\n",
        "pipe = Pipeline([\n",
        "  ('extract',\n",
        "    FeatureUnion([\n",
        "      ('tfidf', TfidfVectorizer(sublinear_tf=True, use_idf=True)),\n",
        "      ('doc2vec', Doc2VecTransformer()),\n",
        "      ('sentiment', SentimentTransformer())\n",
        "    ])),\n",
        "  ('select', SelectKBest(score_func = f_classif, k=300)),\n",
        "  ('to_dense', DenseTransformer()),\n",
        "  ('scale', StandardScaler()),\n",
        "  ('xgb',  XGBClassifier(random_state=123, objective= 'multi:softprob',tree_method='hist'))\n",
        "])\n",
        "\n",
        "# test some parameters\n",
        "param_grid = {'xgb__max_depth': [3, 6]}\n",
        "\n",
        "grid = GridSearchCV(pipe,\n",
        "                    param_grid=param_grid,\n",
        "                    scoring=\"balanced_accuracy\",\n",
        "                    verbose=3,\n",
        "                    n_jobs=1,\n",
        "                    cv = 3)\n",
        "\n",
        "fitted = grid.fit(X_train, y_train)\n",
        "\n",
        "# Best parameters\n",
        "print(\"Best Parameters: {}\\n\".format(grid.best_params_))\n",
        "print(\"Best accuracy: {}\\n\".format(grid.best_score_))\n",
        "print(\"Finished.\")"
      ],
      "execution_count": null,
      "outputs": [
        {
          "output_type": "stream",
          "text": [
            "Fitting 3 folds for each of 2 candidates, totalling 6 fits\n",
            "[CV] xgb__max_depth=3 ................................................\n"
          ],
          "name": "stdout"
        },
        {
          "output_type": "stream",
          "text": [
            "[Parallel(n_jobs=1)]: Using backend SequentialBackend with 1 concurrent workers.\n"
          ],
          "name": "stderr"
        },
        {
          "output_type": "stream",
          "text": [
            "[CV] .................... xgb__max_depth=3, score=0.647, total=  59.6s\n",
            "[CV] xgb__max_depth=3 ................................................\n"
          ],
          "name": "stdout"
        },
        {
          "output_type": "stream",
          "text": [
            "[Parallel(n_jobs=1)]: Done   1 out of   1 | elapsed:   59.6s remaining:    0.0s\n"
          ],
          "name": "stderr"
        },
        {
          "output_type": "stream",
          "text": [
            "[CV] .................... xgb__max_depth=3, score=0.640, total=  59.2s\n",
            "[CV] xgb__max_depth=3 ................................................\n"
          ],
          "name": "stdout"
        },
        {
          "output_type": "stream",
          "text": [
            "[Parallel(n_jobs=1)]: Done   2 out of   2 | elapsed:  2.0min remaining:    0.0s\n"
          ],
          "name": "stderr"
        },
        {
          "output_type": "stream",
          "text": [
            "[CV] .................... xgb__max_depth=3, score=0.670, total=  59.4s\n",
            "[CV] xgb__max_depth=6 ................................................\n",
            "[CV] .................... xgb__max_depth=6, score=0.674, total= 1.2min\n",
            "[CV] xgb__max_depth=6 ................................................\n",
            "[CV] .................... xgb__max_depth=6, score=0.669, total= 1.2min\n",
            "[CV] xgb__max_depth=6 ................................................\n",
            "[CV] .................... xgb__max_depth=6, score=0.687, total= 1.2min\n"
          ],
          "name": "stdout"
        },
        {
          "output_type": "stream",
          "text": [
            "[Parallel(n_jobs=1)]: Done   6 out of   6 | elapsed:  6.5min finished\n"
          ],
          "name": "stderr"
        },
        {
          "output_type": "stream",
          "text": [
            "Best Parameters: {'xgb__max_depth': 6}\n",
            "\n",
            "Best accuracy: 0.6765121291593603\n",
            "\n",
            "Finished.\n"
          ],
          "name": "stdout"
        }
      ]
    },
    {
      "cell_type": "code",
      "metadata": {
        "colab": {
          "base_uri": "https://localhost:8080/"
        },
        "id": "8Fh-qsqBWg6q",
        "outputId": "fa7313c4-8861-4799-d48a-68ed01d8ddad"
      },
      "source": [
        "# final evaluation after parameter tuning\n",
        "y_pred = fitted.predict(X_test)\n",
        "balanced_accuracy_score(y_test,y_pred)"
      ],
      "execution_count": null,
      "outputs": [
        {
          "output_type": "execute_result",
          "data": {
            "text/plain": [
              "0.6778559448255498"
            ]
          },
          "metadata": {
            "tags": []
          },
          "execution_count": 25
        }
      ]
    },
    {
      "cell_type": "markdown",
      "metadata": {
        "id": "xHQUVKjMWinZ"
      },
      "source": [
        "### 5) Support Vector Machine"
      ]
    },
    {
      "cell_type": "code",
      "metadata": {
        "colab": {
          "base_uri": "https://localhost:8080/"
        },
        "id": "rfNtKrLOWkc6",
        "outputId": "8644b465-cf5f-4c35-aca7-a908bd1b573c"
      },
      "source": [
        "# support vector machine\n",
        "pipe = Pipeline([\n",
        "  ('extract',\n",
        "    FeatureUnion([\n",
        "      ('tfidf', TfidfVectorizer(sublinear_tf=True, use_idf=True)),\n",
        "      ('doc2vec', Doc2VecTransformer()),\n",
        "      ('sentiment', SentimentTransformer())\n",
        "    ])),\n",
        "  ('select', SelectKBest(score_func = f_classif, k=300)),\n",
        "  ('to_dense', DenseTransformer()),\n",
        "  ('scale', StandardScaler()),\n",
        "  ('svc',  SVC(random_state=123))\n",
        "])\n",
        "\n",
        "# test some parameters\n",
        "param_grid = {'svc__class_weight': ['balanced', 'None']}\n",
        "\n",
        "grid = GridSearchCV(pipe,\n",
        "                    param_grid=param_grid,\n",
        "                    scoring=\"balanced_accuracy\",\n",
        "                    verbose=3,\n",
        "                    n_jobs=1,\n",
        "                    cv = 3)\n",
        "\n",
        "fitted = grid.fit(X_train, y_train)\n",
        "\n",
        "# Best parameters\n",
        "print(\"Best Parameters: {}\\n\".format(grid.best_params_))\n",
        "print(\"Best accuracy: {}\\n\".format(grid.best_score_))\n",
        "print(\"Finished.\")"
      ],
      "execution_count": null,
      "outputs": [
        {
          "output_type": "stream",
          "text": [
            "Fitting 3 folds for each of 2 candidates, totalling 6 fits\n",
            "[CV] svc__class_weight=balanced ......................................\n"
          ],
          "name": "stdout"
        },
        {
          "output_type": "stream",
          "text": [
            "[Parallel(n_jobs=1)]: Using backend SequentialBackend with 1 concurrent workers.\n"
          ],
          "name": "stderr"
        },
        {
          "output_type": "stream",
          "text": [
            "[CV] .......... svc__class_weight=balanced, score=0.769, total= 2.9min\n",
            "[CV] svc__class_weight=balanced ......................................\n"
          ],
          "name": "stdout"
        },
        {
          "output_type": "stream",
          "text": [
            "[Parallel(n_jobs=1)]: Done   1 out of   1 | elapsed:  2.9min remaining:    0.0s\n"
          ],
          "name": "stderr"
        },
        {
          "output_type": "stream",
          "text": [
            "[CV] .......... svc__class_weight=balanced, score=0.771, total= 2.9min\n",
            "[CV] svc__class_weight=balanced ......................................\n"
          ],
          "name": "stdout"
        },
        {
          "output_type": "stream",
          "text": [
            "[Parallel(n_jobs=1)]: Done   2 out of   2 | elapsed:  5.8min remaining:    0.0s\n"
          ],
          "name": "stderr"
        },
        {
          "output_type": "stream",
          "text": [
            "[CV] .......... svc__class_weight=balanced, score=0.790, total= 2.8min\n",
            "[CV] svc__class_weight=None ..........................................\n"
          ],
          "name": "stdout"
        },
        {
          "output_type": "stream",
          "text": [
            "/usr/local/lib/python3.7/dist-packages/sklearn/model_selection/_validation.py:536: FitFailedWarning: Estimator fit failed. The score on this train-test partition for these parameters will be set to nan. Details: \n",
            "ValueError: class_weight must be dict, 'balanced', or None, got: 'None'\n",
            "\n",
            "  FitFailedWarning)\n"
          ],
          "name": "stderr"
        },
        {
          "output_type": "stream",
          "text": [
            "[CV] ................ svc__class_weight=None, score=nan, total=  32.9s\n",
            "[CV] svc__class_weight=None ..........................................\n"
          ],
          "name": "stdout"
        },
        {
          "output_type": "stream",
          "text": [
            "/usr/local/lib/python3.7/dist-packages/sklearn/model_selection/_validation.py:536: FitFailedWarning: Estimator fit failed. The score on this train-test partition for these parameters will be set to nan. Details: \n",
            "ValueError: class_weight must be dict, 'balanced', or None, got: 'None'\n",
            "\n",
            "  FitFailedWarning)\n"
          ],
          "name": "stderr"
        },
        {
          "output_type": "stream",
          "text": [
            "[CV] ................ svc__class_weight=None, score=nan, total=  32.2s\n",
            "[CV] svc__class_weight=None ..........................................\n"
          ],
          "name": "stdout"
        },
        {
          "output_type": "stream",
          "text": [
            "/usr/local/lib/python3.7/dist-packages/sklearn/model_selection/_validation.py:536: FitFailedWarning: Estimator fit failed. The score on this train-test partition for these parameters will be set to nan. Details: \n",
            "ValueError: class_weight must be dict, 'balanced', or None, got: 'None'\n",
            "\n",
            "  FitFailedWarning)\n",
            "[Parallel(n_jobs=1)]: Done   6 out of   6 | elapsed: 10.3min finished\n"
          ],
          "name": "stderr"
        },
        {
          "output_type": "stream",
          "text": [
            "[CV] ................ svc__class_weight=None, score=nan, total=  32.3s\n",
            "Best Parameters: {'svc__class_weight': 'balanced'}\n",
            "\n",
            "Best accuracy: 0.776530984015949\n",
            "\n",
            "Finished.\n"
          ],
          "name": "stdout"
        }
      ]
    },
    {
      "cell_type": "code",
      "metadata": {
        "colab": {
          "base_uri": "https://localhost:8080/"
        },
        "id": "gli-r8vkWmx0",
        "outputId": "501558ac-ba38-4a04-b44d-d8121cd878bd"
      },
      "source": [
        "# final evaluation after parameter tuning\n",
        "y_pred = fitted.predict(X_test)\n",
        "balanced_accuracy_score(y_test,y_pred)"
      ],
      "execution_count": null,
      "outputs": [
        {
          "output_type": "execute_result",
          "data": {
            "text/plain": [
              "0.7679893392548744"
            ]
          },
          "metadata": {
            "tags": []
          },
          "execution_count": 27
        }
      ]
    },
    {
      "cell_type": "markdown",
      "metadata": {
        "id": "nULvB5NYit-N"
      },
      "source": [
        "### Best Performing Model: Latent Semantic Analysis with Logistic Classifier"
      ]
    },
    {
      "cell_type": "code",
      "metadata": {
        "id": "fhC2SzZWivaq"
      },
      "source": [
        "pipe = Pipeline([\n",
        "    ('tfidf', TfidfVectorizer(sublinear_tf=True, use_idf=True)),\n",
        "    ('lsa', TruncatedSVD(random_state=123, n_components=1000)),\n",
        "    ('logistic', LogisticRegression(max_iter=10000, class_weight='balanced', random_state=123)),\n",
        "])\n",
        "\n",
        "model = pipe.fit(X_train, y_train)"
      ],
      "execution_count": 82,
      "outputs": []
    },
    {
      "cell_type": "markdown",
      "metadata": {
        "id": "ggLuwTMtMWSC"
      },
      "source": [
        "### Confusion matrix"
      ]
    },
    {
      "cell_type": "code",
      "metadata": {
        "colab": {
          "base_uri": "https://localhost:8080/",
          "height": 0
        },
        "id": "sVM5WEW6m7q5",
        "outputId": "d793ba88-c1c5-4b6b-8105-0ca3d2dd3dc7"
      },
      "source": [
        "plot_confusion_matrix(model, X_test, y_test, normalize='true', cmap=plt.cm.Blues,\n",
        "                      display_labels=['Hate','Offensive','Neither'])\n",
        "plt.title('Confusion Matrix')\n",
        "plt.savefig('figure_3.png', dpi=200, transparent=True)\n",
        "plt.show()"
      ],
      "execution_count": 83,
      "outputs": [
        {
          "output_type": "display_data",
          "data": {
            "image/png": "[encoded data removed]",
            "text/plain": [
              "<Figure size 432x288 with 2 Axes>"
            ]
          },
          "metadata": {
            "tags": [],
            "needs_background": "light"
          }
        }
      ]
    },
    {
      "cell_type": "markdown",
      "metadata": {
        "id": "Nw4aW2AfMmRN"
      },
      "source": [
        "### Classification Report"
      ]
    },
    {
      "cell_type": "code",
      "metadata": {
        "colab": {
          "base_uri": "https://localhost:8080/"
        },
        "id": "OIN-i8GlMo0u",
        "outputId": "151a14a6-905d-41bd-fc5b-ad9b3d105b23"
      },
      "source": [
        "y_pred = model.predict(X_test)\n",
        "print(classification_report(y_test,y_pred))"
      ],
      "execution_count": 84,
      "outputs": [
        {
          "output_type": "stream",
          "text": [
            "              precision    recall  f1-score   support\n",
            "\n",
            "           0       0.28      0.66      0.39       149\n",
            "           1       0.97      0.82      0.89      1923\n",
            "           2       0.76      0.94      0.84       407\n",
            "\n",
            "    accuracy                           0.83      2479\n",
            "   macro avg       0.67      0.81      0.71      2479\n",
            "weighted avg       0.89      0.83      0.85      2479\n",
            "\n"
          ],
          "name": "stdout"
        }
      ]
    },
    {
      "cell_type": "markdown",
      "metadata": {
        "id": "nj0pgPqXkHtt"
      },
      "source": [
        "### ROC curve (multiclass)"
      ]
    },
    {
      "cell_type": "code",
      "metadata": {
        "id": "PU-RbcFHkK2u",
        "colab": {
          "base_uri": "https://localhost:8080/",
          "height": 0
        },
        "outputId": "8afe7439-2304-4582-fee4-84876f1ad221"
      },
      "source": [
        "# Binarize the output\n",
        "y_train_b = label_binarize(y_train, classes=[0, 1, 2])\n",
        "y_test_b = label_binarize(y_test, classes=[0, 1, 2])\n",
        "n_classes = y_train_b.shape[1]\n",
        "\n",
        "# Learn to predict each class\n",
        "y_score = model.decision_function(X_test)\n",
        "\n",
        "# Compute ROC curve and ROC area for each class\n",
        "fpr = dict()\n",
        "tpr = dict()\n",
        "roc_auc = dict()\n",
        "for i in range(n_classes):\n",
        "    fpr[i], tpr[i], _ = roc_curve(y_test_b[:, i], y_score[:, i])\n",
        "    roc_auc[i] = auc(fpr[i], tpr[i])\n",
        "\n",
        "# Compute micro-average ROC curve and ROC area\n",
        "fpr[\"micro\"], tpr[\"micro\"], _ = roc_curve(y_test_b.ravel(), y_score.ravel())\n",
        "roc_auc[\"micro\"] = auc(fpr[\"micro\"], tpr[\"micro\"])\n",
        "\n",
        "# First aggregate all false positive rates\n",
        "all_fpr = np.unique(np.concatenate([fpr[i] for i in range(n_classes)]))\n",
        "\n",
        "# Then interpolate all ROC curves at this points\n",
        "mean_tpr = np.zeros_like(all_fpr)\n",
        "for i in range(n_classes):\n",
        "    mean_tpr += np.interp(all_fpr, fpr[i], tpr[i])\n",
        "\n",
        "# Finally average it and compute AUC\n",
        "mean_tpr /= n_classes\n",
        "\n",
        "fpr[\"macro\"] = all_fpr\n",
        "tpr[\"macro\"] = mean_tpr\n",
        "roc_auc[\"macro\"] = auc(fpr[\"macro\"], tpr[\"macro\"])\n",
        "\n",
        "# Plot all ROC curves\n",
        "lw = 2\n",
        "plt.figure(figsize=(7,5))\n",
        "plt.plot(fpr[\"micro\"], tpr[\"micro\"],\n",
        "         label='micro-average ROC curve (area = {0:0.2f})'\n",
        "               ''.format(roc_auc[\"micro\"]),\n",
        "         color='deeppink', linestyle=':', linewidth=4)\n",
        "\n",
        "plt.plot(fpr[\"macro\"], tpr[\"macro\"],\n",
        "         label='macro-average ROC curve (area = {0:0.2f})'\n",
        "               ''.format(roc_auc[\"macro\"]),\n",
        "         color='navy', linestyle=':', linewidth=4)\n",
        "\n",
        "colors = cycle(['aqua', 'darkorange', 'cornflowerblue'])\n",
        "for i, color in zip(range(n_classes), colors):\n",
        "    plt.plot(fpr[i], tpr[i], color=color, lw=lw,\n",
        "             label='ROC curve of class {0} (area = {1:0.2f})'\n",
        "             ''.format(i, roc_auc[i]))\n",
        "\n",
        "plt.plot([0, 1], [0, 1], 'k--', lw=lw)\n",
        "plt.xlim([0.0, 1.0])\n",
        "plt.ylim([0.0, 1.05])\n",
        "plt.xlabel('False Positive Rate')\n",
        "plt.ylabel('True Positive Rate')\n",
        "plt.title('Extension of Receiver operating characteristic to multi-class')\n",
        "plt.legend(loc=\"lower right\")\n",
        "plt.savefig('figure_4.png', dpi=200, transparent=True)\n",
        "plt.show()"
      ],
      "execution_count": 85,
      "outputs": [
        {
          "output_type": "display_data",
          "data": {
            "image/png": "[encoded data removed]",
            "text/plain": [
              "<Figure size 504x360 with 1 Axes>"
            ]
          },
          "metadata": {
            "tags": [],
            "needs_background": "light"
          }
        }
      ]
    },
    {
      "cell_type": "markdown",
      "metadata": {
        "id": "ddgc8OpiOL6w"
      },
      "source": [
        "### Feature Importance"
      ]
    },
    {
      "cell_type": "code",
      "metadata": {
        "colab": {
          "base_uri": "https://localhost:8080/",
          "height": 0
        },
        "id": "xiv43ef5ndP0",
        "outputId": "fa8932a8-0163-439a-cf2e-f08d666e8762"
      },
      "source": [
        "# feature importance\n",
        "pd.DataFrame({'importance': abs(model['logistic'].coef_[0,:])})\\\n",
        "  .sort_values(by='importance', ascending=True).plot.barh()\n",
        "ax = plt.gca()\n",
        "ax.axes.yaxis.set_ticks([])\n",
        "plt.title('Feature Imporance with respect to class 0 (i.e. hate speech)')\n",
        "plt.xlabel(\"Absolute Coefficients of the Logistic Classifier\")\n",
        "plt.ylabel(\"Sorted Features (Components from SVD)\")\n",
        "plt.savefig('figure_5.png', dpi=200, transparent=True)\n",
        "plt.show()"
      ],
      "execution_count": 86,
      "outputs": [
        {
          "output_type": "display_data",
          "data": {
            "image/png": "[encoded data removed]",
            "text/plain": [
              "<Figure size 432x288 with 1 Axes>"
            ]
          },
          "metadata": {
            "tags": [],
            "needs_background": "light"
          }
        }
      ]
    },
    {
      "cell_type": "code",
      "metadata": {
        "id": "Q_ejoJZDdf_5",
        "colab": {
          "base_uri": "https://localhost:8080/",
          "height": 0
        },
        "outputId": "8fed0a8d-634f-46b3-c1bd-705ac7074f66"
      },
      "source": [
        "# focus on the top ten features\n",
        "pd.DataFrame({'coefficient': model['logistic'].coef_[0,:]})\\\n",
        "  .assign(abs_coef=lambda x: abs(x.coefficient))\\\n",
        "  .sort_values(by='abs_coef', ascending=False)\\\n",
        "  .head(10) #select top ten features"
      ],
      "execution_count": 87,
      "outputs": [
        {
          "output_type": "execute_result",
          "data": {
            "text/html": [
              "<div>\n",
              "<style scoped>\n",
              "    .dataframe tbody tr th:only-of-type {\n",
              "        vertical-align: middle;\n",
              "    }\n",
              "\n",
              "    .dataframe tbody tr th {\n",
              "        vertical-align: top;\n",
              "    }\n",
              "\n",
              "    .dataframe thead th {\n",
              "        text-align: right;\n",
              "    }\n",
              "</style>\n",
              "<table border=\"1\" class=\"dataframe\">\n",
              "  <thead>\n",
              "    <tr style=\"text-align: right;\">\n",
              "      <th></th>\n",
              "      <th>coefficient</th>\n",
              "      <th>abs_coef</th>\n",
              "    </tr>\n",
              "  </thead>\n",
              "  <tbody>\n",
              "    <tr>\n",
              "      <th>13</th>\n",
              "      <td>5.410715</td>\n",
              "      <td>5.410715</td>\n",
              "    </tr>\n",
              "    <tr>\n",
              "      <th>14</th>\n",
              "      <td>4.855714</td>\n",
              "      <td>4.855714</td>\n",
              "    </tr>\n",
              "    <tr>\n",
              "      <th>21</th>\n",
              "      <td>4.517200</td>\n",
              "      <td>4.517200</td>\n",
              "    </tr>\n",
              "    <tr>\n",
              "      <th>59</th>\n",
              "      <td>3.879253</td>\n",
              "      <td>3.879253</td>\n",
              "    </tr>\n",
              "    <tr>\n",
              "      <th>48</th>\n",
              "      <td>3.753119</td>\n",
              "      <td>3.753119</td>\n",
              "    </tr>\n",
              "    <tr>\n",
              "      <th>63</th>\n",
              "      <td>-3.738320</td>\n",
              "      <td>3.738320</td>\n",
              "    </tr>\n",
              "    <tr>\n",
              "      <th>60</th>\n",
              "      <td>-3.717594</td>\n",
              "      <td>3.717594</td>\n",
              "    </tr>\n",
              "    <tr>\n",
              "      <th>7</th>\n",
              "      <td>3.497434</td>\n",
              "      <td>3.497434</td>\n",
              "    </tr>\n",
              "    <tr>\n",
              "      <th>12</th>\n",
              "      <td>3.323188</td>\n",
              "      <td>3.323188</td>\n",
              "    </tr>\n",
              "    <tr>\n",
              "      <th>51</th>\n",
              "      <td>3.275713</td>\n",
              "      <td>3.275713</td>\n",
              "    </tr>\n",
              "  </tbody>\n",
              "</table>\n",
              "</div>"
            ],
            "text/plain": [
              "    coefficient  abs_coef\n",
              "13     5.410715  5.410715\n",
              "14     4.855714  4.855714\n",
              "21     4.517200  4.517200\n",
              "59     3.879253  3.879253\n",
              "48     3.753119  3.753119\n",
              "63    -3.738320  3.738320\n",
              "60    -3.717594  3.717594\n",
              "7      3.497434  3.497434\n",
              "12     3.323188  3.323188\n",
              "51     3.275713  3.275713"
            ]
          },
          "metadata": {
            "tags": []
          },
          "execution_count": 87
        }
      ]
    },
    {
      "cell_type": "markdown",
      "metadata": {
        "id": "VQKFRVUzOuUp"
      },
      "source": [
        "### TF-IDF to extract the most important terms by class"
      ]
    },
    {
      "cell_type": "code",
      "metadata": {
        "id": "iZxY_uPuPCjR"
      },
      "source": [
        "# apply tf-idf on the training data\n",
        "vec_pipe = Pipeline([('vec', TfidfVectorizer(sublinear_tf=True, use_idf=True))])\n",
        "Xtr = vec_pipe.fit_transform(X_train)\n",
        "vec = vec_pipe.named_steps['vec']\n",
        "features = vec.get_feature_names()"
      ],
      "execution_count": 88,
      "outputs": []
    },
    {
      "cell_type": "code",
      "metadata": {
        "id": "6yHYSZux8D26"
      },
      "source": [
        "# some useful functions to extract top terms\n",
        "def top_tfidf_feats(row, features, top_n=25):\n",
        "    ''' Get top n tfidf values in row and return them with their corresponding feature names.'''\n",
        "    topn_ids = np.argsort(row)[::-1][:top_n]\n",
        "    top_feats = [(features[i], row[i]) for i in topn_ids]\n",
        "    df = pd.DataFrame(top_feats)\n",
        "    df.columns = ['feature', 'tfidf']\n",
        "    return df\n",
        "\n",
        "def top_mean_feats(Xtr, features, grp_ids=None, min_tfidf=0.1, top_n=25):\n",
        "    ''' Return the top n features that on average are most important amongst documents in rows\n",
        "        indentified by indices in grp_ids. '''\n",
        "    if grp_ids:\n",
        "        D = Xtr[grp_ids].toarray()\n",
        "    else:\n",
        "        D = Xtr.toarray()\n",
        "\n",
        "    D[D < min_tfidf] = 0\n",
        "    tfidf_means = np.mean(D, axis=0)\n",
        "    return top_tfidf_feats(tfidf_means, features, top_n)\n",
        "\n",
        "def top_feats_by_class(Xtr, y, features, min_tfidf=0.1, top_n=25):\n",
        "    ''' Return a list of dfs, where each df holds top_n features and their mean tfidf value\n",
        "        calculated across documents with the same class label. '''\n",
        "    dfs = []\n",
        "    labels = np.unique(y)\n",
        "    for label in labels:\n",
        "        ids = np.where(y==label)\n",
        "        feats_df = top_mean_feats(Xtr, features, ids, min_tfidf=min_tfidf, top_n=top_n)\n",
        "        feats_df.label = label\n",
        "        dfs.append(feats_df)\n",
        "    return dfs"
      ],
      "execution_count": 89,
      "outputs": []
    },
    {
      "cell_type": "code",
      "metadata": {
        "colab": {
          "base_uri": "https://localhost:8080/"
        },
        "id": "5cZdHHwaA654",
        "outputId": "d7adb6dd-181e-4c90-dcb9-aff5e5c77d0a"
      },
      "source": [
        "# extract top n terms for each class\n",
        "top_terms = top_feats_by_class(Xtr, y_train, features, top_n=3, min_tfidf=0.7)\n",
        "top_terms"
      ],
      "execution_count": 90,
      "outputs": [
        {
          "output_type": "execute_result",
          "data": {
            "text/plain": [
              "[  feature     tfidf\n",
              " 0     fag  0.010968\n",
              " 1  faggot  0.009115\n",
              " 2  nigger  0.005538,   feature     tfidf\n",
              " 0   pussy  0.002053\n",
              " 1   bitch  0.001410\n",
              " 2  faggot  0.000673,    feature     tfidf\n",
              " 0    trash  0.002239\n",
              " 1  brownie  0.000897\n",
              " 2   yankee  0.000704]"
            ]
          },
          "metadata": {
            "tags": []
          },
          "execution_count": 90
        }
      ]
    },
    {
      "cell_type": "markdown",
      "metadata": {
        "id": "n--Hq6wjVP2u"
      },
      "source": [
        "### Most relevant terminology by class"
      ]
    },
    {
      "cell_type": "code",
      "metadata": {
        "id": "YLAktS09XuiW"
      },
      "source": [
        "# function to put asterisk on bad words\n",
        "def cens(x):\n",
        "  if x in ['fag', 'faggot', 'nigger', 'niger', 'cunt', 'gook', 'dyke', 'bitch', 'pussy', 'fuck']:\n",
        "    return x[:-1] + '*'\n",
        "  else:\n",
        "    return x\n",
        "\n",
        "# dictionary for the label-id correspondence\n",
        "label_dic = {'hateful': 0, 'offensive': 1, 'neither': 2}\n",
        "\n",
        "# function to plot the most relevant terms\n",
        "def terminology(label, n_terms=10, threshold=0.7):\n",
        "  top_feats_by_class(Xtr, y_train, features, top_n=n_terms, min_tfidf=threshold)[label_dic[label]]\\\n",
        "    .sort_values(by='tfidf',ascending=True)\\\n",
        "    .assign(feature=lambda x: [cens(z) for z in x.feature])\\\n",
        "    .plot(kind='barh', x='feature', stacked=True)\n",
        "  plt.title('Most important terms in the ' + label + ' category')\n",
        "  plt.xlabel('Term')\n",
        "  plt.ylabel('TF-IDF value')\n",
        "  plt.savefig('figure_' + label + '.png', dpi=200, transparent=True)\n",
        "  plt.show()"
      ],
      "execution_count": 131,
      "outputs": []
    },
    {
      "cell_type": "code",
      "metadata": {
        "colab": {
          "base_uri": "https://localhost:8080/",
          "height": 295
        },
        "id": "uBFHwAGUbLaS",
        "outputId": "d35d8182-34fd-451c-8acd-14d5a2183cc2"
      },
      "source": [
        "terminology('hateful')"
      ],
      "execution_count": 132,
      "outputs": [
        {
          "output_type": "display_data",
          "data": {
            "image/png": "[encoded data removed]",
            "text/plain": [
              "<Figure size 432x288 with 1 Axes>"
            ]
          },
          "metadata": {
            "tags": [],
            "needs_background": "light"
          }
        }
      ]
    },
    {
      "cell_type": "code",
      "metadata": {
        "colab": {
          "base_uri": "https://localhost:8080/",
          "height": 295
        },
        "id": "IYiZunbpbOvm",
        "outputId": "8179a54c-f6e9-4fbd-8ec8-00e95f3bb396"
      },
      "source": [
        "terminology('offensive')"
      ],
      "execution_count": 133,
      "outputs": [
        {
          "output_type": "display_data",
          "data": {
            "image/png": "[encoded data removed]",
            "text/plain": [
              "<Figure size 432x288 with 1 Axes>"
            ]
          },
          "metadata": {
            "tags": [],
            "needs_background": "light"
          }
        }
      ]
    },
    {
      "cell_type": "code",
      "metadata": {
        "colab": {
          "base_uri": "https://localhost:8080/",
          "height": 295
        },
        "id": "QGAbQ2j-bYUU",
        "outputId": "3147e691-bc96-4210-a703-105f3ae00084"
      },
      "source": [
        "terminology('neither')"
      ],
      "execution_count": 134,
      "outputs": [
        {
          "output_type": "display_data",
          "data": {
            "image/png": "[encoded data removed]",
            "text/plain": [
              "<Figure size 432x288 with 1 Axes>"
            ]
          },
          "metadata": {
            "tags": [],
            "needs_background": "light"
          }
        }
      ]
    },
    {
      "cell_type": "markdown",
      "metadata": {
        "id": "vYaRslYTB-v-"
      },
      "source": [
        "### Associations that top TF-IDF terms have with respect to the top features (components from LSA) in the logistic classifier"
      ]
    },
    {
      "cell_type": "code",
      "metadata": {
        "id": "elq9o417PZhp"
      },
      "source": [
        "# built a list of unique top terms\n",
        "terms = []\n",
        "for i in range(len(top_terms)):\n",
        "  terms.append(top_terms[i]['feature'].tolist())\n",
        "unique_terms = list(set(list(chain.from_iterable(terms))))\n",
        "\n",
        "# find the corresponding column numbers in the tf-idf matrix\n",
        "col_ids = []\n",
        "for i in unique_terms:\n",
        "  col_ids.append(vec.vocabulary_[i])\n",
        "\n",
        "# find the indexes of the top features (components) from the logistic (ids)\n",
        "top_scores = pd.DataFrame({'coefficient': model['logistic'].coef_[0,:]})\\\n",
        "  .assign(abs_coef=lambda x: abs(x.coefficient))\\\n",
        "  .sort_values(by='abs_coef', ascending=False)\\\n",
        "  .head(10).index.tolist()\n",
        "\n",
        "# find the scores from TruncatedSVD\n",
        "scores = TruncatedSVD(n_components=1000, random_state=123).fit_transform(Xtr)\n",
        "\n",
        "# return the top coefficients\n",
        "top_coefs = pd.DataFrame({'coefficient': model['logistic'].coef_[0,:]})\\\n",
        "  .assign(abs_coef=lambda x: abs(x.coefficient))\\\n",
        "  .sort_values(by='abs_coef', ascending=False)\\\n",
        "  .head(10)['coefficient'].tolist()"
      ],
      "execution_count": 92,
      "outputs": []
    },
    {
      "cell_type": "code",
      "metadata": {
        "colab": {
          "base_uri": "https://localhost:8080/"
        },
        "id": "4g4MN253Xsds",
        "outputId": "55adaef0-71ee-4715-bee9-095bbec0eaa4"
      },
      "source": [
        "# tf-idf matrix\n",
        "print(Xtr.shape)\n",
        "# scores from TruncatedSVD\n",
        "print(scores.shape)"
      ],
      "execution_count": 93,
      "outputs": [
        {
          "output_type": "stream",
          "text": [
            "(22304, 19165)\n",
            "(22304, 1000)\n"
          ],
          "name": "stdout"
        }
      ]
    },
    {
      "cell_type": "code",
      "metadata": {
        "id": "MnUloPRZbByG"
      },
      "source": [
        "# pick in these matrices the columns of interest to correlate\n",
        "# initialise an empty matrix\n",
        "d = np.zeros((len(unique_terms),len(top_scores)))\n",
        "\n",
        "# find correspondence between new and old rows (top terms ids)\n",
        "col_d = {}\n",
        "counter = -1\n",
        "for i in col_ids:\n",
        "  counter += 1\n",
        "  col_d[i] = counter\n",
        "\n",
        "# find correspondence between new and old columns (top features ids)\n",
        "row_d = {}\n",
        "counter = -1\n",
        "for j in top_scores:\n",
        "  counter += 1\n",
        "  row_d[j] = counter\n",
        "\n",
        "# extract the correlations of interest\n",
        "for i in col_ids: # for every top term in tf-idf\n",
        "  for j in top_scores: # for every top feature component\n",
        "    cor = pearsonr(Xtr[:,i].toarray()[:,0], scores[:,j])[0] # calculate the correlation\n",
        "    d[col_d[i],row_d[j]] = abs(cor) # store abs value it in the matrix\n",
        "\n",
        "# normalise columns to 1 to break down the share of the coefficient\n",
        "cors = d/d.sum(axis=0,keepdims=1)\n",
        "cor2 = cors.T # columns are now terms\n",
        "for i in range(len(top_coefs)):\n",
        "  for j in range(cor2.shape[1]):\n",
        "    cor2[i,j] = top_coefs[i] * cor2[i,j]\n",
        "\n",
        "# function to censor bad words\n",
        "def censor(x):\n",
        "  if x not in top_terms[2]['feature'].tolist():\n",
        "    out = x[:-2] + '**'\n",
        "  else:\n",
        "    out = x\n",
        "  return out\n",
        "\n",
        "# return the results in dataframe format\n",
        "res = pd.DataFrame(cor2)\n",
        "res.columns = [censor(x) for x in unique_terms]"
      ],
      "execution_count": 94,
      "outputs": []
    },
    {
      "cell_type": "code",
      "metadata": {
        "colab": {
          "base_uri": "https://localhost:8080/",
          "height": 351
        },
        "id": "e93KRpFlpB0m",
        "outputId": "5d9af2b1-fdc8-47ab-e7dd-cd806a0d84c4"
      },
      "source": [
        "# the results\n",
        "res"
      ],
      "execution_count": 95,
      "outputs": [
        {
          "output_type": "execute_result",
          "data": {
            "text/html": [
              "<div>\n",
              "<style scoped>\n",
              "    .dataframe tbody tr th:only-of-type {\n",
              "        vertical-align: middle;\n",
              "    }\n",
              "\n",
              "    .dataframe tbody tr th {\n",
              "        vertical-align: top;\n",
              "    }\n",
              "\n",
              "    .dataframe thead th {\n",
              "        text-align: right;\n",
              "    }\n",
              "</style>\n",
              "<table border=\"1\" class=\"dataframe\">\n",
              "  <thead>\n",
              "    <tr style=\"text-align: right;\">\n",
              "      <th></th>\n",
              "      <th>fagg**</th>\n",
              "      <th>bit**</th>\n",
              "      <th>nigg**</th>\n",
              "      <th>trash</th>\n",
              "      <th>pus**</th>\n",
              "      <th>brownie</th>\n",
              "      <th>f**</th>\n",
              "      <th>yankee</th>\n",
              "    </tr>\n",
              "  </thead>\n",
              "  <tbody>\n",
              "    <tr>\n",
              "      <th>0</th>\n",
              "      <td>1.126276</td>\n",
              "      <td>1.367563</td>\n",
              "      <td>0.139740</td>\n",
              "      <td>1.554364</td>\n",
              "      <td>0.697792</td>\n",
              "      <td>0.015594</td>\n",
              "      <td>0.358672</td>\n",
              "      <td>0.150715</td>\n",
              "    </tr>\n",
              "    <tr>\n",
              "      <th>1</th>\n",
              "      <td>0.673164</td>\n",
              "      <td>0.905947</td>\n",
              "      <td>0.224061</td>\n",
              "      <td>1.990780</td>\n",
              "      <td>0.740813</td>\n",
              "      <td>0.053339</td>\n",
              "      <td>0.201227</td>\n",
              "      <td>0.066384</td>\n",
              "    </tr>\n",
              "    <tr>\n",
              "      <th>2</th>\n",
              "      <td>1.649037</td>\n",
              "      <td>0.308331</td>\n",
              "      <td>0.170582</td>\n",
              "      <td>1.641561</td>\n",
              "      <td>0.268532</td>\n",
              "      <td>0.090552</td>\n",
              "      <td>0.289170</td>\n",
              "      <td>0.099434</td>\n",
              "    </tr>\n",
              "    <tr>\n",
              "      <th>3</th>\n",
              "      <td>0.277968</td>\n",
              "      <td>0.240256</td>\n",
              "      <td>2.040513</td>\n",
              "      <td>0.234729</td>\n",
              "      <td>0.088782</td>\n",
              "      <td>0.200259</td>\n",
              "      <td>0.497170</td>\n",
              "      <td>0.299576</td>\n",
              "    </tr>\n",
              "    <tr>\n",
              "      <th>4</th>\n",
              "      <td>0.579066</td>\n",
              "      <td>0.075267</td>\n",
              "      <td>0.072807</td>\n",
              "      <td>0.308154</td>\n",
              "      <td>0.100973</td>\n",
              "      <td>0.162913</td>\n",
              "      <td>2.148629</td>\n",
              "      <td>0.305310</td>\n",
              "    </tr>\n",
              "    <tr>\n",
              "      <th>5</th>\n",
              "      <td>-0.157915</td>\n",
              "      <td>-0.119458</td>\n",
              "      <td>-2.435026</td>\n",
              "      <td>-0.082999</td>\n",
              "      <td>-0.304518</td>\n",
              "      <td>-0.364533</td>\n",
              "      <td>-0.233086</td>\n",
              "      <td>-0.040787</td>\n",
              "    </tr>\n",
              "    <tr>\n",
              "      <th>6</th>\n",
              "      <td>-0.128543</td>\n",
              "      <td>-0.025677</td>\n",
              "      <td>-2.623968</td>\n",
              "      <td>-0.123678</td>\n",
              "      <td>-0.336065</td>\n",
              "      <td>-0.016675</td>\n",
              "      <td>-0.321716</td>\n",
              "      <td>-0.141272</td>\n",
              "    </tr>\n",
              "    <tr>\n",
              "      <th>7</th>\n",
              "      <td>0.105727</td>\n",
              "      <td>1.082407</td>\n",
              "      <td>0.134086</td>\n",
              "      <td>0.763127</td>\n",
              "      <td>0.625524</td>\n",
              "      <td>0.256510</td>\n",
              "      <td>0.016521</td>\n",
              "      <td>0.513532</td>\n",
              "    </tr>\n",
              "    <tr>\n",
              "      <th>8</th>\n",
              "      <td>0.398736</td>\n",
              "      <td>0.146644</td>\n",
              "      <td>0.208141</td>\n",
              "      <td>1.636977</td>\n",
              "      <td>0.503790</td>\n",
              "      <td>0.022822</td>\n",
              "      <td>0.279271</td>\n",
              "      <td>0.126807</td>\n",
              "    </tr>\n",
              "    <tr>\n",
              "      <th>9</th>\n",
              "      <td>0.339015</td>\n",
              "      <td>0.179882</td>\n",
              "      <td>0.795933</td>\n",
              "      <td>0.217971</td>\n",
              "      <td>0.110949</td>\n",
              "      <td>0.050499</td>\n",
              "      <td>1.534727</td>\n",
              "      <td>0.046736</td>\n",
              "    </tr>\n",
              "  </tbody>\n",
              "</table>\n",
              "</div>"
            ],
            "text/plain": [
              "     fagg**     bit**    nigg**  ...   brownie       f**    yankee\n",
              "0  1.126276  1.367563  0.139740  ...  0.015594  0.358672  0.150715\n",
              "1  0.673164  0.905947  0.224061  ...  0.053339  0.201227  0.066384\n",
              "2  1.649037  0.308331  0.170582  ...  0.090552  0.289170  0.099434\n",
              "3  0.277968  0.240256  2.040513  ...  0.200259  0.497170  0.299576\n",
              "4  0.579066  0.075267  0.072807  ...  0.162913  2.148629  0.305310\n",
              "5 -0.157915 -0.119458 -2.435026  ... -0.364533 -0.233086 -0.040787\n",
              "6 -0.128543 -0.025677 -2.623968  ... -0.016675 -0.321716 -0.141272\n",
              "7  0.105727  1.082407  0.134086  ...  0.256510  0.016521  0.513532\n",
              "8  0.398736  0.146644  0.208141  ...  0.022822  0.279271  0.126807\n",
              "9  0.339015  0.179882  0.795933  ...  0.050499  1.534727  0.046736\n",
              "\n",
              "[10 rows x 8 columns]"
            ]
          },
          "metadata": {
            "tags": []
          },
          "execution_count": 95
        }
      ]
    },
    {
      "cell_type": "markdown",
      "metadata": {
        "id": "rN9zzGgWEQJd"
      },
      "source": [
        "### Results and Interpretation\n",
        "In sklearn there is an equation for each class. These act as independent binary logistic regression models. In the results we have three sets of regression coefficients, we will focus on those associated with the hate speech category. The interpretation of the coefficients is for a single unit change in the predictor variable, the log of odds will change by a factor indicated by the coefficient, given that all other variables are held constant."
      ]
    },
    {
      "cell_type": "code",
      "metadata": {
        "colab": {
          "base_uri": "https://localhost:8080/",
          "height": 0
        },
        "id": "vDUPWv3vfcLH",
        "outputId": "2bc1dda6-e8fb-4269-ad9b-0c2252798e20"
      },
      "source": [
        "# plot the results\n",
        "res.sort_index(ascending=False)\\\n",
        "   .plot(kind='barh', stacked=True, figsize=(7,5))\n",
        "plt.title('Top features from the logistic and \\n their associations with top TF-IDF terms')\n",
        "plt.xlabel('Coefficient value')\n",
        "plt.ylabel('Top features (LSA components) from the logistic')\n",
        "plt.savefig('figure_7.png', dpi=200, transparent=True)\n",
        "plt.show()"
      ],
      "execution_count": 96,
      "outputs": [
        {
          "output_type": "display_data",
          "data": {
            "image/png": "[encoded data removed]",
            "text/plain": [
              "<Figure size 504x360 with 1 Axes>"
            ]
          },
          "metadata": {
            "tags": [],
            "needs_background": "light"
          }
        }
      ]
    },
    {
      "cell_type": "markdown",
      "metadata": {
        "id": "1AKOonuOyyb_"
      },
      "source": [
        "### Explore how the classifiers responds to top TF-IDF terms from the sample"
      ]
    },
    {
      "cell_type": "code",
      "metadata": {
        "colab": {
          "base_uri": "https://localhost:8080/"
        },
        "id": "goIExVcHy7dG",
        "outputId": "247feca1-47af-4595-9c3a-1fb45c5a30ee"
      },
      "source": [
        "# top n terms selected\n",
        "unique_terms"
      ],
      "execution_count": 97,
      "outputs": [
        {
          "output_type": "execute_result",
          "data": {
            "text/plain": [
              "['faggot', 'bitch', 'nigger', 'trash', 'pussy', 'brownie', 'fag', 'yankee']"
            ]
          },
          "metadata": {
            "tags": []
          },
          "execution_count": 97
        }
      ]
    },
    {
      "cell_type": "code",
      "metadata": {
        "colab": {
          "base_uri": "https://localhost:8080/",
          "height": 66,
          "referenced_widgets": [
            "cb57d03e0f62458681e5971cd7d7089e",
            "d63289bc12844937b7d912006a7ef177",
            "0d50a26d7bb546478cea766b51bf120a",
            "d953c25f002c47ae99c63eb83c69272a",
            "acd88b8d8b8841309e526fc1ff868ebe",
            "5ab3bb8503794c2c8b96debd3f4cbd39",
            "23cbc3771eeb4433a3704536132e1c82",
            "32964a55444c4b50a2315dda32bbb44c",
            "fbfc848d84ae4120826c9a886e205ee3",
            "918009b42b3f4901b9e26ba2e629433a",
            "4c628f48abcb4c76a0ed3b21592c9666",
            "5af29c3fe4ec4c02b082a357b196ead9",
            "afb332cde60c4241b646f681786f959e",
            "a2a6206e8d8545f29384ff6bfa17fa48",
            "36acfd23f8b340f2932782cce0f734ce",
            "1a1c7ac5c0ee46419606d88aa836ef07",
            "5d7bf414e33947d3817a6829911bb381",
            "52c60caabbcf4d2b9ba534d1a38bdfbd",
            "c913cee2c26946069afa6f7569507848",
            "aac723fbc5a440f595cee2c45b24b2b3",
            "3cfaa89fb7ca42179b4eb4595d9d2715",
            "fff2c72cc2a64aa5b88a0ceb4746fad3",
            "d5e2608ab16045dda57fe9fe55361f2b",
            "e63edf9c846d4c4686bcb80eb3f1c001",
            "ed7c173ec64d49f0abb39d6dce7efb2b",
            "0fe8506bc51145c19815c7036059964d",
            "6c8e981f814e430482a2179f93f9fa15",
            "197424b9226e42fea5173389e490a4d3",
            "896d10d2a97540ba81886452f8f13f52",
            "e8d2ebbee27c4823b088d696121f2cef",
            "0c01da3cfa4846e0b576e504440c9d01",
            "4f6bcf4bf43245a092b784cc09d9fccd",
            "8be61fbb25a24889a7f4f80b3089bbf7",
            "38cfc29d8d5a45c1a17a9577178c8adc",
            "66a58b5b66194b8b8aedea136d4a3167",
            "95d75f53167c4f5292adff976dc58dd0",
            "351342c982eb48b9803a2b37ae35e337",
            "3531ffaa2f904bc886627899945ecddc",
            "14ddbf7f6af349f8b78f3c929c385ce8",
            "fff41ad643d54b1bb9b2f6b20dcd64e2",
            "b4aad637e3a04c72a186baa879686260",
            "c1b7a2ea0afc4d57a3a5dad3ec053212",
            "0c405a400618445c8103313c63ced566",
            "e5e1d471f1c741f386546ea757c3903a",
            "7615569db9f340a18fa70753311c0e16",
            "cbed1e29f6c84fa49d7841d53e1e630c",
            "21d30de5ee194850af0f5c999bdf6be0",
            "47641981f5a144a8b5d0ceda7471197e",
            "2a62aa7cb3394ae8ac51d740d0a06605",
            "f00c47fc57c94b679f8523cfa3252101",
            "c46b79ca8d8641dead6e340fc49203f4",
            "3c027ba2de3c40d580c43157ca69dae9",
            "33d35dc2aceb4d3cb853a0c20c1e2bd1",
            "158113e1f096406a8d3d7e0cffea6f2b",
            "1fd3b49260c543b0a4292865a868285c",
            "5cb56dcade3b447bba9b462bc7d448fd",
            "1601f08d06a54f9b830cfe999cae0edc",
            "451196e4acfd4cda996c00ea60be0237",
            "1188058614cb4254b449963cdd596de7",
            "e47fd79f5bcb47429cd1f7fab02dedc9",
            "0e440ebcdd804e5caa7adab324e27c93",
            "842ea8fb9de9402583a7425400877618",
            "5a1827bff2914c8ca394b8d79f6bf1ae",
            "1d519f6743e741e4bff5d36de075e190",
            "c77b9a9cd75147e9b87f03b7d8f5597a",
            "ab058c27cd0e4ebe84256e4078654ecf",
            "fb766dd4d18347f792e580d665ca7bc5",
            "4d68e1e722fd451fb202cd065313ae6f",
            "ed96a0c059b348c3841060e04867fb9b",
            "7d38f038cd1848ea9841d728f25efec9",
            "bfa763946ea24d95be1f586c117bb6d4",
            "57cd6bac65364ca98e486ce3d2b20d77"
          ]
        },
        "id": "DzBbQpiTz4Xc",
        "outputId": "c257822e-a68c-415c-ef66-4fbee049584d"
      },
      "source": [
        "from tqdm.notebook import tqdm\n",
        "tests = pd.DataFrame()\n",
        "seed = 0\n",
        "\n",
        "for u in tqdm(unique_terms):\n",
        "  for t in tqdm(range(100), leave=False):\n",
        "    seed += 1\n",
        "    queried = X_train[X_train.str.contains(u)]\n",
        "    sample = queried.sample(n=queried.shape[0],replace=True,random_state=seed)\n",
        "    pred = model.predict(sample)\n",
        "    bin = np.where(pred==0, 1, 0) # turn it into a binary problem (hate speech vs non-hate speech)\n",
        "    averaged = bin.mean() # return the mean\n",
        "    tests = tests.append(pd.DataFrame({'term': [u], 'test': [t], 'result': [averaged]}))\n"
      ],
      "execution_count": 98,
      "outputs": [
        {
          "output_type": "display_data",
          "data": {
            "application/vnd.jupyter.widget-view+json": {
              "model_id": "cb57d03e0f62458681e5971cd7d7089e",
              "version_minor": 0,
              "version_major": 2
            },
            "text/plain": [
              "HBox(children=(FloatProgress(value=0.0, max=8.0), HTML(value='')))"
            ]
          },
          "metadata": {
            "tags": []
          }
        },
        {
          "output_type": "display_data",
          "data": {
            "application/vnd.jupyter.widget-view+json": {
              "model_id": "fbfc848d84ae4120826c9a886e205ee3",
              "version_minor": 0,
              "version_major": 2
            },
            "text/plain": [
              "HBox(children=(FloatProgress(value=0.0), HTML(value='')))"
            ]
          },
          "metadata": {
            "tags": []
          }
        },
        {
          "output_type": "display_data",
          "data": {
            "application/vnd.jupyter.widget-view+json": {
              "model_id": "5d7bf414e33947d3817a6829911bb381",
              "version_minor": 0,
              "version_major": 2
            },
            "text/plain": [
              "HBox(children=(FloatProgress(value=0.0), HTML(value='')))"
            ]
          },
          "metadata": {
            "tags": []
          }
        },
        {
          "output_type": "display_data",
          "data": {
            "application/vnd.jupyter.widget-view+json": {
              "model_id": "ed7c173ec64d49f0abb39d6dce7efb2b",
              "version_minor": 0,
              "version_major": 2
            },
            "text/plain": [
              "HBox(children=(FloatProgress(value=0.0), HTML(value='')))"
            ]
          },
          "metadata": {
            "tags": []
          }
        },
        {
          "output_type": "display_data",
          "data": {
            "application/vnd.jupyter.widget-view+json": {
              "model_id": "8be61fbb25a24889a7f4f80b3089bbf7",
              "version_minor": 0,
              "version_major": 2
            },
            "text/plain": [
              "HBox(children=(FloatProgress(value=0.0), HTML(value='')))"
            ]
          },
          "metadata": {
            "tags": []
          }
        },
        {
          "output_type": "display_data",
          "data": {
            "application/vnd.jupyter.widget-view+json": {
              "model_id": "b4aad637e3a04c72a186baa879686260",
              "version_minor": 0,
              "version_major": 2
            },
            "text/plain": [
              "HBox(children=(FloatProgress(value=0.0), HTML(value='')))"
            ]
          },
          "metadata": {
            "tags": []
          }
        },
        {
          "output_type": "display_data",
          "data": {
            "application/vnd.jupyter.widget-view+json": {
              "model_id": "2a62aa7cb3394ae8ac51d740d0a06605",
              "version_minor": 0,
              "version_major": 2
            },
            "text/plain": [
              "HBox(children=(FloatProgress(value=0.0), HTML(value='')))"
            ]
          },
          "metadata": {
            "tags": []
          }
        },
        {
          "output_type": "display_data",
          "data": {
            "application/vnd.jupyter.widget-view+json": {
              "model_id": "1601f08d06a54f9b830cfe999cae0edc",
              "version_minor": 0,
              "version_major": 2
            },
            "text/plain": [
              "HBox(children=(FloatProgress(value=0.0), HTML(value='')))"
            ]
          },
          "metadata": {
            "tags": []
          }
        },
        {
          "output_type": "display_data",
          "data": {
            "application/vnd.jupyter.widget-view+json": {
              "model_id": "c77b9a9cd75147e9b87f03b7d8f5597a",
              "version_minor": 0,
              "version_major": 2
            },
            "text/plain": [
              "HBox(children=(FloatProgress(value=0.0), HTML(value='')))"
            ]
          },
          "metadata": {
            "tags": []
          }
        },
        {
          "output_type": "stream",
          "text": [
            "\n"
          ],
          "name": "stdout"
        }
      ]
    },
    {
      "cell_type": "code",
      "metadata": {
        "colab": {
          "base_uri": "https://localhost:8080/",
          "height": 66,
          "referenced_widgets": [
            "70be1852613042a9933ee3da4b90c1a8",
            "6e775a17a0f44fc3829ef4a7c6b0f811",
            "143e285270404def8bdd0eddf46f0a80",
            "d15f3b9c07444c58b0b0ee1b427252c4",
            "b8bb9a77f70d4f4987a71d484499d06f",
            "596313ed34214956a3b5d94db236d2c5",
            "cbab17299f1f439d9fe219c9309440d6",
            "601d6d9a9ca24e69a9c8efd222a6b669"
          ]
        },
        "id": "FwTk56Ip2buq",
        "outputId": "fb447936-2d33-4b1d-debe-1c30a15b3268"
      },
      "source": [
        "ints = pd.DataFrame()\n",
        "\n",
        "for i in tqdm(unique_terms):\n",
        "  lower = np.percentile(tests[tests['term']==i]['result'], q=2.5)\n",
        "  upper = np.percentile(tests[tests['term']==i]['result'], q=97.5)\n",
        "  ints = ints.append(pd.DataFrame({'term': [i], 'lower': [lower], 'upper': [upper]}))\n",
        "\n",
        "ints = ints.assign(centre=lambda x: (x.lower+x.upper)/2)\\\n",
        "  .assign(xerr=lambda x: x.upper-x.centre)\\\n",
        "  .sort_values(by='centre')"
      ],
      "execution_count": 99,
      "outputs": [
        {
          "output_type": "display_data",
          "data": {
            "application/vnd.jupyter.widget-view+json": {
              "model_id": "70be1852613042a9933ee3da4b90c1a8",
              "version_minor": 0,
              "version_major": 2
            },
            "text/plain": [
              "HBox(children=(FloatProgress(value=0.0, max=8.0), HTML(value='')))"
            ]
          },
          "metadata": {
            "tags": []
          }
        },
        {
          "output_type": "stream",
          "text": [
            "\n"
          ],
          "name": "stdout"
        }
      ]
    },
    {
      "cell_type": "code",
      "metadata": {
        "colab": {
          "base_uri": "https://localhost:8080/",
          "height": 322
        },
        "id": "elEozOLA95Tg",
        "outputId": "f123abd6-ba78-45dd-a57f-fc1d8406746e"
      },
      "source": [
        "x = ints['centre']\n",
        "y = [censor(x) for x in ints['term']]\n",
        "xerr = ints['xerr']\n",
        "\n",
        "fig, ax = plt.subplots()\n",
        "\n",
        "plt.scatter(x, y, label = 'blah')\n",
        "plt.errorbar(x, y, yerr = None, xerr = xerr, ls='none', capsize=5)\n",
        "plt.axvline(x=0.5, linestyle='dashed')\n",
        "plt.title('Prediction of the classifier with sampled \\n documents containing top TF-IDF terms')\n",
        "plt.xlabel('Average Prediction')\n",
        "plt.ylabel('TF-IDF term')\n",
        "\n",
        "fig.canvas.draw()\n",
        "labels = [item.get_text() for item in ax.get_xticklabels()]\n",
        "labels[1] = '0\\n Not Hate'\n",
        "labels[6] = '1\\n Hate'\n",
        "ax.set_xticklabels(labels)\n",
        "\n",
        "plt.savefig('figure_8.png', dpi=200, transparent=True, bbox_inches='tight')\n",
        "plt.show()"
      ],
      "execution_count": 100,
      "outputs": [
        {
          "output_type": "display_data",
          "data": {
            "image/png": "[encoded data removed]",
            "text/plain": [
              "<Figure size 432x288 with 1 Axes>"
            ]
          },
          "metadata": {
            "tags": [],
            "needs_background": "light"
          }
        }
      ]
    }
  ]
}