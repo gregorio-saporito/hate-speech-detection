{
  "nbformat": 4,
  "nbformat_minor": 0,
  "metadata": {
    "colab": {
      "name": "main.ipynb",
      "provenance": [],
      "toc_visible": true,
      "authorship_tag": "ABX9TyNRH5aEfwpaJOXIi/P6JPft",
      "include_colab_link": true
    },
    "kernelspec": {
      "name": "python3",
      "display_name": "Python 3"
    },
    "language_info": {
      "name": "python"
    },
    "widgets": {
      "application/vnd.jupyter.widget-state+json": {
        "ca95141917744f86b4b4aa0147869a80": {
          "model_module": "@jupyter-widgets/controls",
          "model_name": "HBoxModel",
          "state": {
            "_view_name": "HBoxView",
            "_dom_classes": [],
            "_model_name": "HBoxModel",
            "_view_module": "@jupyter-widgets/controls",
            "_model_module_version": "1.5.0",
            "_view_count": null,
            "_view_module_version": "1.5.0",
            "box_style": "",
            "layout": "IPY_MODEL_c43bd25f48074c02bf3dc277d2be6de4",
            "_model_module": "@jupyter-widgets/controls",
            "children": [
              "IPY_MODEL_526274d1d014441fa6e65176f830350f",
              "IPY_MODEL_c7451a6e9221418ba8dc4240faa2bc19"
            ]
          }
        },
        "c43bd25f48074c02bf3dc277d2be6de4": {
          "model_module": "@jupyter-widgets/base",
          "model_name": "LayoutModel",
          "state": {
            "_view_name": "LayoutView",
            "grid_template_rows": null,
            "right": null,
            "justify_content": null,
            "_view_module": "@jupyter-widgets/base",
            "overflow": null,
            "_model_module_version": "1.2.0",
            "_view_count": null,
            "flex_flow": null,
            "width": null,
            "min_width": null,
            "border": null,
            "align_items": null,
            "bottom": null,
            "_model_module": "@jupyter-widgets/base",
            "top": null,
            "grid_column": null,
            "overflow_y": null,
            "overflow_x": null,
            "grid_auto_flow": null,
            "grid_area": null,
            "grid_template_columns": null,
            "flex": null,
            "_model_name": "LayoutModel",
            "justify_items": null,
            "grid_row": null,
            "max_height": null,
            "align_content": null,
            "visibility": null,
            "align_self": null,
            "height": null,
            "min_height": null,
            "padding": null,
            "grid_auto_rows": null,
            "grid_gap": null,
            "max_width": null,
            "order": null,
            "_view_module_version": "1.2.0",
            "grid_template_areas": null,
            "object_position": null,
            "object_fit": null,
            "grid_auto_columns": null,
            "margin": null,
            "display": null,
            "left": null
          }
        },
        "526274d1d014441fa6e65176f830350f": {
          "model_module": "@jupyter-widgets/controls",
          "model_name": "FloatProgressModel",
          "state": {
            "_view_name": "ProgressView",
            "style": "IPY_MODEL_1f56bebd8bb849abade7c2769d94f44d",
            "_dom_classes": [],
            "description": "100%",
            "_model_name": "FloatProgressModel",
            "bar_style": "success",
            "max": 8,
            "_view_module": "@jupyter-widgets/controls",
            "_model_module_version": "1.5.0",
            "value": 8,
            "_view_count": null,
            "_view_module_version": "1.5.0",
            "orientation": "horizontal",
            "min": 0,
            "description_tooltip": null,
            "_model_module": "@jupyter-widgets/controls",
            "layout": "IPY_MODEL_cf0152ebda8247a2bb71487ad90caf48"
          }
        },
        "c7451a6e9221418ba8dc4240faa2bc19": {
          "model_module": "@jupyter-widgets/controls",
          "model_name": "HTMLModel",
          "state": {
            "_view_name": "HTMLView",
            "style": "IPY_MODEL_a3127394938f49588bd4c9ded0c0d619",
            "_dom_classes": [],
            "description": "",
            "_model_name": "HTMLModel",
            "placeholder": "​",
            "_view_module": "@jupyter-widgets/controls",
            "_model_module_version": "1.5.0",
            "value": " 8/8 [01:51&lt;00:00, 13.93s/it]",
            "_view_count": null,
            "_view_module_version": "1.5.0",
            "description_tooltip": null,
            "_model_module": "@jupyter-widgets/controls",
            "layout": "IPY_MODEL_c3afa01198e34be09bcad1738df86175"
          }
        },
        "1f56bebd8bb849abade7c2769d94f44d": {
          "model_module": "@jupyter-widgets/controls",
          "model_name": "ProgressStyleModel",
          "state": {
            "_view_name": "StyleView",
            "_model_name": "ProgressStyleModel",
            "description_width": "initial",
            "_view_module": "@jupyter-widgets/base",
            "_model_module_version": "1.5.0",
            "_view_count": null,
            "_view_module_version": "1.2.0",
            "bar_color": null,
            "_model_module": "@jupyter-widgets/controls"
          }
        },
        "cf0152ebda8247a2bb71487ad90caf48": {
          "model_module": "@jupyter-widgets/base",
          "model_name": "LayoutModel",
          "state": {
            "_view_name": "LayoutView",
            "grid_template_rows": null,
            "right": null,
            "justify_content": null,
            "_view_module": "@jupyter-widgets/base",
            "overflow": null,
            "_model_module_version": "1.2.0",
            "_view_count": null,
            "flex_flow": null,
            "width": null,
            "min_width": null,
            "border": null,
            "align_items": null,
            "bottom": null,
            "_model_module": "@jupyter-widgets/base",
            "top": null,
            "grid_column": null,
            "overflow_y": null,
            "overflow_x": null,
            "grid_auto_flow": null,
            "grid_area": null,
            "grid_template_columns": null,
            "flex": null,
            "_model_name": "LayoutModel",
            "justify_items": null,
            "grid_row": null,
            "max_height": null,
            "align_content": null,
            "visibility": null,
            "align_self": null,
            "height": null,
            "min_height": null,
            "padding": null,
            "grid_auto_rows": null,
            "grid_gap": null,
            "max_width": null,
            "order": null,
            "_view_module_version": "1.2.0",
            "grid_template_areas": null,
            "object_position": null,
            "object_fit": null,
            "grid_auto_columns": null,
            "margin": null,
            "display": null,
            "left": null
          }
        },
        "a3127394938f49588bd4c9ded0c0d619": {
          "model_module": "@jupyter-widgets/controls",
          "model_name": "DescriptionStyleModel",
          "state": {
            "_view_name": "StyleView",
            "_model_name": "DescriptionStyleModel",
            "description_width": "",
            "_view_module": "@jupyter-widgets/base",
            "_model_module_version": "1.5.0",
            "_view_count": null,
            "_view_module_version": "1.2.0",
            "_model_module": "@jupyter-widgets/controls"
          }
        },
        "c3afa01198e34be09bcad1738df86175": {
          "model_module": "@jupyter-widgets/base",
          "model_name": "LayoutModel",
          "state": {
            "_view_name": "LayoutView",
            "grid_template_rows": null,
            "right": null,
            "justify_content": null,
            "_view_module": "@jupyter-widgets/base",
            "overflow": null,
            "_model_module_version": "1.2.0",
            "_view_count": null,
            "flex_flow": null,
            "width": null,
            "min_width": null,
            "border": null,
            "align_items": null,
            "bottom": null,
            "_model_module": "@jupyter-widgets/base",
            "top": null,
            "grid_column": null,
            "overflow_y": null,
            "overflow_x": null,
            "grid_auto_flow": null,
            "grid_area": null,
            "grid_template_columns": null,
            "flex": null,
            "_model_name": "LayoutModel",
            "justify_items": null,
            "grid_row": null,
            "max_height": null,
            "align_content": null,
            "visibility": null,
            "align_self": null,
            "height": null,
            "min_height": null,
            "padding": null,
            "grid_auto_rows": null,
            "grid_gap": null,
            "max_width": null,
            "order": null,
            "_view_module_version": "1.2.0",
            "grid_template_areas": null,
            "object_position": null,
            "object_fit": null,
            "grid_auto_columns": null,
            "margin": null,
            "display": null,
            "left": null
          }
        },
        "3060d8760c4248518b300052a040932c": {
          "model_module": "@jupyter-widgets/controls",
          "model_name": "HBoxModel",
          "state": {
            "_view_name": "HBoxView",
            "_dom_classes": [],
            "_model_name": "HBoxModel",
            "_view_module": "@jupyter-widgets/controls",
            "_model_module_version": "1.5.0",
            "_view_count": null,
            "_view_module_version": "1.5.0",
            "box_style": "",
            "layout": "IPY_MODEL_12f8c79f51824c13b8ed7ecd92e3551c",
            "_model_module": "@jupyter-widgets/controls",
            "children": [
              "IPY_MODEL_0b4f95a669da49b2b6e50f69fe097803",
              "IPY_MODEL_e7bc34e922464b049a8d80dbe22fada7"
            ]
          }
        },
        "12f8c79f51824c13b8ed7ecd92e3551c": {
          "model_module": "@jupyter-widgets/base",
          "model_name": "LayoutModel",
          "state": {
            "_view_name": "LayoutView",
            "grid_template_rows": null,
            "right": null,
            "justify_content": null,
            "_view_module": "@jupyter-widgets/base",
            "overflow": null,
            "_model_module_version": "1.2.0",
            "_view_count": null,
            "flex_flow": null,
            "width": null,
            "min_width": null,
            "border": null,
            "align_items": null,
            "bottom": null,
            "_model_module": "@jupyter-widgets/base",
            "top": null,
            "grid_column": null,
            "overflow_y": null,
            "overflow_x": null,
            "grid_auto_flow": null,
            "grid_area": null,
            "grid_template_columns": null,
            "flex": null,
            "_model_name": "LayoutModel",
            "justify_items": null,
            "grid_row": null,
            "max_height": null,
            "align_content": null,
            "visibility": null,
            "align_self": null,
            "height": null,
            "min_height": null,
            "padding": null,
            "grid_auto_rows": null,
            "grid_gap": null,
            "max_width": null,
            "order": null,
            "_view_module_version": "1.2.0",
            "grid_template_areas": null,
            "object_position": null,
            "object_fit": null,
            "grid_auto_columns": null,
            "margin": null,
            "display": null,
            "left": null
          }
        },
        "0b4f95a669da49b2b6e50f69fe097803": {
          "model_module": "@jupyter-widgets/controls",
          "model_name": "FloatProgressModel",
          "state": {
            "_view_name": "ProgressView",
            "style": "IPY_MODEL_7750b58fa1e7414fb886d0f35e520b8d",
            "_dom_classes": [],
            "description": "100%",
            "_model_name": "FloatProgressModel",
            "bar_style": "",
            "max": 100,
            "_view_module": "@jupyter-widgets/controls",
            "_model_module_version": "1.5.0",
            "value": 100,
            "_view_count": null,
            "_view_module_version": "1.5.0",
            "orientation": "horizontal",
            "min": 0,
            "description_tooltip": null,
            "_model_module": "@jupyter-widgets/controls",
            "layout": "IPY_MODEL_d468dd1e509940ca94c3aacc965a2239"
          }
        },
        "e7bc34e922464b049a8d80dbe22fada7": {
          "model_module": "@jupyter-widgets/controls",
          "model_name": "HTMLModel",
          "state": {
            "_view_name": "HTMLView",
            "style": "IPY_MODEL_e40c63b4fc89481d8c059528648c3fc2",
            "_dom_classes": [],
            "description": "",
            "_model_name": "HTMLModel",
            "placeholder": "​",
            "_view_module": "@jupyter-widgets/controls",
            "_model_module_version": "1.5.0",
            "value": " 100/100 [00:08&lt;00:00, 10.93it/s]",
            "_view_count": null,
            "_view_module_version": "1.5.0",
            "description_tooltip": null,
            "_model_module": "@jupyter-widgets/controls",
            "layout": "IPY_MODEL_c108e9f1146b4a6e9386db39ded616b1"
          }
        },
        "7750b58fa1e7414fb886d0f35e520b8d": {
          "model_module": "@jupyter-widgets/controls",
          "model_name": "ProgressStyleModel",
          "state": {
            "_view_name": "StyleView",
            "_model_name": "ProgressStyleModel",
            "description_width": "initial",
            "_view_module": "@jupyter-widgets/base",
            "_model_module_version": "1.5.0",
            "_view_count": null,
            "_view_module_version": "1.2.0",
            "bar_color": null,
            "_model_module": "@jupyter-widgets/controls"
          }
        },
        "d468dd1e509940ca94c3aacc965a2239": {
          "model_module": "@jupyter-widgets/base",
          "model_name": "LayoutModel",
          "state": {
            "_view_name": "LayoutView",
            "grid_template_rows": null,
            "right": null,
            "justify_content": null,
            "_view_module": "@jupyter-widgets/base",
            "overflow": null,
            "_model_module_version": "1.2.0",
            "_view_count": null,
            "flex_flow": null,
            "width": null,
            "min_width": null,
            "border": null,
            "align_items": null,
            "bottom": null,
            "_model_module": "@jupyter-widgets/base",
            "top": null,
            "grid_column": null,
            "overflow_y": null,
            "overflow_x": null,
            "grid_auto_flow": null,
            "grid_area": null,
            "grid_template_columns": null,
            "flex": null,
            "_model_name": "LayoutModel",
            "justify_items": null,
            "grid_row": null,
            "max_height": null,
            "align_content": null,
            "visibility": null,
            "align_self": null,
            "height": null,
            "min_height": null,
            "padding": null,
            "grid_auto_rows": null,
            "grid_gap": null,
            "max_width": null,
            "order": null,
            "_view_module_version": "1.2.0",
            "grid_template_areas": null,
            "object_position": null,
            "object_fit": null,
            "grid_auto_columns": null,
            "margin": null,
            "display": null,
            "left": null
          }
        },
        "e40c63b4fc89481d8c059528648c3fc2": {
          "model_module": "@jupyter-widgets/controls",
          "model_name": "DescriptionStyleModel",
          "state": {
            "_view_name": "StyleView",
            "_model_name": "DescriptionStyleModel",
            "description_width": "",
            "_view_module": "@jupyter-widgets/base",
            "_model_module_version": "1.5.0",
            "_view_count": null,
            "_view_module_version": "1.2.0",
            "_model_module": "@jupyter-widgets/controls"
          }
        },
        "c108e9f1146b4a6e9386db39ded616b1": {
          "model_module": "@jupyter-widgets/base",
          "model_name": "LayoutModel",
          "state": {
            "_view_name": "LayoutView",
            "grid_template_rows": null,
            "right": null,
            "justify_content": null,
            "_view_module": "@jupyter-widgets/base",
            "overflow": null,
            "_model_module_version": "1.2.0",
            "_view_count": null,
            "flex_flow": null,
            "width": null,
            "min_width": null,
            "border": null,
            "align_items": null,
            "bottom": null,
            "_model_module": "@jupyter-widgets/base",
            "top": null,
            "grid_column": null,
            "overflow_y": null,
            "overflow_x": null,
            "grid_auto_flow": null,
            "grid_area": null,
            "grid_template_columns": null,
            "flex": null,
            "_model_name": "LayoutModel",
            "justify_items": null,
            "grid_row": null,
            "max_height": null,
            "align_content": null,
            "visibility": null,
            "align_self": null,
            "height": null,
            "min_height": null,
            "padding": null,
            "grid_auto_rows": null,
            "grid_gap": null,
            "max_width": null,
            "order": null,
            "_view_module_version": "1.2.0",
            "grid_template_areas": null,
            "object_position": null,
            "object_fit": null,
            "grid_auto_columns": null,
            "margin": null,
            "display": null,
            "left": null
          }
        },
        "400ce6eabd754af8b24ac3bbc4c6bfd8": {
          "model_module": "@jupyter-widgets/controls",
          "model_name": "HBoxModel",
          "state": {
            "_view_name": "HBoxView",
            "_dom_classes": [],
            "_model_name": "HBoxModel",
            "_view_module": "@jupyter-widgets/controls",
            "_model_module_version": "1.5.0",
            "_view_count": null,
            "_view_module_version": "1.5.0",
            "box_style": "",
            "layout": "IPY_MODEL_fc2a475403d0475daf1c4a4b83e15464",
            "_model_module": "@jupyter-widgets/controls",
            "children": [
              "IPY_MODEL_6a06df3fdc4f4771beb07ebe05134034",
              "IPY_MODEL_95903d60448e4d48bbdc7321e04a6a6c"
            ]
          }
        },
        "fc2a475403d0475daf1c4a4b83e15464": {
          "model_module": "@jupyter-widgets/base",
          "model_name": "LayoutModel",
          "state": {
            "_view_name": "LayoutView",
            "grid_template_rows": null,
            "right": null,
            "justify_content": null,
            "_view_module": "@jupyter-widgets/base",
            "overflow": null,
            "_model_module_version": "1.2.0",
            "_view_count": null,
            "flex_flow": null,
            "width": null,
            "min_width": null,
            "border": null,
            "align_items": null,
            "bottom": null,
            "_model_module": "@jupyter-widgets/base",
            "top": null,
            "grid_column": null,
            "overflow_y": null,
            "overflow_x": null,
            "grid_auto_flow": null,
            "grid_area": null,
            "grid_template_columns": null,
            "flex": null,
            "_model_name": "LayoutModel",
            "justify_items": null,
            "grid_row": null,
            "max_height": null,
            "align_content": null,
            "visibility": null,
            "align_self": null,
            "height": null,
            "min_height": null,
            "padding": null,
            "grid_auto_rows": null,
            "grid_gap": null,
            "max_width": null,
            "order": null,
            "_view_module_version": "1.2.0",
            "grid_template_areas": null,
            "object_position": null,
            "object_fit": null,
            "grid_auto_columns": null,
            "margin": null,
            "display": null,
            "left": null
          }
        },
        "6a06df3fdc4f4771beb07ebe05134034": {
          "model_module": "@jupyter-widgets/controls",
          "model_name": "FloatProgressModel",
          "state": {
            "_view_name": "ProgressView",
            "style": "IPY_MODEL_2059fbbe242842f99ddfc3986de2d5df",
            "_dom_classes": [],
            "description": "100%",
            "_model_name": "FloatProgressModel",
            "bar_style": "",
            "max": 100,
            "_view_module": "@jupyter-widgets/controls",
            "_model_module_version": "1.5.0",
            "value": 100,
            "_view_count": null,
            "_view_module_version": "1.5.0",
            "orientation": "horizontal",
            "min": 0,
            "description_tooltip": null,
            "_model_module": "@jupyter-widgets/controls",
            "layout": "IPY_MODEL_cac2f9d7b6e24252a59214762f09132e"
          }
        },
        "95903d60448e4d48bbdc7321e04a6a6c": {
          "model_module": "@jupyter-widgets/controls",
          "model_name": "HTMLModel",
          "state": {
            "_view_name": "HTMLView",
            "style": "IPY_MODEL_1b40c99920234cb5bf7d39b8b418ca8e",
            "_dom_classes": [],
            "description": "",
            "_model_name": "HTMLModel",
            "placeholder": "​",
            "_view_module": "@jupyter-widgets/controls",
            "_model_module_version": "1.5.0",
            "value": " 100/100 [00:38&lt;00:00,  2.59it/s]",
            "_view_count": null,
            "_view_module_version": "1.5.0",
            "description_tooltip": null,
            "_model_module": "@jupyter-widgets/controls",
            "layout": "IPY_MODEL_53d07a2ac8a14df782d8e88d5fc0162d"
          }
        },
        "2059fbbe242842f99ddfc3986de2d5df": {
          "model_module": "@jupyter-widgets/controls",
          "model_name": "ProgressStyleModel",
          "state": {
            "_view_name": "StyleView",
            "_model_name": "ProgressStyleModel",
            "description_width": "initial",
            "_view_module": "@jupyter-widgets/base",
            "_model_module_version": "1.5.0",
            "_view_count": null,
            "_view_module_version": "1.2.0",
            "bar_color": null,
            "_model_module": "@jupyter-widgets/controls"
          }
        },
        "cac2f9d7b6e24252a59214762f09132e": {
          "model_module": "@jupyter-widgets/base",
          "model_name": "LayoutModel",
          "state": {
            "_view_name": "LayoutView",
            "grid_template_rows": null,
            "right": null,
            "justify_content": null,
            "_view_module": "@jupyter-widgets/base",
            "overflow": null,
            "_model_module_version": "1.2.0",
            "_view_count": null,
            "flex_flow": null,
            "width": null,
            "min_width": null,
            "border": null,
            "align_items": null,
            "bottom": null,
            "_model_module": "@jupyter-widgets/base",
            "top": null,
            "grid_column": null,
            "overflow_y": null,
            "overflow_x": null,
            "grid_auto_flow": null,
            "grid_area": null,
            "grid_template_columns": null,
            "flex": null,
            "_model_name": "LayoutModel",
            "justify_items": null,
            "grid_row": null,
            "max_height": null,
            "align_content": null,
            "visibility": null,
            "align_self": null,
            "height": null,
            "min_height": null,
            "padding": null,
            "grid_auto_rows": null,
            "grid_gap": null,
            "max_width": null,
            "order": null,
            "_view_module_version": "1.2.0",
            "grid_template_areas": null,
            "object_position": null,
            "object_fit": null,
            "grid_auto_columns": null,
            "margin": null,
            "display": null,
            "left": null
          }
        },
        "1b40c99920234cb5bf7d39b8b418ca8e": {
          "model_module": "@jupyter-widgets/controls",
          "model_name": "DescriptionStyleModel",
          "state": {
            "_view_name": "StyleView",
            "_model_name": "DescriptionStyleModel",
            "description_width": "",
            "_view_module": "@jupyter-widgets/base",
            "_model_module_version": "1.5.0",
            "_view_count": null,
            "_view_module_version": "1.2.0",
            "_model_module": "@jupyter-widgets/controls"
          }
        },
        "53d07a2ac8a14df782d8e88d5fc0162d": {
          "model_module": "@jupyter-widgets/base",
          "model_name": "LayoutModel",
          "state": {
            "_view_name": "LayoutView",
            "grid_template_rows": null,
            "right": null,
            "justify_content": null,
            "_view_module": "@jupyter-widgets/base",
            "overflow": null,
            "_model_module_version": "1.2.0",
            "_view_count": null,
            "flex_flow": null,
            "width": null,
            "min_width": null,
            "border": null,
            "align_items": null,
            "bottom": null,
            "_model_module": "@jupyter-widgets/base",
            "top": null,
            "grid_column": null,
            "overflow_y": null,
            "overflow_x": null,
            "grid_auto_flow": null,
            "grid_area": null,
            "grid_template_columns": null,
            "flex": null,
            "_model_name": "LayoutModel",
            "justify_items": null,
            "grid_row": null,
            "max_height": null,
            "align_content": null,
            "visibility": null,
            "align_self": null,
            "height": null,
            "min_height": null,
            "padding": null,
            "grid_auto_rows": null,
            "grid_gap": null,
            "max_width": null,
            "order": null,
            "_view_module_version": "1.2.0",
            "grid_template_areas": null,
            "object_position": null,
            "object_fit": null,
            "grid_auto_columns": null,
            "margin": null,
            "display": null,
            "left": null
          }
        },
        "df2bd2e04ce2442c95875e266a5f8753": {
          "model_module": "@jupyter-widgets/controls",
          "model_name": "HBoxModel",
          "state": {
            "_view_name": "HBoxView",
            "_dom_classes": [],
            "_model_name": "HBoxModel",
            "_view_module": "@jupyter-widgets/controls",
            "_model_module_version": "1.5.0",
            "_view_count": null,
            "_view_module_version": "1.5.0",
            "box_style": "",
            "layout": "IPY_MODEL_4590f197b61748e08c393b984afa8c28",
            "_model_module": "@jupyter-widgets/controls",
            "children": [
              "IPY_MODEL_1b9f32565ae44efc9e884da70a75f32d",
              "IPY_MODEL_340f05fca8334bd8b7686db4a4cdd600"
            ]
          }
        },
        "4590f197b61748e08c393b984afa8c28": {
          "model_module": "@jupyter-widgets/base",
          "model_name": "LayoutModel",
          "state": {
            "_view_name": "LayoutView",
            "grid_template_rows": null,
            "right": null,
            "justify_content": null,
            "_view_module": "@jupyter-widgets/base",
            "overflow": null,
            "_model_module_version": "1.2.0",
            "_view_count": null,
            "flex_flow": null,
            "width": null,
            "min_width": null,
            "border": null,
            "align_items": null,
            "bottom": null,
            "_model_module": "@jupyter-widgets/base",
            "top": null,
            "grid_column": null,
            "overflow_y": null,
            "overflow_x": null,
            "grid_auto_flow": null,
            "grid_area": null,
            "grid_template_columns": null,
            "flex": null,
            "_model_name": "LayoutModel",
            "justify_items": null,
            "grid_row": null,
            "max_height": null,
            "align_content": null,
            "visibility": null,
            "align_self": null,
            "height": null,
            "min_height": null,
            "padding": null,
            "grid_auto_rows": null,
            "grid_gap": null,
            "max_width": null,
            "order": null,
            "_view_module_version": "1.2.0",
            "grid_template_areas": null,
            "object_position": null,
            "object_fit": null,
            "grid_auto_columns": null,
            "margin": null,
            "display": null,
            "left": null
          }
        },
        "1b9f32565ae44efc9e884da70a75f32d": {
          "model_module": "@jupyter-widgets/controls",
          "model_name": "FloatProgressModel",
          "state": {
            "_view_name": "ProgressView",
            "style": "IPY_MODEL_02ca6cc629904df58bab479633926b0a",
            "_dom_classes": [],
            "description": "100%",
            "_model_name": "FloatProgressModel",
            "bar_style": "",
            "max": 100,
            "_view_module": "@jupyter-widgets/controls",
            "_model_module_version": "1.5.0",
            "value": 100,
            "_view_count": null,
            "_view_module_version": "1.5.0",
            "orientation": "horizontal",
            "min": 0,
            "description_tooltip": null,
            "_model_module": "@jupyter-widgets/controls",
            "layout": "IPY_MODEL_68b5e31e2f4949a3af9c5be09a874801"
          }
        },
        "340f05fca8334bd8b7686db4a4cdd600": {
          "model_module": "@jupyter-widgets/controls",
          "model_name": "HTMLModel",
          "state": {
            "_view_name": "HTMLView",
            "style": "IPY_MODEL_19305dca945441d0ac4a29b3293ee994",
            "_dom_classes": [],
            "description": "",
            "_model_name": "HTMLModel",
            "placeholder": "​",
            "_view_module": "@jupyter-widgets/controls",
            "_model_module_version": "1.5.0",
            "value": " 100/100 [00:08&lt;00:00, 12.05it/s]",
            "_view_count": null,
            "_view_module_version": "1.5.0",
            "description_tooltip": null,
            "_model_module": "@jupyter-widgets/controls",
            "layout": "IPY_MODEL_ca700341403f42beb6425cf04756f523"
          }
        },
        "02ca6cc629904df58bab479633926b0a": {
          "model_module": "@jupyter-widgets/controls",
          "model_name": "ProgressStyleModel",
          "state": {
            "_view_name": "StyleView",
            "_model_name": "ProgressStyleModel",
            "description_width": "initial",
            "_view_module": "@jupyter-widgets/base",
            "_model_module_version": "1.5.0",
            "_view_count": null,
            "_view_module_version": "1.2.0",
            "bar_color": null,
            "_model_module": "@jupyter-widgets/controls"
          }
        },
        "68b5e31e2f4949a3af9c5be09a874801": {
          "model_module": "@jupyter-widgets/base",
          "model_name": "LayoutModel",
          "state": {
            "_view_name": "LayoutView",
            "grid_template_rows": null,
            "right": null,
            "justify_content": null,
            "_view_module": "@jupyter-widgets/base",
            "overflow": null,
            "_model_module_version": "1.2.0",
            "_view_count": null,
            "flex_flow": null,
            "width": null,
            "min_width": null,
            "border": null,
            "align_items": null,
            "bottom": null,
            "_model_module": "@jupyter-widgets/base",
            "top": null,
            "grid_column": null,
            "overflow_y": null,
            "overflow_x": null,
            "grid_auto_flow": null,
            "grid_area": null,
            "grid_template_columns": null,
            "flex": null,
            "_model_name": "LayoutModel",
            "justify_items": null,
            "grid_row": null,
            "max_height": null,
            "align_content": null,
            "visibility": null,
            "align_self": null,
            "height": null,
            "min_height": null,
            "padding": null,
            "grid_auto_rows": null,
            "grid_gap": null,
            "max_width": null,
            "order": null,
            "_view_module_version": "1.2.0",
            "grid_template_areas": null,
            "object_position": null,
            "object_fit": null,
            "grid_auto_columns": null,
            "margin": null,
            "display": null,
            "left": null
          }
        },
        "19305dca945441d0ac4a29b3293ee994": {
          "model_module": "@jupyter-widgets/controls",
          "model_name": "DescriptionStyleModel",
          "state": {
            "_view_name": "StyleView",
            "_model_name": "DescriptionStyleModel",
            "description_width": "",
            "_view_module": "@jupyter-widgets/base",
            "_model_module_version": "1.5.0",
            "_view_count": null,
            "_view_module_version": "1.2.0",
            "_model_module": "@jupyter-widgets/controls"
          }
        },
        "ca700341403f42beb6425cf04756f523": {
          "model_module": "@jupyter-widgets/base",
          "model_name": "LayoutModel",
          "state": {
            "_view_name": "LayoutView",
            "grid_template_rows": null,
            "right": null,
            "justify_content": null,
            "_view_module": "@jupyter-widgets/base",
            "overflow": null,
            "_model_module_version": "1.2.0",
            "_view_count": null,
            "flex_flow": null,
            "width": null,
            "min_width": null,
            "border": null,
            "align_items": null,
            "bottom": null,
            "_model_module": "@jupyter-widgets/base",
            "top": null,
            "grid_column": null,
            "overflow_y": null,
            "overflow_x": null,
            "grid_auto_flow": null,
            "grid_area": null,
            "grid_template_columns": null,
            "flex": null,
            "_model_name": "LayoutModel",
            "justify_items": null,
            "grid_row": null,
            "max_height": null,
            "align_content": null,
            "visibility": null,
            "align_self": null,
            "height": null,
            "min_height": null,
            "padding": null,
            "grid_auto_rows": null,
            "grid_gap": null,
            "max_width": null,
            "order": null,
            "_view_module_version": "1.2.0",
            "grid_template_areas": null,
            "object_position": null,
            "object_fit": null,
            "grid_auto_columns": null,
            "margin": null,
            "display": null,
            "left": null
          }
        },
        "48b701638cd54298875c900c31f03c2c": {
          "model_module": "@jupyter-widgets/controls",
          "model_name": "HBoxModel",
          "state": {
            "_view_name": "HBoxView",
            "_dom_classes": [],
            "_model_name": "HBoxModel",
            "_view_module": "@jupyter-widgets/controls",
            "_model_module_version": "1.5.0",
            "_view_count": null,
            "_view_module_version": "1.5.0",
            "box_style": "",
            "layout": "IPY_MODEL_b6d24c38325443db8ffd29dcfc88de58",
            "_model_module": "@jupyter-widgets/controls",
            "children": [
              "IPY_MODEL_ad9abb7727914663973d4c8f15709612",
              "IPY_MODEL_7922f9c3ddd34d0ca4b896b87abfc7c7"
            ]
          }
        },
        "b6d24c38325443db8ffd29dcfc88de58": {
          "model_module": "@jupyter-widgets/base",
          "model_name": "LayoutModel",
          "state": {
            "_view_name": "LayoutView",
            "grid_template_rows": null,
            "right": null,
            "justify_content": null,
            "_view_module": "@jupyter-widgets/base",
            "overflow": null,
            "_model_module_version": "1.2.0",
            "_view_count": null,
            "flex_flow": null,
            "width": null,
            "min_width": null,
            "border": null,
            "align_items": null,
            "bottom": null,
            "_model_module": "@jupyter-widgets/base",
            "top": null,
            "grid_column": null,
            "overflow_y": null,
            "overflow_x": null,
            "grid_auto_flow": null,
            "grid_area": null,
            "grid_template_columns": null,
            "flex": null,
            "_model_name": "LayoutModel",
            "justify_items": null,
            "grid_row": null,
            "max_height": null,
            "align_content": null,
            "visibility": null,
            "align_self": null,
            "height": null,
            "min_height": null,
            "padding": null,
            "grid_auto_rows": null,
            "grid_gap": null,
            "max_width": null,
            "order": null,
            "_view_module_version": "1.2.0",
            "grid_template_areas": null,
            "object_position": null,
            "object_fit": null,
            "grid_auto_columns": null,
            "margin": null,
            "display": null,
            "left": null
          }
        },
        "ad9abb7727914663973d4c8f15709612": {
          "model_module": "@jupyter-widgets/controls",
          "model_name": "FloatProgressModel",
          "state": {
            "_view_name": "ProgressView",
            "style": "IPY_MODEL_b85e9e387cf64c49a6671cfc49c88bc0",
            "_dom_classes": [],
            "description": "100%",
            "_model_name": "FloatProgressModel",
            "bar_style": "",
            "max": 100,
            "_view_module": "@jupyter-widgets/controls",
            "_model_module_version": "1.5.0",
            "value": 100,
            "_view_count": null,
            "_view_module_version": "1.5.0",
            "orientation": "horizontal",
            "min": 0,
            "description_tooltip": null,
            "_model_module": "@jupyter-widgets/controls",
            "layout": "IPY_MODEL_752421910f43483e9d8ca55db8e2ae2c"
          }
        },
        "7922f9c3ddd34d0ca4b896b87abfc7c7": {
          "model_module": "@jupyter-widgets/controls",
          "model_name": "HTMLModel",
          "state": {
            "_view_name": "HTMLView",
            "style": "IPY_MODEL_af5b1c2aa3024f5aa3d5bc5be360e18f",
            "_dom_classes": [],
            "description": "",
            "_model_name": "HTMLModel",
            "placeholder": "​",
            "_view_module": "@jupyter-widgets/controls",
            "_model_module_version": "1.5.0",
            "value": " 100/100 [00:12&lt;00:00,  8.38it/s]",
            "_view_count": null,
            "_view_module_version": "1.5.0",
            "description_tooltip": null,
            "_model_module": "@jupyter-widgets/controls",
            "layout": "IPY_MODEL_2e1d15d414274e2aa2f82670d0c280ba"
          }
        },
        "b85e9e387cf64c49a6671cfc49c88bc0": {
          "model_module": "@jupyter-widgets/controls",
          "model_name": "ProgressStyleModel",
          "state": {
            "_view_name": "StyleView",
            "_model_name": "ProgressStyleModel",
            "description_width": "initial",
            "_view_module": "@jupyter-widgets/base",
            "_model_module_version": "1.5.0",
            "_view_count": null,
            "_view_module_version": "1.2.0",
            "bar_color": null,
            "_model_module": "@jupyter-widgets/controls"
          }
        },
        "752421910f43483e9d8ca55db8e2ae2c": {
          "model_module": "@jupyter-widgets/base",
          "model_name": "LayoutModel",
          "state": {
            "_view_name": "LayoutView",
            "grid_template_rows": null,
            "right": null,
            "justify_content": null,
            "_view_module": "@jupyter-widgets/base",
            "overflow": null,
            "_model_module_version": "1.2.0",
            "_view_count": null,
            "flex_flow": null,
            "width": null,
            "min_width": null,
            "border": null,
            "align_items": null,
            "bottom": null,
            "_model_module": "@jupyter-widgets/base",
            "top": null,
            "grid_column": null,
            "overflow_y": null,
            "overflow_x": null,
            "grid_auto_flow": null,
            "grid_area": null,
            "grid_template_columns": null,
            "flex": null,
            "_model_name": "LayoutModel",
            "justify_items": null,
            "grid_row": null,
            "max_height": null,
            "align_content": null,
            "visibility": null,
            "align_self": null,
            "height": null,
            "min_height": null,
            "padding": null,
            "grid_auto_rows": null,
            "grid_gap": null,
            "max_width": null,
            "order": null,
            "_view_module_version": "1.2.0",
            "grid_template_areas": null,
            "object_position": null,
            "object_fit": null,
            "grid_auto_columns": null,
            "margin": null,
            "display": null,
            "left": null
          }
        },
        "af5b1c2aa3024f5aa3d5bc5be360e18f": {
          "model_module": "@jupyter-widgets/controls",
          "model_name": "DescriptionStyleModel",
          "state": {
            "_view_name": "StyleView",
            "_model_name": "DescriptionStyleModel",
            "description_width": "",
            "_view_module": "@jupyter-widgets/base",
            "_model_module_version": "1.5.0",
            "_view_count": null,
            "_view_module_version": "1.2.0",
            "_model_module": "@jupyter-widgets/controls"
          }
        },
        "2e1d15d414274e2aa2f82670d0c280ba": {
          "model_module": "@jupyter-widgets/base",
          "model_name": "LayoutModel",
          "state": {
            "_view_name": "LayoutView",
            "grid_template_rows": null,
            "right": null,
            "justify_content": null,
            "_view_module": "@jupyter-widgets/base",
            "overflow": null,
            "_model_module_version": "1.2.0",
            "_view_count": null,
            "flex_flow": null,
            "width": null,
            "min_width": null,
            "border": null,
            "align_items": null,
            "bottom": null,
            "_model_module": "@jupyter-widgets/base",
            "top": null,
            "grid_column": null,
            "overflow_y": null,
            "overflow_x": null,
            "grid_auto_flow": null,
            "grid_area": null,
            "grid_template_columns": null,
            "flex": null,
            "_model_name": "LayoutModel",
            "justify_items": null,
            "grid_row": null,
            "max_height": null,
            "align_content": null,
            "visibility": null,
            "align_self": null,
            "height": null,
            "min_height": null,
            "padding": null,
            "grid_auto_rows": null,
            "grid_gap": null,
            "max_width": null,
            "order": null,
            "_view_module_version": "1.2.0",
            "grid_template_areas": null,
            "object_position": null,
            "object_fit": null,
            "grid_auto_columns": null,
            "margin": null,
            "display": null,
            "left": null
          }
        },
        "ce33e1f694fc4464b20233fb7cbb88e2": {
          "model_module": "@jupyter-widgets/controls",
          "model_name": "HBoxModel",
          "state": {
            "_view_name": "HBoxView",
            "_dom_classes": [],
            "_model_name": "HBoxModel",
            "_view_module": "@jupyter-widgets/controls",
            "_model_module_version": "1.5.0",
            "_view_count": null,
            "_view_module_version": "1.5.0",
            "box_style": "",
            "layout": "IPY_MODEL_b0ef9a51f73a41e0bf7ecc8e63d7f165",
            "_model_module": "@jupyter-widgets/controls",
            "children": [
              "IPY_MODEL_f1f0c84ec1564ac192d43e48157a7775",
              "IPY_MODEL_7acc7efaf7a74390ad39d71a1d9ecc8e"
            ]
          }
        },
        "b0ef9a51f73a41e0bf7ecc8e63d7f165": {
          "model_module": "@jupyter-widgets/base",
          "model_name": "LayoutModel",
          "state": {
            "_view_name": "LayoutView",
            "grid_template_rows": null,
            "right": null,
            "justify_content": null,
            "_view_module": "@jupyter-widgets/base",
            "overflow": null,
            "_model_module_version": "1.2.0",
            "_view_count": null,
            "flex_flow": null,
            "width": null,
            "min_width": null,
            "border": null,
            "align_items": null,
            "bottom": null,
            "_model_module": "@jupyter-widgets/base",
            "top": null,
            "grid_column": null,
            "overflow_y": null,
            "overflow_x": null,
            "grid_auto_flow": null,
            "grid_area": null,
            "grid_template_columns": null,
            "flex": null,
            "_model_name": "LayoutModel",
            "justify_items": null,
            "grid_row": null,
            "max_height": null,
            "align_content": null,
            "visibility": null,
            "align_self": null,
            "height": null,
            "min_height": null,
            "padding": null,
            "grid_auto_rows": null,
            "grid_gap": null,
            "max_width": null,
            "order": null,
            "_view_module_version": "1.2.0",
            "grid_template_areas": null,
            "object_position": null,
            "object_fit": null,
            "grid_auto_columns": null,
            "margin": null,
            "display": null,
            "left": null
          }
        },
        "f1f0c84ec1564ac192d43e48157a7775": {
          "model_module": "@jupyter-widgets/controls",
          "model_name": "FloatProgressModel",
          "state": {
            "_view_name": "ProgressView",
            "style": "IPY_MODEL_fe8a725966ce4360817104e0860363b7",
            "_dom_classes": [],
            "description": "100%",
            "_model_name": "FloatProgressModel",
            "bar_style": "",
            "max": 100,
            "_view_module": "@jupyter-widgets/controls",
            "_model_module_version": "1.5.0",
            "value": 100,
            "_view_count": null,
            "_view_module_version": "1.5.0",
            "orientation": "horizontal",
            "min": 0,
            "description_tooltip": null,
            "_model_module": "@jupyter-widgets/controls",
            "layout": "IPY_MODEL_425caa8cf7bb4c5b99299e31c14fa332"
          }
        },
        "7acc7efaf7a74390ad39d71a1d9ecc8e": {
          "model_module": "@jupyter-widgets/controls",
          "model_name": "HTMLModel",
          "state": {
            "_view_name": "HTMLView",
            "style": "IPY_MODEL_61f8f1c072074c579dfc461dfe44cd9e",
            "_dom_classes": [],
            "description": "",
            "_model_name": "HTMLModel",
            "placeholder": "​",
            "_view_module": "@jupyter-widgets/controls",
            "_model_module_version": "1.5.0",
            "value": " 100/100 [00:15&lt;00:00,  6.61it/s]",
            "_view_count": null,
            "_view_module_version": "1.5.0",
            "description_tooltip": null,
            "_model_module": "@jupyter-widgets/controls",
            "layout": "IPY_MODEL_6b85cd594586481c9c31810cf4f61983"
          }
        },
        "fe8a725966ce4360817104e0860363b7": {
          "model_module": "@jupyter-widgets/controls",
          "model_name": "ProgressStyleModel",
          "state": {
            "_view_name": "StyleView",
            "_model_name": "ProgressStyleModel",
            "description_width": "initial",
            "_view_module": "@jupyter-widgets/base",
            "_model_module_version": "1.5.0",
            "_view_count": null,
            "_view_module_version": "1.2.0",
            "bar_color": null,
            "_model_module": "@jupyter-widgets/controls"
          }
        },
        "425caa8cf7bb4c5b99299e31c14fa332": {
          "model_module": "@jupyter-widgets/base",
          "model_name": "LayoutModel",
          "state": {
            "_view_name": "LayoutView",
            "grid_template_rows": null,
            "right": null,
            "justify_content": null,
            "_view_module": "@jupyter-widgets/base",
            "overflow": null,
            "_model_module_version": "1.2.0",
            "_view_count": null,
            "flex_flow": null,
            "width": null,
            "min_width": null,
            "border": null,
            "align_items": null,
            "bottom": null,
            "_model_module": "@jupyter-widgets/base",
            "top": null,
            "grid_column": null,
            "overflow_y": null,
            "overflow_x": null,
            "grid_auto_flow": null,
            "grid_area": null,
            "grid_template_columns": null,
            "flex": null,
            "_model_name": "LayoutModel",
            "justify_items": null,
            "grid_row": null,
            "max_height": null,
            "align_content": null,
            "visibility": null,
            "align_self": null,
            "height": null,
            "min_height": null,
            "padding": null,
            "grid_auto_rows": null,
            "grid_gap": null,
            "max_width": null,
            "order": null,
            "_view_module_version": "1.2.0",
            "grid_template_areas": null,
            "object_position": null,
            "object_fit": null,
            "grid_auto_columns": null,
            "margin": null,
            "display": null,
            "left": null
          }
        },
        "61f8f1c072074c579dfc461dfe44cd9e": {
          "model_module": "@jupyter-widgets/controls",
          "model_name": "DescriptionStyleModel",
          "state": {
            "_view_name": "StyleView",
            "_model_name": "DescriptionStyleModel",
            "description_width": "",
            "_view_module": "@jupyter-widgets/base",
            "_model_module_version": "1.5.0",
            "_view_count": null,
            "_view_module_version": "1.2.0",
            "_model_module": "@jupyter-widgets/controls"
          }
        },
        "6b85cd594586481c9c31810cf4f61983": {
          "model_module": "@jupyter-widgets/base",
          "model_name": "LayoutModel",
          "state": {
            "_view_name": "LayoutView",
            "grid_template_rows": null,
            "right": null,
            "justify_content": null,
            "_view_module": "@jupyter-widgets/base",
            "overflow": null,
            "_model_module_version": "1.2.0",
            "_view_count": null,
            "flex_flow": null,
            "width": null,
            "min_width": null,
            "border": null,
            "align_items": null,
            "bottom": null,
            "_model_module": "@jupyter-widgets/base",
            "top": null,
            "grid_column": null,
            "overflow_y": null,
            "overflow_x": null,
            "grid_auto_flow": null,
            "grid_area": null,
            "grid_template_columns": null,
            "flex": null,
            "_model_name": "LayoutModel",
            "justify_items": null,
            "grid_row": null,
            "max_height": null,
            "align_content": null,
            "visibility": null,
            "align_self": null,
            "height": null,
            "min_height": null,
            "padding": null,
            "grid_auto_rows": null,
            "grid_gap": null,
            "max_width": null,
            "order": null,
            "_view_module_version": "1.2.0",
            "grid_template_areas": null,
            "object_position": null,
            "object_fit": null,
            "grid_auto_columns": null,
            "margin": null,
            "display": null,
            "left": null
          }
        },
        "4998bcf9ad0a46948b9a0e3c07edbe88": {
          "model_module": "@jupyter-widgets/controls",
          "model_name": "HBoxModel",
          "state": {
            "_view_name": "HBoxView",
            "_dom_classes": [],
            "_model_name": "HBoxModel",
            "_view_module": "@jupyter-widgets/controls",
            "_model_module_version": "1.5.0",
            "_view_count": null,
            "_view_module_version": "1.5.0",
            "box_style": "",
            "layout": "IPY_MODEL_8f59ac54fba24769b6659665f3c62fb3",
            "_model_module": "@jupyter-widgets/controls",
            "children": [
              "IPY_MODEL_bec97d60a0fb49429208c0cdf78917a2",
              "IPY_MODEL_f2c4b6a9b9bc43ef9e6a6f9b245ca536"
            ]
          }
        },
        "8f59ac54fba24769b6659665f3c62fb3": {
          "model_module": "@jupyter-widgets/base",
          "model_name": "LayoutModel",
          "state": {
            "_view_name": "LayoutView",
            "grid_template_rows": null,
            "right": null,
            "justify_content": null,
            "_view_module": "@jupyter-widgets/base",
            "overflow": null,
            "_model_module_version": "1.2.0",
            "_view_count": null,
            "flex_flow": null,
            "width": null,
            "min_width": null,
            "border": null,
            "align_items": null,
            "bottom": null,
            "_model_module": "@jupyter-widgets/base",
            "top": null,
            "grid_column": null,
            "overflow_y": null,
            "overflow_x": null,
            "grid_auto_flow": null,
            "grid_area": null,
            "grid_template_columns": null,
            "flex": null,
            "_model_name": "LayoutModel",
            "justify_items": null,
            "grid_row": null,
            "max_height": null,
            "align_content": null,
            "visibility": null,
            "align_self": null,
            "height": null,
            "min_height": null,
            "padding": null,
            "grid_auto_rows": null,
            "grid_gap": null,
            "max_width": null,
            "order": null,
            "_view_module_version": "1.2.0",
            "grid_template_areas": null,
            "object_position": null,
            "object_fit": null,
            "grid_auto_columns": null,
            "margin": null,
            "display": null,
            "left": null
          }
        },
        "bec97d60a0fb49429208c0cdf78917a2": {
          "model_module": "@jupyter-widgets/controls",
          "model_name": "FloatProgressModel",
          "state": {
            "_view_name": "ProgressView",
            "style": "IPY_MODEL_eb5b345fbe4649f98d222412b64649d2",
            "_dom_classes": [],
            "description": "100%",
            "_model_name": "FloatProgressModel",
            "bar_style": "",
            "max": 100,
            "_view_module": "@jupyter-widgets/controls",
            "_model_module_version": "1.5.0",
            "value": 100,
            "_view_count": null,
            "_view_module_version": "1.5.0",
            "orientation": "horizontal",
            "min": 0,
            "description_tooltip": null,
            "_model_module": "@jupyter-widgets/controls",
            "layout": "IPY_MODEL_74f8b13d0382457399f8a20ae05612ff"
          }
        },
        "f2c4b6a9b9bc43ef9e6a6f9b245ca536": {
          "model_module": "@jupyter-widgets/controls",
          "model_name": "HTMLModel",
          "state": {
            "_view_name": "HTMLView",
            "style": "IPY_MODEL_5fbddf8aeddc4341bcf403ebbfddd8fd",
            "_dom_classes": [],
            "description": "",
            "_model_name": "HTMLModel",
            "placeholder": "​",
            "_view_module": "@jupyter-widgets/controls",
            "_model_module_version": "1.5.0",
            "value": " 100/100 [00:07&lt;00:00, 13.01it/s]",
            "_view_count": null,
            "_view_module_version": "1.5.0",
            "description_tooltip": null,
            "_model_module": "@jupyter-widgets/controls",
            "layout": "IPY_MODEL_ac03667235124eb7bec7d9e9b67563b4"
          }
        },
        "eb5b345fbe4649f98d222412b64649d2": {
          "model_module": "@jupyter-widgets/controls",
          "model_name": "ProgressStyleModel",
          "state": {
            "_view_name": "StyleView",
            "_model_name": "ProgressStyleModel",
            "description_width": "initial",
            "_view_module": "@jupyter-widgets/base",
            "_model_module_version": "1.5.0",
            "_view_count": null,
            "_view_module_version": "1.2.0",
            "bar_color": null,
            "_model_module": "@jupyter-widgets/controls"
          }
        },
        "74f8b13d0382457399f8a20ae05612ff": {
          "model_module": "@jupyter-widgets/base",
          "model_name": "LayoutModel",
          "state": {
            "_view_name": "LayoutView",
            "grid_template_rows": null,
            "right": null,
            "justify_content": null,
            "_view_module": "@jupyter-widgets/base",
            "overflow": null,
            "_model_module_version": "1.2.0",
            "_view_count": null,
            "flex_flow": null,
            "width": null,
            "min_width": null,
            "border": null,
            "align_items": null,
            "bottom": null,
            "_model_module": "@jupyter-widgets/base",
            "top": null,
            "grid_column": null,
            "overflow_y": null,
            "overflow_x": null,
            "grid_auto_flow": null,
            "grid_area": null,
            "grid_template_columns": null,
            "flex": null,
            "_model_name": "LayoutModel",
            "justify_items": null,
            "grid_row": null,
            "max_height": null,
            "align_content": null,
            "visibility": null,
            "align_self": null,
            "height": null,
            "min_height": null,
            "padding": null,
            "grid_auto_rows": null,
            "grid_gap": null,
            "max_width": null,
            "order": null,
            "_view_module_version": "1.2.0",
            "grid_template_areas": null,
            "object_position": null,
            "object_fit": null,
            "grid_auto_columns": null,
            "margin": null,
            "display": null,
            "left": null
          }
        },
        "5fbddf8aeddc4341bcf403ebbfddd8fd": {
          "model_module": "@jupyter-widgets/controls",
          "model_name": "DescriptionStyleModel",
          "state": {
            "_view_name": "StyleView",
            "_model_name": "DescriptionStyleModel",
            "description_width": "",
            "_view_module": "@jupyter-widgets/base",
            "_model_module_version": "1.5.0",
            "_view_count": null,
            "_view_module_version": "1.2.0",
            "_model_module": "@jupyter-widgets/controls"
          }
        },
        "ac03667235124eb7bec7d9e9b67563b4": {
          "model_module": "@jupyter-widgets/base",
          "model_name": "LayoutModel",
          "state": {
            "_view_name": "LayoutView",
            "grid_template_rows": null,
            "right": null,
            "justify_content": null,
            "_view_module": "@jupyter-widgets/base",
            "overflow": null,
            "_model_module_version": "1.2.0",
            "_view_count": null,
            "flex_flow": null,
            "width": null,
            "min_width": null,
            "border": null,
            "align_items": null,
            "bottom": null,
            "_model_module": "@jupyter-widgets/base",
            "top": null,
            "grid_column": null,
            "overflow_y": null,
            "overflow_x": null,
            "grid_auto_flow": null,
            "grid_area": null,
            "grid_template_columns": null,
            "flex": null,
            "_model_name": "LayoutModel",
            "justify_items": null,
            "grid_row": null,
            "max_height": null,
            "align_content": null,
            "visibility": null,
            "align_self": null,
            "height": null,
            "min_height": null,
            "padding": null,
            "grid_auto_rows": null,
            "grid_gap": null,
            "max_width": null,
            "order": null,
            "_view_module_version": "1.2.0",
            "grid_template_areas": null,
            "object_position": null,
            "object_fit": null,
            "grid_auto_columns": null,
            "margin": null,
            "display": null,
            "left": null
          }
        },
        "2771f8578f3543ff88b26c60ac87d209": {
          "model_module": "@jupyter-widgets/controls",
          "model_name": "HBoxModel",
          "state": {
            "_view_name": "HBoxView",
            "_dom_classes": [],
            "_model_name": "HBoxModel",
            "_view_module": "@jupyter-widgets/controls",
            "_model_module_version": "1.5.0",
            "_view_count": null,
            "_view_module_version": "1.5.0",
            "box_style": "",
            "layout": "IPY_MODEL_e84a002f3f5d4d8e8ae360f4c79e1a99",
            "_model_module": "@jupyter-widgets/controls",
            "children": [
              "IPY_MODEL_7059d71adad14c1cbb84abf41525af9a",
              "IPY_MODEL_8652e47d6ee24d3a85f8457e93ea88bb"
            ]
          }
        },
        "e84a002f3f5d4d8e8ae360f4c79e1a99": {
          "model_module": "@jupyter-widgets/base",
          "model_name": "LayoutModel",
          "state": {
            "_view_name": "LayoutView",
            "grid_template_rows": null,
            "right": null,
            "justify_content": null,
            "_view_module": "@jupyter-widgets/base",
            "overflow": null,
            "_model_module_version": "1.2.0",
            "_view_count": null,
            "flex_flow": null,
            "width": null,
            "min_width": null,
            "border": null,
            "align_items": null,
            "bottom": null,
            "_model_module": "@jupyter-widgets/base",
            "top": null,
            "grid_column": null,
            "overflow_y": null,
            "overflow_x": null,
            "grid_auto_flow": null,
            "grid_area": null,
            "grid_template_columns": null,
            "flex": null,
            "_model_name": "LayoutModel",
            "justify_items": null,
            "grid_row": null,
            "max_height": null,
            "align_content": null,
            "visibility": null,
            "align_self": null,
            "height": null,
            "min_height": null,
            "padding": null,
            "grid_auto_rows": null,
            "grid_gap": null,
            "max_width": null,
            "order": null,
            "_view_module_version": "1.2.0",
            "grid_template_areas": null,
            "object_position": null,
            "object_fit": null,
            "grid_auto_columns": null,
            "margin": null,
            "display": null,
            "left": null
          }
        },
        "7059d71adad14c1cbb84abf41525af9a": {
          "model_module": "@jupyter-widgets/controls",
          "model_name": "FloatProgressModel",
          "state": {
            "_view_name": "ProgressView",
            "style": "IPY_MODEL_a03934af5ed84b218dbddf7e03313487",
            "_dom_classes": [],
            "description": "100%",
            "_model_name": "FloatProgressModel",
            "bar_style": "",
            "max": 100,
            "_view_module": "@jupyter-widgets/controls",
            "_model_module_version": "1.5.0",
            "value": 100,
            "_view_count": null,
            "_view_module_version": "1.5.0",
            "orientation": "horizontal",
            "min": 0,
            "description_tooltip": null,
            "_model_module": "@jupyter-widgets/controls",
            "layout": "IPY_MODEL_b7d62291b8aa46608d42b9634f6033ec"
          }
        },
        "8652e47d6ee24d3a85f8457e93ea88bb": {
          "model_module": "@jupyter-widgets/controls",
          "model_name": "HTMLModel",
          "state": {
            "_view_name": "HTMLView",
            "style": "IPY_MODEL_445f4de0890a4652b6671f139c950ec7",
            "_dom_classes": [],
            "description": "",
            "_model_name": "HTMLModel",
            "placeholder": "​",
            "_view_module": "@jupyter-widgets/controls",
            "_model_module_version": "1.5.0",
            "value": " 100/100 [00:10&lt;00:00,  9.68it/s]",
            "_view_count": null,
            "_view_module_version": "1.5.0",
            "description_tooltip": null,
            "_model_module": "@jupyter-widgets/controls",
            "layout": "IPY_MODEL_b3e5aa3fea9346fb96d299c31ad1cb89"
          }
        },
        "a03934af5ed84b218dbddf7e03313487": {
          "model_module": "@jupyter-widgets/controls",
          "model_name": "ProgressStyleModel",
          "state": {
            "_view_name": "StyleView",
            "_model_name": "ProgressStyleModel",
            "description_width": "initial",
            "_view_module": "@jupyter-widgets/base",
            "_model_module_version": "1.5.0",
            "_view_count": null,
            "_view_module_version": "1.2.0",
            "bar_color": null,
            "_model_module": "@jupyter-widgets/controls"
          }
        },
        "b7d62291b8aa46608d42b9634f6033ec": {
          "model_module": "@jupyter-widgets/base",
          "model_name": "LayoutModel",
          "state": {
            "_view_name": "LayoutView",
            "grid_template_rows": null,
            "right": null,
            "justify_content": null,
            "_view_module": "@jupyter-widgets/base",
            "overflow": null,
            "_model_module_version": "1.2.0",
            "_view_count": null,
            "flex_flow": null,
            "width": null,
            "min_width": null,
            "border": null,
            "align_items": null,
            "bottom": null,
            "_model_module": "@jupyter-widgets/base",
            "top": null,
            "grid_column": null,
            "overflow_y": null,
            "overflow_x": null,
            "grid_auto_flow": null,
            "grid_area": null,
            "grid_template_columns": null,
            "flex": null,
            "_model_name": "LayoutModel",
            "justify_items": null,
            "grid_row": null,
            "max_height": null,
            "align_content": null,
            "visibility": null,
            "align_self": null,
            "height": null,
            "min_height": null,
            "padding": null,
            "grid_auto_rows": null,
            "grid_gap": null,
            "max_width": null,
            "order": null,
            "_view_module_version": "1.2.0",
            "grid_template_areas": null,
            "object_position": null,
            "object_fit": null,
            "grid_auto_columns": null,
            "margin": null,
            "display": null,
            "left": null
          }
        },
        "445f4de0890a4652b6671f139c950ec7": {
          "model_module": "@jupyter-widgets/controls",
          "model_name": "DescriptionStyleModel",
          "state": {
            "_view_name": "StyleView",
            "_model_name": "DescriptionStyleModel",
            "description_width": "",
            "_view_module": "@jupyter-widgets/base",
            "_model_module_version": "1.5.0",
            "_view_count": null,
            "_view_module_version": "1.2.0",
            "_model_module": "@jupyter-widgets/controls"
          }
        },
        "b3e5aa3fea9346fb96d299c31ad1cb89": {
          "model_module": "@jupyter-widgets/base",
          "model_name": "LayoutModel",
          "state": {
            "_view_name": "LayoutView",
            "grid_template_rows": null,
            "right": null,
            "justify_content": null,
            "_view_module": "@jupyter-widgets/base",
            "overflow": null,
            "_model_module_version": "1.2.0",
            "_view_count": null,
            "flex_flow": null,
            "width": null,
            "min_width": null,
            "border": null,
            "align_items": null,
            "bottom": null,
            "_model_module": "@jupyter-widgets/base",
            "top": null,
            "grid_column": null,
            "overflow_y": null,
            "overflow_x": null,
            "grid_auto_flow": null,
            "grid_area": null,
            "grid_template_columns": null,
            "flex": null,
            "_model_name": "LayoutModel",
            "justify_items": null,
            "grid_row": null,
            "max_height": null,
            "align_content": null,
            "visibility": null,
            "align_self": null,
            "height": null,
            "min_height": null,
            "padding": null,
            "grid_auto_rows": null,
            "grid_gap": null,
            "max_width": null,
            "order": null,
            "_view_module_version": "1.2.0",
            "grid_template_areas": null,
            "object_position": null,
            "object_fit": null,
            "grid_auto_columns": null,
            "margin": null,
            "display": null,
            "left": null
          }
        },
        "6451a994f932422898a7cd6e5cf691fd": {
          "model_module": "@jupyter-widgets/controls",
          "model_name": "HBoxModel",
          "state": {
            "_view_name": "HBoxView",
            "_dom_classes": [],
            "_model_name": "HBoxModel",
            "_view_module": "@jupyter-widgets/controls",
            "_model_module_version": "1.5.0",
            "_view_count": null,
            "_view_module_version": "1.5.0",
            "box_style": "",
            "layout": "IPY_MODEL_21ab49aa47d4415286d491a6700eddb3",
            "_model_module": "@jupyter-widgets/controls",
            "children": [
              "IPY_MODEL_77ad11d31f4c4b0187b883b5af48b082",
              "IPY_MODEL_6b00d1234a4f4cbda32151d55ff26005"
            ]
          }
        },
        "21ab49aa47d4415286d491a6700eddb3": {
          "model_module": "@jupyter-widgets/base",
          "model_name": "LayoutModel",
          "state": {
            "_view_name": "LayoutView",
            "grid_template_rows": null,
            "right": null,
            "justify_content": null,
            "_view_module": "@jupyter-widgets/base",
            "overflow": null,
            "_model_module_version": "1.2.0",
            "_view_count": null,
            "flex_flow": null,
            "width": null,
            "min_width": null,
            "border": null,
            "align_items": null,
            "bottom": null,
            "_model_module": "@jupyter-widgets/base",
            "top": null,
            "grid_column": null,
            "overflow_y": null,
            "overflow_x": null,
            "grid_auto_flow": null,
            "grid_area": null,
            "grid_template_columns": null,
            "flex": null,
            "_model_name": "LayoutModel",
            "justify_items": null,
            "grid_row": null,
            "max_height": null,
            "align_content": null,
            "visibility": null,
            "align_self": null,
            "height": null,
            "min_height": null,
            "padding": null,
            "grid_auto_rows": null,
            "grid_gap": null,
            "max_width": null,
            "order": null,
            "_view_module_version": "1.2.0",
            "grid_template_areas": null,
            "object_position": null,
            "object_fit": null,
            "grid_auto_columns": null,
            "margin": null,
            "display": null,
            "left": null
          }
        },
        "77ad11d31f4c4b0187b883b5af48b082": {
          "model_module": "@jupyter-widgets/controls",
          "model_name": "FloatProgressModel",
          "state": {
            "_view_name": "ProgressView",
            "style": "IPY_MODEL_8e4ae0218911449ba622d69385f90c0f",
            "_dom_classes": [],
            "description": "100%",
            "_model_name": "FloatProgressModel",
            "bar_style": "",
            "max": 100,
            "_view_module": "@jupyter-widgets/controls",
            "_model_module_version": "1.5.0",
            "value": 100,
            "_view_count": null,
            "_view_module_version": "1.5.0",
            "orientation": "horizontal",
            "min": 0,
            "description_tooltip": null,
            "_model_module": "@jupyter-widgets/controls",
            "layout": "IPY_MODEL_7bb1a0795e52439b824826a4c9f21175"
          }
        },
        "6b00d1234a4f4cbda32151d55ff26005": {
          "model_module": "@jupyter-widgets/controls",
          "model_name": "HTMLModel",
          "state": {
            "_view_name": "HTMLView",
            "style": "IPY_MODEL_f2ecf5fd40d2469c948d16f335752389",
            "_dom_classes": [],
            "description": "",
            "_model_name": "HTMLModel",
            "placeholder": "​",
            "_view_module": "@jupyter-widgets/controls",
            "_model_module_version": "1.5.0",
            "value": " 100/100 [00:08&lt;00:00, 12.75it/s]",
            "_view_count": null,
            "_view_module_version": "1.5.0",
            "description_tooltip": null,
            "_model_module": "@jupyter-widgets/controls",
            "layout": "IPY_MODEL_20816dfa29e846efa35fc17a890e5bdc"
          }
        },
        "8e4ae0218911449ba622d69385f90c0f": {
          "model_module": "@jupyter-widgets/controls",
          "model_name": "ProgressStyleModel",
          "state": {
            "_view_name": "StyleView",
            "_model_name": "ProgressStyleModel",
            "description_width": "initial",
            "_view_module": "@jupyter-widgets/base",
            "_model_module_version": "1.5.0",
            "_view_count": null,
            "_view_module_version": "1.2.0",
            "bar_color": null,
            "_model_module": "@jupyter-widgets/controls"
          }
        },
        "7bb1a0795e52439b824826a4c9f21175": {
          "model_module": "@jupyter-widgets/base",
          "model_name": "LayoutModel",
          "state": {
            "_view_name": "LayoutView",
            "grid_template_rows": null,
            "right": null,
            "justify_content": null,
            "_view_module": "@jupyter-widgets/base",
            "overflow": null,
            "_model_module_version": "1.2.0",
            "_view_count": null,
            "flex_flow": null,
            "width": null,
            "min_width": null,
            "border": null,
            "align_items": null,
            "bottom": null,
            "_model_module": "@jupyter-widgets/base",
            "top": null,
            "grid_column": null,
            "overflow_y": null,
            "overflow_x": null,
            "grid_auto_flow": null,
            "grid_area": null,
            "grid_template_columns": null,
            "flex": null,
            "_model_name": "LayoutModel",
            "justify_items": null,
            "grid_row": null,
            "max_height": null,
            "align_content": null,
            "visibility": null,
            "align_self": null,
            "height": null,
            "min_height": null,
            "padding": null,
            "grid_auto_rows": null,
            "grid_gap": null,
            "max_width": null,
            "order": null,
            "_view_module_version": "1.2.0",
            "grid_template_areas": null,
            "object_position": null,
            "object_fit": null,
            "grid_auto_columns": null,
            "margin": null,
            "display": null,
            "left": null
          }
        },
        "f2ecf5fd40d2469c948d16f335752389": {
          "model_module": "@jupyter-widgets/controls",
          "model_name": "DescriptionStyleModel",
          "state": {
            "_view_name": "StyleView",
            "_model_name": "DescriptionStyleModel",
            "description_width": "",
            "_view_module": "@jupyter-widgets/base",
            "_model_module_version": "1.5.0",
            "_view_count": null,
            "_view_module_version": "1.2.0",
            "_model_module": "@jupyter-widgets/controls"
          }
        },
        "20816dfa29e846efa35fc17a890e5bdc": {
          "model_module": "@jupyter-widgets/base",
          "model_name": "LayoutModel",
          "state": {
            "_view_name": "LayoutView",
            "grid_template_rows": null,
            "right": null,
            "justify_content": null,
            "_view_module": "@jupyter-widgets/base",
            "overflow": null,
            "_model_module_version": "1.2.0",
            "_view_count": null,
            "flex_flow": null,
            "width": null,
            "min_width": null,
            "border": null,
            "align_items": null,
            "bottom": null,
            "_model_module": "@jupyter-widgets/base",
            "top": null,
            "grid_column": null,
            "overflow_y": null,
            "overflow_x": null,
            "grid_auto_flow": null,
            "grid_area": null,
            "grid_template_columns": null,
            "flex": null,
            "_model_name": "LayoutModel",
            "justify_items": null,
            "grid_row": null,
            "max_height": null,
            "align_content": null,
            "visibility": null,
            "align_self": null,
            "height": null,
            "min_height": null,
            "padding": null,
            "grid_auto_rows": null,
            "grid_gap": null,
            "max_width": null,
            "order": null,
            "_view_module_version": "1.2.0",
            "grid_template_areas": null,
            "object_position": null,
            "object_fit": null,
            "grid_auto_columns": null,
            "margin": null,
            "display": null,
            "left": null
          }
        },
        "3ef22f3d70f6463d988a242786140285": {
          "model_module": "@jupyter-widgets/controls",
          "model_name": "HBoxModel",
          "state": {
            "_view_name": "HBoxView",
            "_dom_classes": [],
            "_model_name": "HBoxModel",
            "_view_module": "@jupyter-widgets/controls",
            "_model_module_version": "1.5.0",
            "_view_count": null,
            "_view_module_version": "1.5.0",
            "box_style": "",
            "layout": "IPY_MODEL_2c5cd64df57841d295b89585489da529",
            "_model_module": "@jupyter-widgets/controls",
            "children": [
              "IPY_MODEL_3f4d351c08114243940b7317f8c36952",
              "IPY_MODEL_6ebcde2d811348b4b81a5175fe618bac"
            ]
          }
        },
        "2c5cd64df57841d295b89585489da529": {
          "model_module": "@jupyter-widgets/base",
          "model_name": "LayoutModel",
          "state": {
            "_view_name": "LayoutView",
            "grid_template_rows": null,
            "right": null,
            "justify_content": null,
            "_view_module": "@jupyter-widgets/base",
            "overflow": null,
            "_model_module_version": "1.2.0",
            "_view_count": null,
            "flex_flow": null,
            "width": null,
            "min_width": null,
            "border": null,
            "align_items": null,
            "bottom": null,
            "_model_module": "@jupyter-widgets/base",
            "top": null,
            "grid_column": null,
            "overflow_y": null,
            "overflow_x": null,
            "grid_auto_flow": null,
            "grid_area": null,
            "grid_template_columns": null,
            "flex": null,
            "_model_name": "LayoutModel",
            "justify_items": null,
            "grid_row": null,
            "max_height": null,
            "align_content": null,
            "visibility": null,
            "align_self": null,
            "height": null,
            "min_height": null,
            "padding": null,
            "grid_auto_rows": null,
            "grid_gap": null,
            "max_width": null,
            "order": null,
            "_view_module_version": "1.2.0",
            "grid_template_areas": null,
            "object_position": null,
            "object_fit": null,
            "grid_auto_columns": null,
            "margin": null,
            "display": null,
            "left": null
          }
        },
        "3f4d351c08114243940b7317f8c36952": {
          "model_module": "@jupyter-widgets/controls",
          "model_name": "FloatProgressModel",
          "state": {
            "_view_name": "ProgressView",
            "style": "IPY_MODEL_34a049a24b554443a56f2d33d77657c1",
            "_dom_classes": [],
            "description": "100%",
            "_model_name": "FloatProgressModel",
            "bar_style": "success",
            "max": 8,
            "_view_module": "@jupyter-widgets/controls",
            "_model_module_version": "1.5.0",
            "value": 8,
            "_view_count": null,
            "_view_module_version": "1.5.0",
            "orientation": "horizontal",
            "min": 0,
            "description_tooltip": null,
            "_model_module": "@jupyter-widgets/controls",
            "layout": "IPY_MODEL_cc5573f9e314472a9d245e4db1eadc8f"
          }
        },
        "6ebcde2d811348b4b81a5175fe618bac": {
          "model_module": "@jupyter-widgets/controls",
          "model_name": "HTMLModel",
          "state": {
            "_view_name": "HTMLView",
            "style": "IPY_MODEL_a8f088250c084d95b0b9d297d936a232",
            "_dom_classes": [],
            "description": "",
            "_model_name": "HTMLModel",
            "placeholder": "​",
            "_view_module": "@jupyter-widgets/controls",
            "_model_module_version": "1.5.0",
            "value": " 8/8 [00:00&lt;00:00, 43.60it/s]",
            "_view_count": null,
            "_view_module_version": "1.5.0",
            "description_tooltip": null,
            "_model_module": "@jupyter-widgets/controls",
            "layout": "IPY_MODEL_56cdef4a0e8143fc96882a85beeb0b77"
          }
        },
        "34a049a24b554443a56f2d33d77657c1": {
          "model_module": "@jupyter-widgets/controls",
          "model_name": "ProgressStyleModel",
          "state": {
            "_view_name": "StyleView",
            "_model_name": "ProgressStyleModel",
            "description_width": "initial",
            "_view_module": "@jupyter-widgets/base",
            "_model_module_version": "1.5.0",
            "_view_count": null,
            "_view_module_version": "1.2.0",
            "bar_color": null,
            "_model_module": "@jupyter-widgets/controls"
          }
        },
        "cc5573f9e314472a9d245e4db1eadc8f": {
          "model_module": "@jupyter-widgets/base",
          "model_name": "LayoutModel",
          "state": {
            "_view_name": "LayoutView",
            "grid_template_rows": null,
            "right": null,
            "justify_content": null,
            "_view_module": "@jupyter-widgets/base",
            "overflow": null,
            "_model_module_version": "1.2.0",
            "_view_count": null,
            "flex_flow": null,
            "width": null,
            "min_width": null,
            "border": null,
            "align_items": null,
            "bottom": null,
            "_model_module": "@jupyter-widgets/base",
            "top": null,
            "grid_column": null,
            "overflow_y": null,
            "overflow_x": null,
            "grid_auto_flow": null,
            "grid_area": null,
            "grid_template_columns": null,
            "flex": null,
            "_model_name": "LayoutModel",
            "justify_items": null,
            "grid_row": null,
            "max_height": null,
            "align_content": null,
            "visibility": null,
            "align_self": null,
            "height": null,
            "min_height": null,
            "padding": null,
            "grid_auto_rows": null,
            "grid_gap": null,
            "max_width": null,
            "order": null,
            "_view_module_version": "1.2.0",
            "grid_template_areas": null,
            "object_position": null,
            "object_fit": null,
            "grid_auto_columns": null,
            "margin": null,
            "display": null,
            "left": null
          }
        },
        "a8f088250c084d95b0b9d297d936a232": {
          "model_module": "@jupyter-widgets/controls",
          "model_name": "DescriptionStyleModel",
          "state": {
            "_view_name": "StyleView",
            "_model_name": "DescriptionStyleModel",
            "description_width": "",
            "_view_module": "@jupyter-widgets/base",
            "_model_module_version": "1.5.0",
            "_view_count": null,
            "_view_module_version": "1.2.0",
            "_model_module": "@jupyter-widgets/controls"
          }
        },
        "56cdef4a0e8143fc96882a85beeb0b77": {
          "model_module": "@jupyter-widgets/base",
          "model_name": "LayoutModel",
          "state": {
            "_view_name": "LayoutView",
            "grid_template_rows": null,
            "right": null,
            "justify_content": null,
            "_view_module": "@jupyter-widgets/base",
            "overflow": null,
            "_model_module_version": "1.2.0",
            "_view_count": null,
            "flex_flow": null,
            "width": null,
            "min_width": null,
            "border": null,
            "align_items": null,
            "bottom": null,
            "_model_module": "@jupyter-widgets/base",
            "top": null,
            "grid_column": null,
            "overflow_y": null,
            "overflow_x": null,
            "grid_auto_flow": null,
            "grid_area": null,
            "grid_template_columns": null,
            "flex": null,
            "_model_name": "LayoutModel",
            "justify_items": null,
            "grid_row": null,
            "max_height": null,
            "align_content": null,
            "visibility": null,
            "align_self": null,
            "height": null,
            "min_height": null,
            "padding": null,
            "grid_auto_rows": null,
            "grid_gap": null,
            "max_width": null,
            "order": null,
            "_view_module_version": "1.2.0",
            "grid_template_areas": null,
            "object_position": null,
            "object_fit": null,
            "grid_auto_columns": null,
            "margin": null,
            "display": null,
            "left": null
          }
        }
      }
    }
  },
  "cells": [
    {
      "cell_type": "markdown",
      "metadata": {
        "id": "view-in-github",
        "colab_type": "text"
      },
      "source": [
        "<a href=\"https://colab.research.google.com/github/gregorio-saporito/hate-speech-detection/blob/main/main.ipynb\" target=\"_parent\"><img src=\"https://colab.research.google.com/assets/colab-badge.svg\" alt=\"Open In Colab\"/></a>"
      ]
    },
    {
      "cell_type": "markdown",
      "metadata": {
        "id": "dKdkB-QJUp0v"
      },
      "source": [
        "# Text Mining and Sentiment Analysis: Hate Speech Detection\n",
        "Gregorio Luigi Saporito - DSE (2020-2021)"
      ]
    },
    {
      "cell_type": "markdown",
      "metadata": {
        "id": "vRYdUTInUtbe"
      },
      "source": [
        "### Reproducibility"
      ]
    },
    {
      "cell_type": "code",
      "metadata": {
        "id": "HZqT-C_hUcIi"
      },
      "source": [
        "import os\n",
        "os.environ['PYTHONHASHSEED'] = '0'\n",
        "import numpy as np\n",
        "np.random.seed(123)\n",
        "import random as rn\n",
        "rn.seed(123)"
      ],
      "execution_count": 2,
      "outputs": []
    },
    {
      "cell_type": "markdown",
      "metadata": {
        "id": "STNwf5JOUxxQ"
      },
      "source": [
        "### Libraries"
      ]
    },
    {
      "cell_type": "code",
      "metadata": {
        "colab": {
          "base_uri": "https://localhost:8080/"
        },
        "id": "DBZT9v9IU0A5",
        "outputId": "1cdfdf49-7550-47d3-c558-32dd312d4a0e"
      },
      "source": [
        "!pip install text-preprocessing\n",
        "!pip install tweet-preprocessor\n",
        "!pip install -U nltk[twitter]\n",
        "!pip install joblib"
      ],
      "execution_count": 3,
      "outputs": [
        {
          "output_type": "stream",
          "text": [
            "Requirement already satisfied: text-preprocessing in /usr/local/lib/python3.7/dist-packages (0.1.0)\n",
            "Requirement already satisfied: names-dataset in /usr/local/lib/python3.7/dist-packages (from text-preprocessing) (2.0.1)\n",
            "Requirement already satisfied: pyspellchecker in /usr/local/lib/python3.7/dist-packages (from text-preprocessing) (0.6.2)\n",
            "Requirement already satisfied: unittest-xml-reporting in /usr/local/lib/python3.7/dist-packages (from text-preprocessing) (3.0.4)\n",
            "Requirement already satisfied: nltk in /usr/local/lib/python3.7/dist-packages (from text-preprocessing) (3.6.2)\n",
            "Requirement already satisfied: contractions in /usr/local/lib/python3.7/dist-packages (from text-preprocessing) (0.0.48)\n",
            "Requirement already satisfied: joblib in /usr/local/lib/python3.7/dist-packages (from nltk->text-preprocessing) (1.0.1)\n",
            "Requirement already satisfied: regex in /usr/local/lib/python3.7/dist-packages (from nltk->text-preprocessing) (2019.12.20)\n",
            "Requirement already satisfied: tqdm in /usr/local/lib/python3.7/dist-packages (from nltk->text-preprocessing) (4.41.1)\n",
            "Requirement already satisfied: click in /usr/local/lib/python3.7/dist-packages (from nltk->text-preprocessing) (8.0.0)\n",
            "Requirement already satisfied: textsearch>=0.0.21 in /usr/local/lib/python3.7/dist-packages (from contractions->text-preprocessing) (0.0.21)\n",
            "Requirement already satisfied: anyascii in /usr/local/lib/python3.7/dist-packages (from textsearch>=0.0.21->contractions->text-preprocessing) (0.2.0)\n",
            "Requirement already satisfied: pyahocorasick in /usr/local/lib/python3.7/dist-packages (from textsearch>=0.0.21->contractions->text-preprocessing) (1.4.2)\n",
            "Requirement already satisfied: tweet-preprocessor in /usr/local/lib/python3.7/dist-packages (0.6.0)\n",
            "Requirement already up-to-date: nltk[twitter] in /usr/local/lib/python3.7/dist-packages (3.6.2)\n",
            "Requirement already satisfied, skipping upgrade: joblib in /usr/local/lib/python3.7/dist-packages (from nltk[twitter]) (1.0.1)\n",
            "Requirement already satisfied, skipping upgrade: regex in /usr/local/lib/python3.7/dist-packages (from nltk[twitter]) (2019.12.20)\n",
            "Requirement already satisfied, skipping upgrade: tqdm in /usr/local/lib/python3.7/dist-packages (from nltk[twitter]) (4.41.1)\n",
            "Requirement already satisfied, skipping upgrade: click in /usr/local/lib/python3.7/dist-packages (from nltk[twitter]) (8.0.0)\n",
            "Requirement already satisfied, skipping upgrade: twython; extra == \"twitter\" in /usr/local/lib/python3.7/dist-packages (from nltk[twitter]) (3.8.2)\n",
            "Requirement already satisfied, skipping upgrade: requests-oauthlib>=0.4.0 in /usr/local/lib/python3.7/dist-packages (from twython; extra == \"twitter\"->nltk[twitter]) (1.3.0)\n",
            "Requirement already satisfied, skipping upgrade: requests>=2.1.0 in /usr/local/lib/python3.7/dist-packages (from twython; extra == \"twitter\"->nltk[twitter]) (2.23.0)\n",
            "Requirement already satisfied, skipping upgrade: oauthlib>=3.0.0 in /usr/local/lib/python3.7/dist-packages (from requests-oauthlib>=0.4.0->twython; extra == \"twitter\"->nltk[twitter]) (3.1.0)\n",
            "Requirement already satisfied, skipping upgrade: idna<3,>=2.5 in /usr/local/lib/python3.7/dist-packages (from requests>=2.1.0->twython; extra == \"twitter\"->nltk[twitter]) (2.10)\n",
            "Requirement already satisfied, skipping upgrade: certifi>=2017.4.17 in /usr/local/lib/python3.7/dist-packages (from requests>=2.1.0->twython; extra == \"twitter\"->nltk[twitter]) (2020.12.5)\n",
            "Requirement already satisfied, skipping upgrade: chardet<4,>=3.0.2 in /usr/local/lib/python3.7/dist-packages (from requests>=2.1.0->twython; extra == \"twitter\"->nltk[twitter]) (3.0.4)\n",
            "Requirement already satisfied, skipping upgrade: urllib3!=1.25.0,!=1.25.1,<1.26,>=1.21.1 in /usr/local/lib/python3.7/dist-packages (from requests>=2.1.0->twython; extra == \"twitter\"->nltk[twitter]) (1.24.3)\n",
            "Requirement already satisfied: joblib in /usr/local/lib/python3.7/dist-packages (1.0.1)\n"
          ],
          "name": "stdout"
        }
      ]
    },
    {
      "cell_type": "code",
      "metadata": {
        "id": "UegTOIZ-U4AS",
        "colab": {
          "base_uri": "https://localhost:8080/"
        },
        "outputId": "e3501e61-c555-4277-b2c1-39156eaf7a33"
      },
      "source": [
        "from google.colab import files\n",
        "import pandas as pd\n",
        "import matplotlib.pyplot as plt\n",
        "import preprocessor as p\n",
        "from text_preprocessing import preprocess_text\n",
        "from text_preprocessing import to_lower, expand_contraction, remove_number, remove_punctuation, remove_whitespace, normalize_unicode, lemmatize_word\n",
        "from sklearn.model_selection import train_test_split\n",
        "from sklearn.feature_extraction.text import TfidfVectorizer\n",
        "from nltk.tokenize import word_tokenize\n",
        "from gensim.models.doc2vec import Doc2Vec, TaggedDocument\n",
        "import multiprocessing\n",
        "from tqdm import tqdm\n",
        "from sklearn import utils\n",
        "import nltk\n",
        "from nltk.sentiment import SentimentIntensityAnalyzer\n",
        "import numpy as np\n",
        "from sklearn.preprocessing import StandardScaler\n",
        "from sklearn.decomposition import TruncatedSVD\n",
        "from sklearn.linear_model import LogisticRegression\n",
        "from sklearn.model_selection import cross_val_score\n",
        "import statistics as st\n",
        "from sklearn.model_selection import StratifiedKFold\n",
        "from sklearn.metrics import accuracy_score\n",
        "from sklearn.pipeline import Pipeline\n",
        "from sklearn.model_selection import GridSearchCV\n",
        "from sklearn.feature_selection import SelectKBest\n",
        "from sklearn.feature_selection import f_classif, chi2, mutual_info_classif\n",
        "from sklearn.ensemble import RandomForestClassifier\n",
        "from sklearn.datasets import make_classification\n",
        "from sklearn.ensemble import AdaBoostClassifier, ExtraTreesClassifier\n",
        "from xgboost import XGBClassifier\n",
        "from sklearn.feature_selection import SelectFromModel\n",
        "from mlxtend.feature_selection import ColumnSelector\n",
        "from sklearn.base import BaseEstimator, TransformerMixin\n",
        "from sklearn.pipeline import FeatureUnion\n",
        "from sklearn.metrics import confusion_matrix, plot_confusion_matrix, balanced_accuracy_score\n",
        "from sklearn.neighbors import KNeighborsClassifier\n",
        "from sklearn.svm import SVC\n",
        "from sklearn.naive_bayes import MultinomialNB\n",
        "from sklearn.neural_network import MLPClassifier\n",
        "from sklearn.metrics import classification_report\n",
        "from itertools import chain\n",
        "from scipy.stats import pearsonr\n",
        "from itertools import cycle\n",
        "from sklearn.metrics import roc_curve, auc\n",
        "from sklearn.preprocessing import label_binarize\n",
        "from sklearn.metrics import roc_auc_score"
      ],
      "execution_count": 4,
      "outputs": [
        {
          "output_type": "stream",
          "text": [
            "/usr/local/lib/python3.7/dist-packages/sklearn/externals/joblib/__init__.py:15: FutureWarning: sklearn.externals.joblib is deprecated in 0.21 and will be removed in 0.23. Please import this functionality directly from joblib, which can be installed with: pip install joblib. If this warning is raised when loading pickled models, you may need to re-serialize those models with scikit-learn 0.21+.\n",
            "  warnings.warn(msg, category=FutureWarning)\n"
          ],
          "name": "stderr"
        }
      ]
    },
    {
      "cell_type": "code",
      "metadata": {
        "colab": {
          "base_uri": "https://localhost:8080/"
        },
        "id": "oK3rwPvuU6Kq",
        "outputId": "0b21fd90-fdff-4fa9-8d16-d0dc039873c5"
      },
      "source": [
        "nltk.download('vader_lexicon')"
      ],
      "execution_count": 5,
      "outputs": [
        {
          "output_type": "stream",
          "text": [
            "[nltk_data] Downloading package vader_lexicon to /root/nltk_data...\n",
            "[nltk_data]   Package vader_lexicon is already up-to-date!\n"
          ],
          "name": "stderr"
        },
        {
          "output_type": "execute_result",
          "data": {
            "text/plain": [
              "True"
            ]
          },
          "metadata": {
            "tags": []
          },
          "execution_count": 5
        }
      ]
    },
    {
      "cell_type": "markdown",
      "metadata": {
        "id": "niK1meqiU8zx"
      },
      "source": [
        "### Upload the data to session storage\n",
        "Upload here below the __labeled_data.csv__ file. The labels correspond to\n",
        "- 0: hate speech\n",
        "- 1: offensive language\n",
        "- 2: neither"
      ]
    },
    {
      "cell_type": "code",
      "metadata": {
        "colab": {
          "resources": {
            "http://localhost:8080/nbextensions/google.colab/files.js": {
              "data": "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",
              "ok": true,
              "headers": [
                [
                  "content-type",
                  "application/javascript"
                ]
              ],
              "status": 200,
              "status_text": ""
            }
          },
          "base_uri": "https://localhost:8080/",
          "height": 73
        },
        "id": "45PO_OsHU_kv",
        "outputId": "ad67ac3c-e858-4897-9704-85b565a1ca98"
      },
      "source": [
        "# upload here the .csv file \"labeled_data.csv\"\n",
        "uploaded = files.upload()"
      ],
      "execution_count": null,
      "outputs": [
        {
          "output_type": "display_data",
          "data": {
            "text/html": [
              "\n",
              "     <input type=\"file\" id=\"files-6a9e2844-ec37-487b-8b74-ff69de00592b\" name=\"files[]\" multiple disabled\n",
              "        style=\"border:none\" />\n",
              "     <output id=\"result-6a9e2844-ec37-487b-8b74-ff69de00592b\">\n",
              "      Upload widget is only available when the cell has been executed in the\n",
              "      current browser session. Please rerun this cell to enable.\n",
              "      </output>\n",
              "      <script src=\"/nbextensions/google.colab/files.js\"></script> "
            ],
            "text/plain": [
              "<IPython.core.display.HTML object>"
            ]
          },
          "metadata": {
            "tags": []
          }
        },
        {
          "output_type": "stream",
          "text": [
            "Saving labeled_data.csv to labeled_data.csv\n"
          ],
          "name": "stdout"
        }
      ]
    },
    {
      "cell_type": "code",
      "metadata": {
        "id": "vX4jMfeFVD8r"
      },
      "source": [
        "# read the csv file, select the columns of interest, and rename them\n",
        "fields = ['Unnamed: 0', 'class', 'tweet']\n",
        "raw = pd.read_csv('labeled_data.csv', usecols=fields)\\\n",
        "  .rename(columns={\"Unnamed: 0\": \"id\", \"class\": \"label\"})"
      ],
      "execution_count": 6,
      "outputs": []
    },
    {
      "cell_type": "markdown",
      "metadata": {
        "id": "f-yB5vpAVGSQ"
      },
      "source": [
        "### Inspect the data"
      ]
    },
    {
      "cell_type": "code",
      "metadata": {
        "colab": {
          "base_uri": "https://localhost:8080/",
          "height": 199
        },
        "id": "ulxxpvxrVJTC",
        "outputId": "a7148fdc-ddc3-4ed8-93f6-792a1012ac20"
      },
      "source": [
        "# snapshot of the first rows\n",
        "raw.head()"
      ],
      "execution_count": 7,
      "outputs": [
        {
          "output_type": "execute_result",
          "data": {
            "text/html": [
              "<div>\n",
              "<style scoped>\n",
              "    .dataframe tbody tr th:only-of-type {\n",
              "        vertical-align: middle;\n",
              "    }\n",
              "\n",
              "    .dataframe tbody tr th {\n",
              "        vertical-align: top;\n",
              "    }\n",
              "\n",
              "    .dataframe thead th {\n",
              "        text-align: right;\n",
              "    }\n",
              "</style>\n",
              "<table border=\"1\" class=\"dataframe\">\n",
              "  <thead>\n",
              "    <tr style=\"text-align: right;\">\n",
              "      <th></th>\n",
              "      <th>id</th>\n",
              "      <th>label</th>\n",
              "      <th>tweet</th>\n",
              "    </tr>\n",
              "  </thead>\n",
              "  <tbody>\n",
              "    <tr>\n",
              "      <th>0</th>\n",
              "      <td>0</td>\n",
              "      <td>2</td>\n",
              "      <td>!!! RT @mayasolovely: As a woman you shouldn't...</td>\n",
              "    </tr>\n",
              "    <tr>\n",
              "      <th>1</th>\n",
              "      <td>1</td>\n",
              "      <td>1</td>\n",
              "      <td>!!!!! RT @mleew17: boy dats cold...tyga dwn ba...</td>\n",
              "    </tr>\n",
              "    <tr>\n",
              "      <th>2</th>\n",
              "      <td>2</td>\n",
              "      <td>1</td>\n",
              "      <td>!!!!!!! RT @UrKindOfBrand Dawg!!!! RT @80sbaby...</td>\n",
              "    </tr>\n",
              "    <tr>\n",
              "      <th>3</th>\n",
              "      <td>3</td>\n",
              "      <td>1</td>\n",
              "      <td>!!!!!!!!! RT @C_G_Anderson: @viva_based she lo...</td>\n",
              "    </tr>\n",
              "    <tr>\n",
              "      <th>4</th>\n",
              "      <td>4</td>\n",
              "      <td>1</td>\n",
              "      <td>!!!!!!!!!!!!! RT @ShenikaRoberts: The shit you...</td>\n",
              "    </tr>\n",
              "  </tbody>\n",
              "</table>\n",
              "</div>"
            ],
            "text/plain": [
              "   id  label                                              tweet\n",
              "0   0      2  !!! RT @mayasolovely: As a woman you shouldn't...\n",
              "1   1      1  !!!!! RT @mleew17: boy dats cold...tyga dwn ba...\n",
              "2   2      1  !!!!!!! RT @UrKindOfBrand Dawg!!!! RT @80sbaby...\n",
              "3   3      1  !!!!!!!!! RT @C_G_Anderson: @viva_based she lo...\n",
              "4   4      1  !!!!!!!!!!!!! RT @ShenikaRoberts: The shit you..."
            ]
          },
          "metadata": {
            "tags": []
          },
          "execution_count": 7
        }
      ]
    },
    {
      "cell_type": "code",
      "metadata": {
        "colab": {
          "base_uri": "https://localhost:8080/"
        },
        "id": "9OO4wKYEVLn8",
        "outputId": "5a51f5d7-b763-4627-b4b7-089f536501c7"
      },
      "source": [
        "# size of the dataset\n",
        "raw.shape"
      ],
      "execution_count": 8,
      "outputs": [
        {
          "output_type": "execute_result",
          "data": {
            "text/plain": [
              "(24783, 3)"
            ]
          },
          "metadata": {
            "tags": []
          },
          "execution_count": 8
        }
      ]
    },
    {
      "cell_type": "code",
      "metadata": {
        "colab": {
          "base_uri": "https://localhost:8080/"
        },
        "id": "340LzX6lVNv-",
        "outputId": "50a2778a-8628-47ec-9489-6459debb496c"
      },
      "source": [
        "# inspect the presence of missing values\n",
        "print(\n",
        "    'Check for null values\\n' +\n",
        "    str(raw.isnull().sum()) + '\\n'\n",
        "    'Check for na values\\n' +\n",
        "    str(raw.isna().sum())\n",
        ")"
      ],
      "execution_count": 9,
      "outputs": [
        {
          "output_type": "stream",
          "text": [
            "Check for null values\n",
            "id       0\n",
            "label    0\n",
            "tweet    0\n",
            "dtype: int64\n",
            "Check for na values\n",
            "id       0\n",
            "label    0\n",
            "tweet    0\n",
            "dtype: int64\n"
          ],
          "name": "stdout"
        }
      ]
    },
    {
      "cell_type": "code",
      "metadata": {
        "colab": {
          "base_uri": "https://localhost:8080/",
          "height": 264
        },
        "id": "b246NMuvVP-D",
        "outputId": "f8ae1cc9-86b1-463a-cb0b-fa78094f9ca7"
      },
      "source": [
        "# inspect the classes' frequency\n",
        "raw['label'].replace(0,'Hate').replace(1,'Offensive').replace(2,'Neither')\\\n",
        "  .value_counts(normalize=True).plot.pie(autopct='%1.0f%%')\n",
        "plt.title('Labels Frequency')\n",
        "plt.savefig('figure_1.png', dpi=200, transparent=True)\n",
        "plt.show()"
      ],
      "execution_count": 47,
      "outputs": [
        {
          "output_type": "display_data",
          "data": {
            "image/png": "[encoded data removed]",
            "text/plain": [
              "<Figure size 432x288 with 1 Axes>"
            ]
          },
          "metadata": {
            "tags": []
          }
        }
      ]
    },
    {
      "cell_type": "markdown",
      "metadata": {
        "id": "Ar9ilO--VR-X"
      },
      "source": [
        "### Preprocessing text"
      ]
    },
    {
      "cell_type": "code",
      "metadata": {
        "id": "JxCvG4oLVTUy"
      },
      "source": [
        "# normalise tags, URLS, emoji, and smiley\n",
        "# the hashtags are left out because they could contain hate speech to detect\n",
        "p.set_options(p.OPT.MENTION, p.OPT.URL, p.OPT.EMOJI, p.OPT.SMILEY)\n",
        "raw['normalised'] = [p.tokenize(x) for x in raw['tweet']]\n",
        "\n",
        "# Preprocess text using custom preprocess functions in the pipeline\n",
        "def preprocess_txt(x):\n",
        "  preprocess_functions = [to_lower, expand_contraction, remove_number, remove_punctuation,\n",
        "                          remove_whitespace, normalize_unicode, lemmatize_word]\n",
        "  preprocessed_text = preprocess_text(x, preprocess_functions)\n",
        "  return preprocessed_text.replace(\"rt \", \"\").strip()\n",
        "\n",
        "raw['cleaned'] = [preprocess_txt(x) for x in raw['normalised']]"
      ],
      "execution_count": 11,
      "outputs": []
    },
    {
      "cell_type": "markdown",
      "metadata": {
        "id": "RA6dME_RVW5x"
      },
      "source": [
        "### Train Test Split"
      ]
    },
    {
      "cell_type": "code",
      "metadata": {
        "id": "t2jgJ1_uVWqH"
      },
      "source": [
        "X_train, X_test, y_train, y_test = train_test_split(raw['cleaned'], raw['label'], test_size=0.1, random_state=123)"
      ],
      "execution_count": 12,
      "outputs": []
    },
    {
      "cell_type": "markdown",
      "metadata": {
        "id": "LGlxaeTpVbM3"
      },
      "source": [
        "### Doc2vec Custom Transformer"
      ]
    },
    {
      "cell_type": "code",
      "metadata": {
        "id": "XheEwJARVcdC"
      },
      "source": [
        "class Doc2VecTransformer(BaseEstimator):\n",
        "\n",
        "    def __init__(self, dm=1, size=1, window=1):\n",
        "        self.d2v_model = None\n",
        "        self.size = size\n",
        "        self.window = window\n",
        "        self.dm = dm\n",
        "\n",
        "    def fit(self, raw_documents, y=None):\n",
        "        # Initialize model\n",
        "        self.d2v_model = Doc2Vec(workers=1, seed=123)\n",
        "        # Tag docs\n",
        "        tagged_documents = []\n",
        "        for index, row in raw_documents.iteritems():\n",
        "            tag = '{}_{}'.format(\"type\", index)\n",
        "            tokens = row.split()\n",
        "            tagged_documents.append(TaggedDocument(words=tokens, tags=[tag]))\n",
        "        # Build vocabulary\n",
        "        self.d2v_model.build_vocab(tagged_documents)\n",
        "        # Train model\n",
        "        self.d2v_model.train(tagged_documents, total_examples=len(tagged_documents), epochs=self.d2v_model.epochs)\n",
        "        return self\n",
        "\n",
        "    def transform(self, raw_documents):\n",
        "        X = []\n",
        "        for index, row in raw_documents.iteritems():\n",
        "            X.append(self.d2v_model.infer_vector(row))\n",
        "        X = pd.DataFrame(X, index=raw_documents.index)\n",
        "        return X\n",
        "        \n",
        "    def fit_transform(self, raw_documents, y=None):\n",
        "        self.fit(raw_documents)\n",
        "        return self.transform(raw_documents)"
      ],
      "execution_count": 13,
      "outputs": []
    },
    {
      "cell_type": "markdown",
      "metadata": {
        "id": "ffshyoirVeX-"
      },
      "source": [
        "### Sentiment Custom Transformer"
      ]
    },
    {
      "cell_type": "code",
      "metadata": {
        "id": "oSkJ6yuHVhlJ"
      },
      "source": [
        "class SentimentTransformer( BaseEstimator, TransformerMixin ):\n",
        "    \n",
        "    # Class Constructor \n",
        "    def __init__( self ):\n",
        "        return\n",
        "    \n",
        "    # Return self nothing else to do here    \n",
        "    def fit( self, X, y = None ):\n",
        "        return self \n",
        "        \n",
        "    # Method that describes what we need this transformer to do i.e.\n",
        "    # returning length, digits and punctuations in the 'text' column in data frame\n",
        "    def transform( self, X, y = None ):\n",
        "      sia = SentimentIntensityAnalyzer()\n",
        "\n",
        "      f           = pd.DataFrame()\n",
        "      f['neg']    = [sia.polarity_scores(x)['neg'] for x in X]\n",
        "      f['neu']    = [sia.polarity_scores(x)['neu'] for x in X]\n",
        "      f['pos']    = [sia.polarity_scores(x)['pos'] for x in X]\n",
        "      return f[['neg','neu','pos']]"
      ],
      "execution_count": 14,
      "outputs": []
    },
    {
      "cell_type": "markdown",
      "metadata": {
        "id": "r9dAsNHnVjzI"
      },
      "source": [
        "### Dense Transformer"
      ]
    },
    {
      "cell_type": "code",
      "metadata": {
        "id": "wPA-47BpVlpo"
      },
      "source": [
        "class DenseTransformer(TransformerMixin):\n",
        "\n",
        "    def fit(self, X, y=None, **fit_params):\n",
        "        return self\n",
        "\n",
        "    def transform(self, X, y=None, **fit_params):\n",
        "        return X.todense()"
      ],
      "execution_count": 15,
      "outputs": []
    },
    {
      "cell_type": "markdown",
      "metadata": {
        "id": "AkBTZhPCVpuX"
      },
      "source": [
        "### 1) Latent Semantic Analysis (LSA) and Logistic Classifier"
      ]
    },
    {
      "cell_type": "code",
      "metadata": {
        "colab": {
          "base_uri": "https://localhost:8080/"
        },
        "id": "lLVvRGiyVsp6",
        "outputId": "7022f8e0-6682-4f95-f72f-336bdb89e3d4"
      },
      "source": [
        "# vectoriser\n",
        "tfidf = TfidfVectorizer(sublinear_tf=True, use_idf=True).fit_transform(X_train)\n",
        "# check the shape\n",
        "print('TF-IDF shape: ' + str(tfidf.shape))"
      ],
      "execution_count": 48,
      "outputs": [
        {
          "output_type": "stream",
          "text": [
            "TF-IDF shape: (22304, 19165)\n"
          ],
          "name": "stdout"
        }
      ]
    },
    {
      "cell_type": "code",
      "metadata": {
        "colab": {
          "base_uri": "https://localhost:8080/",
          "height": 295
        },
        "id": "DFIT8nybVuh4",
        "outputId": "862a4129-6475-441d-de5b-89909ac01bf5"
      },
      "source": [
        "# TruncatedSVD\n",
        "svd = TruncatedSVD(n_components=200, random_state=123).fit(tfidf)\n",
        "# plot singular values to have an idea of how many components to select\n",
        "fig = plt.figure()\n",
        "ax = plt.axes()\n",
        "ax.plot(range(1,201), svd.singular_values_)\n",
        "plt.title('Singular Values from TruncatedSVD')\n",
        "plt.xlabel('Components')\n",
        "plt.ylabel('Singular Values')\n",
        "plt.savefig('figure_2.png', dpi=200, transparent=True)\n",
        "plt.show()"
      ],
      "execution_count": 49,
      "outputs": [
        {
          "output_type": "display_data",
          "data": {
            "image/png": "[encoded data removed]",
            "text/plain": [
              "<Figure size 432x288 with 1 Axes>"
            ]
          },
          "metadata": {
            "tags": [],
            "needs_background": "light"
          }
        }
      ]
    },
    {
      "cell_type": "code",
      "metadata": {
        "colab": {
          "base_uri": "https://localhost:8080/"
        },
        "id": "o5uCSAeCVwsC",
        "outputId": "a4e64fd3-ff2b-42f6-b1ea-2354b771a933"
      },
      "source": [
        "# build pipeline\n",
        "pipe = Pipeline([\n",
        "    ('tfidf', TfidfVectorizer(sublinear_tf=True, use_idf=True)),\n",
        "    ('lsa', TruncatedSVD(random_state=123)),\n",
        "    ('logistic', LogisticRegression(max_iter=10000, class_weight='balanced', random_state=123)),\n",
        "])\n",
        "\n",
        "# test some components to select\n",
        "param_grid = {'lsa__n_components': [100, 1000, 2000]}\n",
        "\n",
        "log_grid = GridSearchCV(pipe, \n",
        "                        param_grid=param_grid,\n",
        "                        scoring=\"balanced_accuracy\",\n",
        "                        verbose=3,\n",
        "                        n_jobs=1,\n",
        "                        cv = 3)\n",
        "\n",
        "fitted = log_grid.fit(X_train, y_train)\n",
        "\n",
        "# Best parameters\n",
        "print(\"Best Parameters: {}\\n\".format(log_grid.best_params_))\n",
        "print(\"Best accuracy: {}\\n\".format(log_grid.best_score_))\n",
        "print(\"Finished.\")"
      ],
      "execution_count": null,
      "outputs": [
        {
          "output_type": "stream",
          "text": [
            "Fitting 3 folds for each of 3 candidates, totalling 9 fits\n",
            "[CV] lsa__n_components=100 ...........................................\n"
          ],
          "name": "stdout"
        },
        {
          "output_type": "stream",
          "text": [
            "[Parallel(n_jobs=1)]: Using backend SequentialBackend with 1 concurrent workers.\n"
          ],
          "name": "stderr"
        },
        {
          "output_type": "stream",
          "text": [
            "[CV] ............... lsa__n_components=100, score=0.767, total=   3.5s\n",
            "[CV] lsa__n_components=100 ...........................................\n"
          ],
          "name": "stdout"
        },
        {
          "output_type": "stream",
          "text": [
            "[Parallel(n_jobs=1)]: Done   1 out of   1 | elapsed:    3.5s remaining:    0.0s\n"
          ],
          "name": "stderr"
        },
        {
          "output_type": "stream",
          "text": [
            "[CV] ............... lsa__n_components=100, score=0.761, total=   3.5s\n",
            "[CV] lsa__n_components=100 ...........................................\n"
          ],
          "name": "stdout"
        },
        {
          "output_type": "stream",
          "text": [
            "[Parallel(n_jobs=1)]: Done   2 out of   2 | elapsed:    7.0s remaining:    0.0s\n"
          ],
          "name": "stderr"
        },
        {
          "output_type": "stream",
          "text": [
            "[CV] ............... lsa__n_components=100, score=0.771, total=   3.6s\n",
            "[CV] lsa__n_components=1000 ..........................................\n",
            "[CV] .............. lsa__n_components=1000, score=0.795, total=  37.2s\n",
            "[CV] lsa__n_components=1000 ..........................................\n",
            "[CV] .............. lsa__n_components=1000, score=0.800, total=  37.4s\n",
            "[CV] lsa__n_components=1000 ..........................................\n",
            "[CV] .............. lsa__n_components=1000, score=0.805, total=  37.4s\n",
            "[CV] lsa__n_components=2000 ..........................................\n",
            "[CV] .............. lsa__n_components=2000, score=0.797, total= 1.6min\n",
            "[CV] lsa__n_components=2000 ..........................................\n",
            "[CV] .............. lsa__n_components=2000, score=0.797, total= 1.6min\n",
            "[CV] lsa__n_components=2000 ..........................................\n",
            "[CV] .............. lsa__n_components=2000, score=0.803, total= 1.7min\n"
          ],
          "name": "stdout"
        },
        {
          "output_type": "stream",
          "text": [
            "[Parallel(n_jobs=1)]: Done   9 out of   9 | elapsed:  6.9min finished\n"
          ],
          "name": "stderr"
        },
        {
          "output_type": "stream",
          "text": [
            "Best Parameters: {'lsa__n_components': 1000}\n",
            "\n",
            "Best accuracy: 0.8001275086013887\n",
            "\n",
            "Finished.\n"
          ],
          "name": "stdout"
        }
      ]
    },
    {
      "cell_type": "code",
      "metadata": {
        "colab": {
          "base_uri": "https://localhost:8080/"
        },
        "id": "nBmoFTvuWDgx",
        "outputId": "9db1f33a-a31e-4c2d-a38b-9668d13be285"
      },
      "source": [
        "# final evaluation after parameter tuning\n",
        "y_pred = fitted.predict(X_test)\n",
        "balanced_accuracy_score(y_test,y_pred)"
      ],
      "execution_count": null,
      "outputs": [
        {
          "output_type": "execute_result",
          "data": {
            "text/plain": [
              "0.8086370644663581"
            ]
          },
          "metadata": {
            "tags": []
          },
          "execution_count": 19
        }
      ]
    },
    {
      "cell_type": "markdown",
      "metadata": {
        "id": "XahANYLjWIl2"
      },
      "source": [
        "### 2) Rich Feature Extraction (mixed), Feature Selection, Regularisation, and Logistic Classifier\n",
        "A richer feature extraction is considered including the:\n",
        "- TF-IDF transformer\n",
        "- Doc2vec custom transformer\n",
        "- Sentiment polarity custom transformer"
      ]
    },
    {
      "cell_type": "code",
      "metadata": {
        "colab": {
          "base_uri": "https://localhost:8080/"
        },
        "id": "l8ZoNjcbWKpl",
        "outputId": "0181cfd1-c5e4-4438-e011-1b9dc880a227"
      },
      "source": [
        "# build pipeline\n",
        "pipe = Pipeline([\n",
        "  ('extract',\n",
        "    FeatureUnion([\n",
        "      ('tfidf', TfidfVectorizer(sublinear_tf=True, use_idf=True)),\n",
        "      ('doc2vec', Doc2VecTransformer()),\n",
        "      ('sentiment', SentimentTransformer())\n",
        "    ])),\n",
        "  ('select', SelectKBest(score_func = f_classif)),\n",
        "  ('to_dense', DenseTransformer()),\n",
        "  ('scale', StandardScaler()),\n",
        "  ('logistic', LogisticRegression(max_iter=1000, class_weight='balanced', random_state=123, penalty='l2'))\n",
        "])\n",
        "\n",
        "# test some parameters (number of features and regularisation)\n",
        "param_grid = {'select__k': [200, 300, 500]\n",
        "}\n",
        "\n",
        "log_grid = GridSearchCV(pipe, \n",
        "                        param_grid=param_grid,\n",
        "                        scoring=\"balanced_accuracy\",\n",
        "                        verbose=3,\n",
        "                        n_jobs=1,\n",
        "                        cv = 3)\n",
        "\n",
        "fitted = log_grid.fit(X_train, y_train)\n",
        "\n",
        "# Best parameters\n",
        "print(\"Best Parameters: {}\\n\".format(log_grid.best_params_))\n",
        "print(\"Best accuracy: {}\\n\".format(log_grid.best_score_))\n",
        "print(\"Finished.\")"
      ],
      "execution_count": null,
      "outputs": [
        {
          "output_type": "stream",
          "text": [
            "Fitting 3 folds for each of 3 candidates, totalling 9 fits\n",
            "[CV] select__k=200 ...................................................\n"
          ],
          "name": "stdout"
        },
        {
          "output_type": "stream",
          "text": [
            "[Parallel(n_jobs=1)]: Using backend SequentialBackend with 1 concurrent workers.\n"
          ],
          "name": "stderr"
        },
        {
          "output_type": "stream",
          "text": [
            "[CV] ....................... select__k=200, score=0.787, total=  59.5s\n",
            "[CV] select__k=200 ...................................................\n"
          ],
          "name": "stdout"
        },
        {
          "output_type": "stream",
          "text": [
            "[Parallel(n_jobs=1)]: Done   1 out of   1 | elapsed:   59.5s remaining:    0.0s\n"
          ],
          "name": "stderr"
        },
        {
          "output_type": "stream",
          "text": [
            "[CV] ....................... select__k=200, score=0.778, total=  58.8s\n",
            "[CV] select__k=200 ...................................................\n"
          ],
          "name": "stdout"
        },
        {
          "output_type": "stream",
          "text": [
            "[Parallel(n_jobs=1)]: Done   2 out of   2 | elapsed:  2.0min remaining:    0.0s\n"
          ],
          "name": "stderr"
        },
        {
          "output_type": "stream",
          "text": [
            "[CV] ....................... select__k=200, score=0.799, total=  57.8s\n",
            "[CV] select__k=300 ...................................................\n",
            "[CV] ....................... select__k=300, score=0.806, total= 1.1min\n",
            "[CV] select__k=300 ...................................................\n",
            "[CV] ....................... select__k=300, score=0.792, total= 1.1min\n",
            "[CV] select__k=300 ...................................................\n",
            "[CV] ....................... select__k=300, score=0.809, total= 1.0min\n",
            "[CV] select__k=500 ...................................................\n",
            "[CV] ....................... select__k=500, score=0.785, total= 1.3min\n",
            "[CV] select__k=500 ...................................................\n",
            "[CV] ....................... select__k=500, score=0.787, total= 1.2min\n",
            "[CV] select__k=500 ...................................................\n",
            "[CV] ....................... select__k=500, score=0.797, total= 1.3min\n"
          ],
          "name": "stdout"
        },
        {
          "output_type": "stream",
          "text": [
            "[Parallel(n_jobs=1)]: Done   9 out of   9 | elapsed:  9.9min finished\n"
          ],
          "name": "stderr"
        },
        {
          "output_type": "stream",
          "text": [
            "Best Parameters: {'select__k': 300}\n",
            "\n",
            "Best accuracy: 0.8022918597875366\n",
            "\n",
            "Finished.\n"
          ],
          "name": "stdout"
        }
      ]
    },
    {
      "cell_type": "code",
      "metadata": {
        "colab": {
          "base_uri": "https://localhost:8080/"
        },
        "id": "iAr-c3dlWNQy",
        "outputId": "170f1335-afc6-435d-9216-b29c2b1a845f"
      },
      "source": [
        "# final evaluation after parameter tuning\n",
        "y_pred = fitted.predict(X_test)\n",
        "balanced_accuracy_score(y_test,y_pred)"
      ],
      "execution_count": null,
      "outputs": [
        {
          "output_type": "execute_result",
          "data": {
            "text/plain": [
              "0.8024294031581304"
            ]
          },
          "metadata": {
            "tags": []
          },
          "execution_count": 21
        }
      ]
    },
    {
      "cell_type": "markdown",
      "metadata": {
        "id": "Pm0Aw39fWPIp"
      },
      "source": [
        "### 3) Random Forest"
      ]
    },
    {
      "cell_type": "code",
      "metadata": {
        "colab": {
          "base_uri": "https://localhost:8080/"
        },
        "id": "UygvXwVqWQCZ",
        "outputId": "fb39d62d-02b9-4c2a-ef18-8a9ba5863e94"
      },
      "source": [
        "# build pipeline\n",
        "pipe = Pipeline([\n",
        "  ('extract',\n",
        "    FeatureUnion([\n",
        "      ('tfidf', TfidfVectorizer(sublinear_tf=True, use_idf=True)),\n",
        "      ('doc2vec', Doc2VecTransformer()),\n",
        "      ('sentiment', SentimentTransformer())\n",
        "    ])),\n",
        "  ('select', SelectKBest(score_func = f_classif)),\n",
        "  ('tree', RandomForestClassifier(n_estimators=50, random_state=123))\n",
        "])\n",
        "\n",
        "# test some parameters\n",
        "param_grid = {'select__k': [300, 500]}\n",
        "\n",
        "grid = GridSearchCV(pipe,\n",
        "                    param_grid=param_grid,\n",
        "                    scoring=\"balanced_accuracy\",\n",
        "                    verbose=3,\n",
        "                    n_jobs=1,\n",
        "                    cv = 3)\n",
        "\n",
        "fitted = grid.fit(X_train, y_train)\n",
        "\n",
        "# Best parameters\n",
        "print(\"Best Parameters: {}\\n\".format(grid.best_params_))\n",
        "print(\"Best accuracy: {}\\n\".format(grid.best_score_))\n",
        "print(\"Finished.\")"
      ],
      "execution_count": null,
      "outputs": [
        {
          "output_type": "stream",
          "text": [
            "Fitting 3 folds for each of 2 candidates, totalling 6 fits\n",
            "[CV] select__k=300 ...................................................\n"
          ],
          "name": "stdout"
        },
        {
          "output_type": "stream",
          "text": [
            "[Parallel(n_jobs=1)]: Using backend SequentialBackend with 1 concurrent workers.\n"
          ],
          "name": "stderr"
        },
        {
          "output_type": "stream",
          "text": [
            "[CV] ....................... select__k=300, score=0.573, total= 1.0min\n",
            "[CV] select__k=300 ...................................................\n"
          ],
          "name": "stdout"
        },
        {
          "output_type": "stream",
          "text": [
            "[Parallel(n_jobs=1)]: Done   1 out of   1 | elapsed:  1.0min remaining:    0.0s\n"
          ],
          "name": "stderr"
        },
        {
          "output_type": "stream",
          "text": [
            "[CV] ....................... select__k=300, score=0.554, total= 1.1min\n",
            "[CV] select__k=300 ...................................................\n"
          ],
          "name": "stdout"
        },
        {
          "output_type": "stream",
          "text": [
            "[Parallel(n_jobs=1)]: Done   2 out of   2 | elapsed:  2.1min remaining:    0.0s\n"
          ],
          "name": "stderr"
        },
        {
          "output_type": "stream",
          "text": [
            "[CV] ....................... select__k=300, score=0.574, total= 1.0min\n",
            "[CV] select__k=500 ...................................................\n",
            "[CV] ....................... select__k=500, score=0.551, total= 1.0min\n",
            "[CV] select__k=500 ...................................................\n",
            "[CV] ....................... select__k=500, score=0.539, total= 1.0min\n",
            "[CV] select__k=500 ...................................................\n",
            "[CV] ....................... select__k=500, score=0.557, total= 1.0min\n"
          ],
          "name": "stdout"
        },
        {
          "output_type": "stream",
          "text": [
            "[Parallel(n_jobs=1)]: Done   6 out of   6 | elapsed:  6.2min finished\n"
          ],
          "name": "stderr"
        },
        {
          "output_type": "stream",
          "text": [
            "Best Parameters: {'select__k': 300}\n",
            "\n",
            "Best accuracy: 0.5669822999803182\n",
            "\n",
            "Finished.\n"
          ],
          "name": "stdout"
        }
      ]
    },
    {
      "cell_type": "code",
      "metadata": {
        "colab": {
          "base_uri": "https://localhost:8080/"
        },
        "id": "jGp11YGsWXPJ",
        "outputId": "9b94036c-1deb-4ec9-c0b0-45b92cdadd0f"
      },
      "source": [
        "# final evaluation after parameter tuning\n",
        "y_pred = fitted.predict(X_test)\n",
        "balanced_accuracy_score(y_test,y_pred)"
      ],
      "execution_count": null,
      "outputs": [
        {
          "output_type": "execute_result",
          "data": {
            "text/plain": [
              "0.5684040730580847"
            ]
          },
          "metadata": {
            "tags": []
          },
          "execution_count": 23
        }
      ]
    },
    {
      "cell_type": "markdown",
      "metadata": {
        "id": "zX4MlEFdWYQs"
      },
      "source": [
        "### 4) XGBoost\n"
      ]
    },
    {
      "cell_type": "code",
      "metadata": {
        "colab": {
          "base_uri": "https://localhost:8080/"
        },
        "id": "3YbqG2lLWaOE",
        "outputId": "53353089-f5ec-4e1f-b5b2-df61f03baaa9"
      },
      "source": [
        "# build pipeline\n",
        "pipe = Pipeline([\n",
        "  ('extract',\n",
        "    FeatureUnion([\n",
        "      ('tfidf', TfidfVectorizer(sublinear_tf=True, use_idf=True)),\n",
        "      ('doc2vec', Doc2VecTransformer()),\n",
        "      ('sentiment', SentimentTransformer())\n",
        "    ])),\n",
        "  ('select', SelectKBest(score_func = f_classif, k=300)),\n",
        "  ('to_dense', DenseTransformer()),\n",
        "  ('scale', StandardScaler()),\n",
        "  ('xgb',  XGBClassifier(random_state=123, objective= 'multi:softprob',tree_method='hist'))\n",
        "])\n",
        "\n",
        "# test some parameters\n",
        "param_grid = {'xgb__max_depth': [3, 6]}\n",
        "\n",
        "grid = GridSearchCV(pipe,\n",
        "                    param_grid=param_grid,\n",
        "                    scoring=\"balanced_accuracy\",\n",
        "                    verbose=3,\n",
        "                    n_jobs=1,\n",
        "                    cv = 3)\n",
        "\n",
        "fitted = grid.fit(X_train, y_train)\n",
        "\n",
        "# Best parameters\n",
        "print(\"Best Parameters: {}\\n\".format(grid.best_params_))\n",
        "print(\"Best accuracy: {}\\n\".format(grid.best_score_))\n",
        "print(\"Finished.\")"
      ],
      "execution_count": null,
      "outputs": [
        {
          "output_type": "stream",
          "text": [
            "Fitting 3 folds for each of 2 candidates, totalling 6 fits\n",
            "[CV] xgb__max_depth=3 ................................................\n"
          ],
          "name": "stdout"
        },
        {
          "output_type": "stream",
          "text": [
            "[Parallel(n_jobs=1)]: Using backend SequentialBackend with 1 concurrent workers.\n"
          ],
          "name": "stderr"
        },
        {
          "output_type": "stream",
          "text": [
            "[CV] .................... xgb__max_depth=3, score=0.647, total=  59.6s\n",
            "[CV] xgb__max_depth=3 ................................................\n"
          ],
          "name": "stdout"
        },
        {
          "output_type": "stream",
          "text": [
            "[Parallel(n_jobs=1)]: Done   1 out of   1 | elapsed:   59.6s remaining:    0.0s\n"
          ],
          "name": "stderr"
        },
        {
          "output_type": "stream",
          "text": [
            "[CV] .................... xgb__max_depth=3, score=0.640, total=  59.2s\n",
            "[CV] xgb__max_depth=3 ................................................\n"
          ],
          "name": "stdout"
        },
        {
          "output_type": "stream",
          "text": [
            "[Parallel(n_jobs=1)]: Done   2 out of   2 | elapsed:  2.0min remaining:    0.0s\n"
          ],
          "name": "stderr"
        },
        {
          "output_type": "stream",
          "text": [
            "[CV] .................... xgb__max_depth=3, score=0.670, total=  59.4s\n",
            "[CV] xgb__max_depth=6 ................................................\n",
            "[CV] .................... xgb__max_depth=6, score=0.674, total= 1.2min\n",
            "[CV] xgb__max_depth=6 ................................................\n",
            "[CV] .................... xgb__max_depth=6, score=0.669, total= 1.2min\n",
            "[CV] xgb__max_depth=6 ................................................\n",
            "[CV] .................... xgb__max_depth=6, score=0.687, total= 1.2min\n"
          ],
          "name": "stdout"
        },
        {
          "output_type": "stream",
          "text": [
            "[Parallel(n_jobs=1)]: Done   6 out of   6 | elapsed:  6.5min finished\n"
          ],
          "name": "stderr"
        },
        {
          "output_type": "stream",
          "text": [
            "Best Parameters: {'xgb__max_depth': 6}\n",
            "\n",
            "Best accuracy: 0.6765121291593603\n",
            "\n",
            "Finished.\n"
          ],
          "name": "stdout"
        }
      ]
    },
    {
      "cell_type": "code",
      "metadata": {
        "colab": {
          "base_uri": "https://localhost:8080/"
        },
        "id": "8Fh-qsqBWg6q",
        "outputId": "fa7313c4-8861-4799-d48a-68ed01d8ddad"
      },
      "source": [
        "# final evaluation after parameter tuning\n",
        "y_pred = fitted.predict(X_test)\n",
        "balanced_accuracy_score(y_test,y_pred)"
      ],
      "execution_count": null,
      "outputs": [
        {
          "output_type": "execute_result",
          "data": {
            "text/plain": [
              "0.6778559448255498"
            ]
          },
          "metadata": {
            "tags": []
          },
          "execution_count": 25
        }
      ]
    },
    {
      "cell_type": "markdown",
      "metadata": {
        "id": "xHQUVKjMWinZ"
      },
      "source": [
        "### 5) Support Vector Machine"
      ]
    },
    {
      "cell_type": "code",
      "metadata": {
        "colab": {
          "base_uri": "https://localhost:8080/"
        },
        "id": "rfNtKrLOWkc6",
        "outputId": "8644b465-cf5f-4c35-aca7-a908bd1b573c"
      },
      "source": [
        "# support vector machine\n",
        "pipe = Pipeline([\n",
        "  ('extract',\n",
        "    FeatureUnion([\n",
        "      ('tfidf', TfidfVectorizer(sublinear_tf=True, use_idf=True)),\n",
        "      ('doc2vec', Doc2VecTransformer()),\n",
        "      ('sentiment', SentimentTransformer())\n",
        "    ])),\n",
        "  ('select', SelectKBest(score_func = f_classif, k=300)),\n",
        "  ('to_dense', DenseTransformer()),\n",
        "  ('scale', StandardScaler()),\n",
        "  ('svc',  SVC(random_state=123))\n",
        "])\n",
        "\n",
        "# test some parameters\n",
        "param_grid = {'svc__class_weight': ['balanced', 'None']}\n",
        "\n",
        "grid = GridSearchCV(pipe,\n",
        "                    param_grid=param_grid,\n",
        "                    scoring=\"balanced_accuracy\",\n",
        "                    verbose=3,\n",
        "                    n_jobs=1,\n",
        "                    cv = 3)\n",
        "\n",
        "fitted = grid.fit(X_train, y_train)\n",
        "\n",
        "# Best parameters\n",
        "print(\"Best Parameters: {}\\n\".format(grid.best_params_))\n",
        "print(\"Best accuracy: {}\\n\".format(grid.best_score_))\n",
        "print(\"Finished.\")"
      ],
      "execution_count": null,
      "outputs": [
        {
          "output_type": "stream",
          "text": [
            "Fitting 3 folds for each of 2 candidates, totalling 6 fits\n",
            "[CV] svc__class_weight=balanced ......................................\n"
          ],
          "name": "stdout"
        },
        {
          "output_type": "stream",
          "text": [
            "[Parallel(n_jobs=1)]: Using backend SequentialBackend with 1 concurrent workers.\n"
          ],
          "name": "stderr"
        },
        {
          "output_type": "stream",
          "text": [
            "[CV] .......... svc__class_weight=balanced, score=0.769, total= 2.9min\n",
            "[CV] svc__class_weight=balanced ......................................\n"
          ],
          "name": "stdout"
        },
        {
          "output_type": "stream",
          "text": [
            "[Parallel(n_jobs=1)]: Done   1 out of   1 | elapsed:  2.9min remaining:    0.0s\n"
          ],
          "name": "stderr"
        },
        {
          "output_type": "stream",
          "text": [
            "[CV] .......... svc__class_weight=balanced, score=0.771, total= 2.9min\n",
            "[CV] svc__class_weight=balanced ......................................\n"
          ],
          "name": "stdout"
        },
        {
          "output_type": "stream",
          "text": [
            "[Parallel(n_jobs=1)]: Done   2 out of   2 | elapsed:  5.8min remaining:    0.0s\n"
          ],
          "name": "stderr"
        },
        {
          "output_type": "stream",
          "text": [
            "[CV] .......... svc__class_weight=balanced, score=0.790, total= 2.8min\n",
            "[CV] svc__class_weight=None ..........................................\n"
          ],
          "name": "stdout"
        },
        {
          "output_type": "stream",
          "text": [
            "/usr/local/lib/python3.7/dist-packages/sklearn/model_selection/_validation.py:536: FitFailedWarning: Estimator fit failed. The score on this train-test partition for these parameters will be set to nan. Details: \n",
            "ValueError: class_weight must be dict, 'balanced', or None, got: 'None'\n",
            "\n",
            "  FitFailedWarning)\n"
          ],
          "name": "stderr"
        },
        {
          "output_type": "stream",
          "text": [
            "[CV] ................ svc__class_weight=None, score=nan, total=  32.9s\n",
            "[CV] svc__class_weight=None ..........................................\n"
          ],
          "name": "stdout"
        },
        {
          "output_type": "stream",
          "text": [
            "/usr/local/lib/python3.7/dist-packages/sklearn/model_selection/_validation.py:536: FitFailedWarning: Estimator fit failed. The score on this train-test partition for these parameters will be set to nan. Details: \n",
            "ValueError: class_weight must be dict, 'balanced', or None, got: 'None'\n",
            "\n",
            "  FitFailedWarning)\n"
          ],
          "name": "stderr"
        },
        {
          "output_type": "stream",
          "text": [
            "[CV] ................ svc__class_weight=None, score=nan, total=  32.2s\n",
            "[CV] svc__class_weight=None ..........................................\n"
          ],
          "name": "stdout"
        },
        {
          "output_type": "stream",
          "text": [
            "/usr/local/lib/python3.7/dist-packages/sklearn/model_selection/_validation.py:536: FitFailedWarning: Estimator fit failed. The score on this train-test partition for these parameters will be set to nan. Details: \n",
            "ValueError: class_weight must be dict, 'balanced', or None, got: 'None'\n",
            "\n",
            "  FitFailedWarning)\n",
            "[Parallel(n_jobs=1)]: Done   6 out of   6 | elapsed: 10.3min finished\n"
          ],
          "name": "stderr"
        },
        {
          "output_type": "stream",
          "text": [
            "[CV] ................ svc__class_weight=None, score=nan, total=  32.3s\n",
            "Best Parameters: {'svc__class_weight': 'balanced'}\n",
            "\n",
            "Best accuracy: 0.776530984015949\n",
            "\n",
            "Finished.\n"
          ],
          "name": "stdout"
        }
      ]
    },
    {
      "cell_type": "code",
      "metadata": {
        "colab": {
          "base_uri": "https://localhost:8080/"
        },
        "id": "gli-r8vkWmx0",
        "outputId": "501558ac-ba38-4a04-b44d-d8121cd878bd"
      },
      "source": [
        "# final evaluation after parameter tuning\n",
        "y_pred = fitted.predict(X_test)\n",
        "balanced_accuracy_score(y_test,y_pred)"
      ],
      "execution_count": null,
      "outputs": [
        {
          "output_type": "execute_result",
          "data": {
            "text/plain": [
              "0.7679893392548744"
            ]
          },
          "metadata": {
            "tags": []
          },
          "execution_count": 27
        }
      ]
    },
    {
      "cell_type": "markdown",
      "metadata": {
        "id": "nULvB5NYit-N"
      },
      "source": [
        "### Best Performing Model: Latent Semantic Analysis with Logistic Classifier"
      ]
    },
    {
      "cell_type": "code",
      "metadata": {
        "id": "fhC2SzZWivaq"
      },
      "source": [
        "pipe = Pipeline([\n",
        "    ('tfidf', TfidfVectorizer(sublinear_tf=True, use_idf=True)),\n",
        "    ('lsa', TruncatedSVD(random_state=123, n_components=1000)),\n",
        "    ('logistic', LogisticRegression(max_iter=10000, class_weight='balanced', random_state=123)),\n",
        "])\n",
        "\n",
        "model = pipe.fit(X_train, y_train)"
      ],
      "execution_count": 50,
      "outputs": []
    },
    {
      "cell_type": "markdown",
      "metadata": {
        "id": "ggLuwTMtMWSC"
      },
      "source": [
        "### Confusion matrix"
      ]
    },
    {
      "cell_type": "code",
      "metadata": {
        "colab": {
          "base_uri": "https://localhost:8080/",
          "height": 295
        },
        "id": "sVM5WEW6m7q5",
        "outputId": "294e19ad-e7ca-4b46-d886-993ac665b20a"
      },
      "source": [
        "plot_confusion_matrix(model, X_test, y_test, normalize='true', cmap=plt.cm.Blues,\n",
        "                      display_labels=['Hate','Offensive','Neither'])\n",
        "plt.title('Confusion Matrix')\n",
        "plt.savefig('figure_3.png', dpi=200, transparent=True)\n",
        "plt.show()"
      ],
      "execution_count": 51,
      "outputs": [
        {
          "output_type": "display_data",
          "data": {
            "image/png": "[encoded data removed]",
            "text/plain": [
              "<Figure size 432x288 with 2 Axes>"
            ]
          },
          "metadata": {
            "tags": [],
            "needs_background": "light"
          }
        }
      ]
    },
    {
      "cell_type": "markdown",
      "metadata": {
        "id": "Nw4aW2AfMmRN"
      },
      "source": [
        "### Classification Report"
      ]
    },
    {
      "cell_type": "code",
      "metadata": {
        "colab": {
          "base_uri": "https://localhost:8080/"
        },
        "id": "OIN-i8GlMo0u",
        "outputId": "0add058f-e5af-448d-ae96-cd74988aa47c"
      },
      "source": [
        "y_pred = model.predict(X_test)\n",
        "print(classification_report(y_test,y_pred))"
      ],
      "execution_count": 18,
      "outputs": [
        {
          "output_type": "stream",
          "text": [
            "              precision    recall  f1-score   support\n",
            "\n",
            "           0       0.28      0.66      0.39       149\n",
            "           1       0.97      0.82      0.89      1923\n",
            "           2       0.76      0.94      0.84       407\n",
            "\n",
            "    accuracy                           0.83      2479\n",
            "   macro avg       0.67      0.81      0.71      2479\n",
            "weighted avg       0.89      0.83      0.85      2479\n",
            "\n"
          ],
          "name": "stdout"
        }
      ]
    },
    {
      "cell_type": "markdown",
      "metadata": {
        "id": "nj0pgPqXkHtt"
      },
      "source": [
        "### ROC curve (multiclass)"
      ]
    },
    {
      "cell_type": "code",
      "metadata": {
        "id": "PU-RbcFHkK2u",
        "colab": {
          "base_uri": "https://localhost:8080/",
          "height": 350
        },
        "outputId": "a1fee4c7-7154-495b-bdc1-93f4cf1622b7"
      },
      "source": [
        "# Binarize the output\n",
        "y_train_b = label_binarize(y_train, classes=[0, 1, 2])\n",
        "y_test_b = label_binarize(y_test, classes=[0, 1, 2])\n",
        "n_classes = y_train_b.shape[1]\n",
        "\n",
        "# Learn to predict each class\n",
        "y_score = model.decision_function(X_test)\n",
        "\n",
        "# Compute ROC curve and ROC area for each class\n",
        "fpr = dict()\n",
        "tpr = dict()\n",
        "roc_auc = dict()\n",
        "for i in range(n_classes):\n",
        "    fpr[i], tpr[i], _ = roc_curve(y_test_b[:, i], y_score[:, i])\n",
        "    roc_auc[i] = auc(fpr[i], tpr[i])\n",
        "\n",
        "# Compute micro-average ROC curve and ROC area\n",
        "fpr[\"micro\"], tpr[\"micro\"], _ = roc_curve(y_test_b.ravel(), y_score.ravel())\n",
        "roc_auc[\"micro\"] = auc(fpr[\"micro\"], tpr[\"micro\"])\n",
        "\n",
        "# First aggregate all false positive rates\n",
        "all_fpr = np.unique(np.concatenate([fpr[i] for i in range(n_classes)]))\n",
        "\n",
        "# Then interpolate all ROC curves at this points\n",
        "mean_tpr = np.zeros_like(all_fpr)\n",
        "for i in range(n_classes):\n",
        "    mean_tpr += np.interp(all_fpr, fpr[i], tpr[i])\n",
        "\n",
        "# Finally average it and compute AUC\n",
        "mean_tpr /= n_classes\n",
        "\n",
        "fpr[\"macro\"] = all_fpr\n",
        "tpr[\"macro\"] = mean_tpr\n",
        "roc_auc[\"macro\"] = auc(fpr[\"macro\"], tpr[\"macro\"])\n",
        "\n",
        "# Plot all ROC curves\n",
        "lw = 2\n",
        "plt.figure(figsize=(7,5))\n",
        "plt.plot(fpr[\"micro\"], tpr[\"micro\"],\n",
        "         label='micro-average ROC curve (area = {0:0.2f})'\n",
        "               ''.format(roc_auc[\"micro\"]),\n",
        "         color='deeppink', linestyle=':', linewidth=4)\n",
        "\n",
        "plt.plot(fpr[\"macro\"], tpr[\"macro\"],\n",
        "         label='macro-average ROC curve (area = {0:0.2f})'\n",
        "               ''.format(roc_auc[\"macro\"]),\n",
        "         color='navy', linestyle=':', linewidth=4)\n",
        "\n",
        "colors = cycle(['aqua', 'darkorange', 'cornflowerblue'])\n",
        "for i, color in zip(range(n_classes), colors):\n",
        "    plt.plot(fpr[i], tpr[i], color=color, lw=lw,\n",
        "             label='ROC curve of class {0} (area = {1:0.2f})'\n",
        "             ''.format(i, roc_auc[i]))\n",
        "\n",
        "plt.plot([0, 1], [0, 1], 'k--', lw=lw)\n",
        "plt.xlim([0.0, 1.0])\n",
        "plt.ylim([0.0, 1.05])\n",
        "plt.xlabel('False Positive Rate')\n",
        "plt.ylabel('True Positive Rate')\n",
        "plt.title('Extension of Receiver operating characteristic to multi-class')\n",
        "plt.legend(loc=\"lower right\")\n",
        "plt.savefig('figure_4.png', dpi=200, transparent=True)\n",
        "plt.show()"
      ],
      "execution_count": 52,
      "outputs": [
        {
          "output_type": "display_data",
          "data": {
            "image/png": "[encoded data removed]",
            "text/plain": [
              "<Figure size 504x360 with 1 Axes>"
            ]
          },
          "metadata": {
            "tags": [],
            "needs_background": "light"
          }
        }
      ]
    },
    {
      "cell_type": "markdown",
      "metadata": {
        "id": "ddgc8OpiOL6w"
      },
      "source": [
        "### Feature Importance"
      ]
    },
    {
      "cell_type": "code",
      "metadata": {
        "colab": {
          "base_uri": "https://localhost:8080/",
          "height": 295
        },
        "id": "xiv43ef5ndP0",
        "outputId": "3bb88422-5299-43e8-a419-901ba7bf83b0"
      },
      "source": [
        "# feature importance\n",
        "pd.DataFrame({'importance': abs(model['logistic'].coef_[0,:])})\\\n",
        "  .sort_values(by='importance', ascending=True).plot.barh()\n",
        "ax = plt.gca()\n",
        "ax.axes.yaxis.set_ticks([])\n",
        "plt.title('Feature Imporance with respect to class 0 (i.e. hate speech)')\n",
        "plt.xlabel(\"Absolute Coefficients of the Logistic Classifier\")\n",
        "plt.ylabel(\"Sorted Features (Components from SVD)\")\n",
        "plt.savefig('figure_5.png', dpi=200, transparent=True)\n",
        "plt.show()"
      ],
      "execution_count": 53,
      "outputs": [
        {
          "output_type": "display_data",
          "data": {
            "image/png": "[encoded data removed]",
            "text/plain": [
              "<Figure size 432x288 with 1 Axes>"
            ]
          },
          "metadata": {
            "tags": [],
            "needs_background": "light"
          }
        }
      ]
    },
    {
      "cell_type": "code",
      "metadata": {
        "id": "Q_ejoJZDdf_5",
        "colab": {
          "base_uri": "https://localhost:8080/",
          "height": 351
        },
        "outputId": "62343d42-8fa7-4d12-a0fb-6cd789ca5a04"
      },
      "source": [
        "# focus on the top ten features\n",
        "pd.DataFrame({'coefficient': model['logistic'].coef_[0,:]})\\\n",
        "  .assign(abs_coef=lambda x: abs(x.coefficient))\\\n",
        "  .sort_values(by='abs_coef', ascending=False)\\\n",
        "  .head(10) #select top ten features"
      ],
      "execution_count": 24,
      "outputs": [
        {
          "output_type": "execute_result",
          "data": {
            "text/html": [
              "<div>\n",
              "<style scoped>\n",
              "    .dataframe tbody tr th:only-of-type {\n",
              "        vertical-align: middle;\n",
              "    }\n",
              "\n",
              "    .dataframe tbody tr th {\n",
              "        vertical-align: top;\n",
              "    }\n",
              "\n",
              "    .dataframe thead th {\n",
              "        text-align: right;\n",
              "    }\n",
              "</style>\n",
              "<table border=\"1\" class=\"dataframe\">\n",
              "  <thead>\n",
              "    <tr style=\"text-align: right;\">\n",
              "      <th></th>\n",
              "      <th>coefficient</th>\n",
              "      <th>abs_coef</th>\n",
              "    </tr>\n",
              "  </thead>\n",
              "  <tbody>\n",
              "    <tr>\n",
              "      <th>13</th>\n",
              "      <td>5.410715</td>\n",
              "      <td>5.410715</td>\n",
              "    </tr>\n",
              "    <tr>\n",
              "      <th>14</th>\n",
              "      <td>4.855714</td>\n",
              "      <td>4.855714</td>\n",
              "    </tr>\n",
              "    <tr>\n",
              "      <th>21</th>\n",
              "      <td>4.517200</td>\n",
              "      <td>4.517200</td>\n",
              "    </tr>\n",
              "    <tr>\n",
              "      <th>59</th>\n",
              "      <td>3.879253</td>\n",
              "      <td>3.879253</td>\n",
              "    </tr>\n",
              "    <tr>\n",
              "      <th>48</th>\n",
              "      <td>3.753119</td>\n",
              "      <td>3.753119</td>\n",
              "    </tr>\n",
              "    <tr>\n",
              "      <th>63</th>\n",
              "      <td>-3.738320</td>\n",
              "      <td>3.738320</td>\n",
              "    </tr>\n",
              "    <tr>\n",
              "      <th>60</th>\n",
              "      <td>-3.717594</td>\n",
              "      <td>3.717594</td>\n",
              "    </tr>\n",
              "    <tr>\n",
              "      <th>7</th>\n",
              "      <td>3.497434</td>\n",
              "      <td>3.497434</td>\n",
              "    </tr>\n",
              "    <tr>\n",
              "      <th>12</th>\n",
              "      <td>3.323188</td>\n",
              "      <td>3.323188</td>\n",
              "    </tr>\n",
              "    <tr>\n",
              "      <th>51</th>\n",
              "      <td>3.275713</td>\n",
              "      <td>3.275713</td>\n",
              "    </tr>\n",
              "  </tbody>\n",
              "</table>\n",
              "</div>"
            ],
            "text/plain": [
              "    coefficient  abs_coef\n",
              "13     5.410715  5.410715\n",
              "14     4.855714  4.855714\n",
              "21     4.517200  4.517200\n",
              "59     3.879253  3.879253\n",
              "48     3.753119  3.753119\n",
              "63    -3.738320  3.738320\n",
              "60    -3.717594  3.717594\n",
              "7      3.497434  3.497434\n",
              "12     3.323188  3.323188\n",
              "51     3.275713  3.275713"
            ]
          },
          "metadata": {
            "tags": []
          },
          "execution_count": 24
        }
      ]
    },
    {
      "cell_type": "markdown",
      "metadata": {
        "id": "VQKFRVUzOuUp"
      },
      "source": [
        "### TF-IDF to extract the most important terms by class"
      ]
    },
    {
      "cell_type": "code",
      "metadata": {
        "id": "iZxY_uPuPCjR"
      },
      "source": [
        "# apply tf-idf on the training data\n",
        "vec_pipe = Pipeline([('vec', TfidfVectorizer(sublinear_tf=True, use_idf=True))])\n",
        "Xtr = vec_pipe.fit_transform(X_train)\n",
        "vec = vec_pipe.named_steps['vec']\n",
        "features = vec.get_feature_names()"
      ],
      "execution_count": 54,
      "outputs": []
    },
    {
      "cell_type": "code",
      "metadata": {
        "id": "6yHYSZux8D26"
      },
      "source": [
        "# some useful functions to extract top terms\n",
        "def top_tfidf_feats(row, features, top_n=25):\n",
        "    ''' Get top n tfidf values in row and return them with their corresponding feature names.'''\n",
        "    topn_ids = np.argsort(row)[::-1][:top_n]\n",
        "    top_feats = [(features[i], row[i]) for i in topn_ids]\n",
        "    df = pd.DataFrame(top_feats)\n",
        "    df.columns = ['feature', 'tfidf']\n",
        "    return df\n",
        "\n",
        "def top_mean_feats(Xtr, features, grp_ids=None, min_tfidf=0.1, top_n=25):\n",
        "    ''' Return the top n features that on average are most important amongst documents in rows\n",
        "        indentified by indices in grp_ids. '''\n",
        "    if grp_ids:\n",
        "        D = Xtr[grp_ids].toarray()\n",
        "    else:\n",
        "        D = Xtr.toarray()\n",
        "\n",
        "    D[D < min_tfidf] = 0\n",
        "    tfidf_means = np.mean(D, axis=0)\n",
        "    return top_tfidf_feats(tfidf_means, features, top_n)\n",
        "\n",
        "def top_feats_by_class(Xtr, y, features, min_tfidf=0.1, top_n=25):\n",
        "    ''' Return a list of dfs, where each df holds top_n features and their mean tfidf value\n",
        "        calculated across documents with the same class label. '''\n",
        "    dfs = []\n",
        "    labels = np.unique(y)\n",
        "    for label in labels:\n",
        "        ids = np.where(y==label)\n",
        "        feats_df = top_mean_feats(Xtr, features, ids, min_tfidf=min_tfidf, top_n=top_n)\n",
        "        feats_df.label = label\n",
        "        dfs.append(feats_df)\n",
        "    return dfs"
      ],
      "execution_count": 55,
      "outputs": []
    },
    {
      "cell_type": "code",
      "metadata": {
        "colab": {
          "base_uri": "https://localhost:8080/"
        },
        "id": "5cZdHHwaA654",
        "outputId": "20b74d3a-95a3-4da9-c278-ae37db483bb5"
      },
      "source": [
        "# extract top n terms for each class\n",
        "top_terms = top_feats_by_class(Xtr, y_train, features, top_n=3, min_tfidf=0.7)\n",
        "top_terms"
      ],
      "execution_count": 56,
      "outputs": [
        {
          "output_type": "execute_result",
          "data": {
            "text/plain": [
              "[  feature     tfidf\n",
              " 0     fag  0.010968\n",
              " 1  faggot  0.009115\n",
              " 2  nigger  0.005538,   feature     tfidf\n",
              " 0   pussy  0.002053\n",
              " 1   bitch  0.001410\n",
              " 2  faggot  0.000673,    feature     tfidf\n",
              " 0    trash  0.002239\n",
              " 1  brownie  0.000897\n",
              " 2   yankee  0.000704]"
            ]
          },
          "metadata": {
            "tags": []
          },
          "execution_count": 56
        }
      ]
    },
    {
      "cell_type": "code",
      "metadata": {
        "colab": {
          "base_uri": "https://localhost:8080/",
          "height": 295
        },
        "id": "wsP60u4VBUJl",
        "outputId": "e1617263-4022-4825-e3cb-7a2256e105c8"
      },
      "source": [
        "# plot the top terms in the hate speech category\n",
        "top_terms[0].sort_values(by='tfidf',ascending=True)\\\n",
        "  .assign(feature=lambda x: [z[:-2] + '**' for z in x.feature])\\\n",
        "  .plot(kind='barh', x='feature', stacked=True)\n",
        "plt.title('Most important terms for the hate speech category')\n",
        "plt.xlabel('Term')\n",
        "plt.ylabel('TF-IDF value')\n",
        "plt.savefig('figure_6.png', dpi=200, transparent=True)\n",
        "plt.show()"
      ],
      "execution_count": 57,
      "outputs": [
        {
          "output_type": "display_data",
          "data": {
            "image/png": "[encoded data removed]",
            "text/plain": [
              "<Figure size 432x288 with 1 Axes>"
            ]
          },
          "metadata": {
            "tags": [],
            "needs_background": "light"
          }
        }
      ]
    },
    {
      "cell_type": "markdown",
      "metadata": {
        "id": "vYaRslYTB-v-"
      },
      "source": [
        "### Associations that top TF-IDF terms have with respect to the top features (components from LSA) in the logistic classifier"
      ]
    },
    {
      "cell_type": "code",
      "metadata": {
        "id": "elq9o417PZhp"
      },
      "source": [
        "# built a list of unique top terms\n",
        "terms = []\n",
        "for i in range(len(top_terms)):\n",
        "  terms.append(top_terms[i]['feature'].tolist())\n",
        "unique_terms = list(set(list(chain.from_iterable(terms))))\n",
        "\n",
        "# find the corresponding column numbers in the tf-idf matrix\n",
        "col_ids = []\n",
        "for i in unique_terms:\n",
        "  col_ids.append(vec.vocabulary_[i])\n",
        "\n",
        "# find the indexes of the top features (components) from the logistic (ids)\n",
        "top_scores = pd.DataFrame({'coefficient': model['logistic'].coef_[0,:]})\\\n",
        "  .assign(abs_coef=lambda x: abs(x.coefficient))\\\n",
        "  .sort_values(by='abs_coef', ascending=False)\\\n",
        "  .head(10).index.tolist()\n",
        "\n",
        "# find the scores from TruncatedSVD\n",
        "scores = TruncatedSVD(n_components=1000, random_state=123).fit_transform(Xtr)\n",
        "\n",
        "# return the top coefficients\n",
        "top_coefs = pd.DataFrame({'coefficient': model['logistic'].coef_[0,:]})\\\n",
        "  .assign(abs_coef=lambda x: abs(x.coefficient))\\\n",
        "  .sort_values(by='abs_coef', ascending=False)\\\n",
        "  .head(10)['coefficient'].tolist()"
      ],
      "execution_count": 58,
      "outputs": []
    },
    {
      "cell_type": "code",
      "metadata": {
        "colab": {
          "base_uri": "https://localhost:8080/"
        },
        "id": "4g4MN253Xsds",
        "outputId": "ea1d0bc7-f26a-42df-92cf-9d44c9460858"
      },
      "source": [
        "# tf-idf matrix\n",
        "print(Xtr.shape)\n",
        "# scores from TruncatedSVD\n",
        "print(scores.shape)"
      ],
      "execution_count": 59,
      "outputs": [
        {
          "output_type": "stream",
          "text": [
            "(22304, 19165)\n",
            "(22304, 1000)\n"
          ],
          "name": "stdout"
        }
      ]
    },
    {
      "cell_type": "code",
      "metadata": {
        "id": "MnUloPRZbByG"
      },
      "source": [
        "# pick in these matrices the columns of interest to correlate\n",
        "# initialise an empty matrix\n",
        "d = np.zeros((len(unique_terms),len(top_scores)))\n",
        "\n",
        "# find correspondence between new and old rows (top terms ids)\n",
        "col_d = {}\n",
        "counter = -1\n",
        "for i in col_ids:\n",
        "  counter += 1\n",
        "  col_d[i] = counter\n",
        "\n",
        "# find correspondence between new and old columns (top features ids)\n",
        "row_d = {}\n",
        "counter = -1\n",
        "for j in top_scores:\n",
        "  counter += 1\n",
        "  row_d[j] = counter\n",
        "\n",
        "# extract the correlations of interest\n",
        "for i in col_ids: # for every top term in tf-idf\n",
        "  for j in top_scores: # for every top feature component\n",
        "    cor = pearsonr(Xtr[:,i].toarray()[:,0], scores[:,j])[0] # calculate the correlation\n",
        "    d[col_d[i],row_d[j]] = abs(cor) # store abs value it in the matrix\n",
        "\n",
        "# normalise columns to 1 to break down the share of the coefficient\n",
        "cors = d/d.sum(axis=0,keepdims=1)\n",
        "cor2 = cors.T # columns are now terms\n",
        "for i in range(len(top_coefs)):\n",
        "  for j in range(cor2.shape[1]):\n",
        "    cor2[i,j] = top_coefs[i] * cor2[i,j]\n",
        "\n",
        "# function to censor bad words\n",
        "def censor(x):\n",
        "  if x not in top_terms[2]['feature'].tolist():\n",
        "    out = x[:-2] + '**'\n",
        "  else:\n",
        "    out = x\n",
        "  return out\n",
        "\n",
        "# return the results in dataframe format\n",
        "res = pd.DataFrame(cor2)\n",
        "res.columns = [censor(x) for x in unique_terms]"
      ],
      "execution_count": 60,
      "outputs": []
    },
    {
      "cell_type": "code",
      "metadata": {
        "colab": {
          "base_uri": "https://localhost:8080/",
          "height": 351
        },
        "id": "e93KRpFlpB0m",
        "outputId": "d7c329e5-e5a5-4297-e398-af6ee92b3646"
      },
      "source": [
        "# the results\n",
        "res"
      ],
      "execution_count": 61,
      "outputs": [
        {
          "output_type": "execute_result",
          "data": {
            "text/html": [
              "<div>\n",
              "<style scoped>\n",
              "    .dataframe tbody tr th:only-of-type {\n",
              "        vertical-align: middle;\n",
              "    }\n",
              "\n",
              "    .dataframe tbody tr th {\n",
              "        vertical-align: top;\n",
              "    }\n",
              "\n",
              "    .dataframe thead th {\n",
              "        text-align: right;\n",
              "    }\n",
              "</style>\n",
              "<table border=\"1\" class=\"dataframe\">\n",
              "  <thead>\n",
              "    <tr style=\"text-align: right;\">\n",
              "      <th></th>\n",
              "      <th>fagg**</th>\n",
              "      <th>bit**</th>\n",
              "      <th>nigg**</th>\n",
              "      <th>trash</th>\n",
              "      <th>pus**</th>\n",
              "      <th>brownie</th>\n",
              "      <th>f**</th>\n",
              "      <th>yankee</th>\n",
              "    </tr>\n",
              "  </thead>\n",
              "  <tbody>\n",
              "    <tr>\n",
              "      <th>0</th>\n",
              "      <td>1.126276</td>\n",
              "      <td>1.367563</td>\n",
              "      <td>0.139740</td>\n",
              "      <td>1.554364</td>\n",
              "      <td>0.697792</td>\n",
              "      <td>0.015594</td>\n",
              "      <td>0.358672</td>\n",
              "      <td>0.150715</td>\n",
              "    </tr>\n",
              "    <tr>\n",
              "      <th>1</th>\n",
              "      <td>0.673164</td>\n",
              "      <td>0.905947</td>\n",
              "      <td>0.224061</td>\n",
              "      <td>1.990780</td>\n",
              "      <td>0.740813</td>\n",
              "      <td>0.053339</td>\n",
              "      <td>0.201227</td>\n",
              "      <td>0.066384</td>\n",
              "    </tr>\n",
              "    <tr>\n",
              "      <th>2</th>\n",
              "      <td>1.649037</td>\n",
              "      <td>0.308331</td>\n",
              "      <td>0.170582</td>\n",
              "      <td>1.641561</td>\n",
              "      <td>0.268532</td>\n",
              "      <td>0.090552</td>\n",
              "      <td>0.289170</td>\n",
              "      <td>0.099434</td>\n",
              "    </tr>\n",
              "    <tr>\n",
              "      <th>3</th>\n",
              "      <td>0.277968</td>\n",
              "      <td>0.240256</td>\n",
              "      <td>2.040513</td>\n",
              "      <td>0.234729</td>\n",
              "      <td>0.088782</td>\n",
              "      <td>0.200259</td>\n",
              "      <td>0.497170</td>\n",
              "      <td>0.299576</td>\n",
              "    </tr>\n",
              "    <tr>\n",
              "      <th>4</th>\n",
              "      <td>0.579066</td>\n",
              "      <td>0.075267</td>\n",
              "      <td>0.072807</td>\n",
              "      <td>0.308154</td>\n",
              "      <td>0.100973</td>\n",
              "      <td>0.162913</td>\n",
              "      <td>2.148629</td>\n",
              "      <td>0.305310</td>\n",
              "    </tr>\n",
              "    <tr>\n",
              "      <th>5</th>\n",
              "      <td>-0.157915</td>\n",
              "      <td>-0.119458</td>\n",
              "      <td>-2.435026</td>\n",
              "      <td>-0.082999</td>\n",
              "      <td>-0.304518</td>\n",
              "      <td>-0.364533</td>\n",
              "      <td>-0.233086</td>\n",
              "      <td>-0.040787</td>\n",
              "    </tr>\n",
              "    <tr>\n",
              "      <th>6</th>\n",
              "      <td>-0.128543</td>\n",
              "      <td>-0.025677</td>\n",
              "      <td>-2.623968</td>\n",
              "      <td>-0.123678</td>\n",
              "      <td>-0.336065</td>\n",
              "      <td>-0.016675</td>\n",
              "      <td>-0.321716</td>\n",
              "      <td>-0.141272</td>\n",
              "    </tr>\n",
              "    <tr>\n",
              "      <th>7</th>\n",
              "      <td>0.105727</td>\n",
              "      <td>1.082407</td>\n",
              "      <td>0.134086</td>\n",
              "      <td>0.763127</td>\n",
              "      <td>0.625524</td>\n",
              "      <td>0.256510</td>\n",
              "      <td>0.016521</td>\n",
              "      <td>0.513532</td>\n",
              "    </tr>\n",
              "    <tr>\n",
              "      <th>8</th>\n",
              "      <td>0.398736</td>\n",
              "      <td>0.146644</td>\n",
              "      <td>0.208141</td>\n",
              "      <td>1.636977</td>\n",
              "      <td>0.503790</td>\n",
              "      <td>0.022822</td>\n",
              "      <td>0.279271</td>\n",
              "      <td>0.126807</td>\n",
              "    </tr>\n",
              "    <tr>\n",
              "      <th>9</th>\n",
              "      <td>0.339015</td>\n",
              "      <td>0.179882</td>\n",
              "      <td>0.795933</td>\n",
              "      <td>0.217971</td>\n",
              "      <td>0.110949</td>\n",
              "      <td>0.050499</td>\n",
              "      <td>1.534727</td>\n",
              "      <td>0.046736</td>\n",
              "    </tr>\n",
              "  </tbody>\n",
              "</table>\n",
              "</div>"
            ],
            "text/plain": [
              "     fagg**     bit**    nigg**  ...   brownie       f**    yankee\n",
              "0  1.126276  1.367563  0.139740  ...  0.015594  0.358672  0.150715\n",
              "1  0.673164  0.905947  0.224061  ...  0.053339  0.201227  0.066384\n",
              "2  1.649037  0.308331  0.170582  ...  0.090552  0.289170  0.099434\n",
              "3  0.277968  0.240256  2.040513  ...  0.200259  0.497170  0.299576\n",
              "4  0.579066  0.075267  0.072807  ...  0.162913  2.148629  0.305310\n",
              "5 -0.157915 -0.119458 -2.435026  ... -0.364533 -0.233086 -0.040787\n",
              "6 -0.128543 -0.025677 -2.623968  ... -0.016675 -0.321716 -0.141272\n",
              "7  0.105727  1.082407  0.134086  ...  0.256510  0.016521  0.513532\n",
              "8  0.398736  0.146644  0.208141  ...  0.022822  0.279271  0.126807\n",
              "9  0.339015  0.179882  0.795933  ...  0.050499  1.534727  0.046736\n",
              "\n",
              "[10 rows x 8 columns]"
            ]
          },
          "metadata": {
            "tags": []
          },
          "execution_count": 61
        }
      ]
    },
    {
      "cell_type": "markdown",
      "metadata": {
        "id": "rN9zzGgWEQJd"
      },
      "source": [
        "### Results and Interpretation\n",
        "In sklearn there is an equation for each class. These act as independent binary logistic regression models. In the results we have three sets of regression coefficients, we will focus on those associated with the hate speech category. The interpretation of the coefficients is for a single unit change in the predictor variable, the log of odds will change by a factor indicated by the coefficient, given that all other variables are held constant."
      ]
    },
    {
      "cell_type": "code",
      "metadata": {
        "colab": {
          "base_uri": "https://localhost:8080/",
          "height": 365
        },
        "id": "vDUPWv3vfcLH",
        "outputId": "ca59575b-b7c8-4659-e211-f5ad3b157201"
      },
      "source": [
        "# plot the results\n",
        "res.sort_index(ascending=False)\\\n",
        "   .plot(kind='barh', stacked=True, figsize=(7,5))\n",
        "plt.title('Top features from the logistic and \\n their associations with top TF-IDF terms')\n",
        "plt.xlabel('Coefficient value')\n",
        "plt.ylabel('Top features (LSA components) from the logistic')\n",
        "plt.savefig('figure_7.png', dpi=200, transparent=True)\n",
        "plt.show()"
      ],
      "execution_count": 62,
      "outputs": [
        {
          "output_type": "display_data",
          "data": {
            "image/png": "[encoded data removed]",
            "text/plain": [
              "<Figure size 504x360 with 1 Axes>"
            ]
          },
          "metadata": {
            "tags": [],
            "needs_background": "light"
          }
        }
      ]
    },
    {
      "cell_type": "markdown",
      "metadata": {
        "id": "1AKOonuOyyb_"
      },
      "source": [
        "### Explore how the classifiers responds to top TF-IDF terms from the sample"
      ]
    },
    {
      "cell_type": "code",
      "metadata": {
        "colab": {
          "base_uri": "https://localhost:8080/"
        },
        "id": "goIExVcHy7dG",
        "outputId": "84b107f0-ed72-4ad5-d98e-ac91c5fb2476"
      },
      "source": [
        "# top n terms selected\n",
        "unique_terms"
      ],
      "execution_count": 63,
      "outputs": [
        {
          "output_type": "execute_result",
          "data": {
            "text/plain": [
              "['faggot', 'bitch', 'nigger', 'trash', 'pussy', 'brownie', 'fag', 'yankee']"
            ]
          },
          "metadata": {
            "tags": []
          },
          "execution_count": 63
        }
      ]
    },
    {
      "cell_type": "code",
      "metadata": {
        "colab": {
          "base_uri": "https://localhost:8080/",
          "height": 66,
          "referenced_widgets": [
            "ca95141917744f86b4b4aa0147869a80",
            "c43bd25f48074c02bf3dc277d2be6de4",
            "526274d1d014441fa6e65176f830350f",
            "c7451a6e9221418ba8dc4240faa2bc19",
            "1f56bebd8bb849abade7c2769d94f44d",
            "cf0152ebda8247a2bb71487ad90caf48",
            "a3127394938f49588bd4c9ded0c0d619",
            "c3afa01198e34be09bcad1738df86175",
            "3060d8760c4248518b300052a040932c",
            "12f8c79f51824c13b8ed7ecd92e3551c",
            "0b4f95a669da49b2b6e50f69fe097803",
            "e7bc34e922464b049a8d80dbe22fada7",
            "7750b58fa1e7414fb886d0f35e520b8d",
            "d468dd1e509940ca94c3aacc965a2239",
            "e40c63b4fc89481d8c059528648c3fc2",
            "c108e9f1146b4a6e9386db39ded616b1",
            "400ce6eabd754af8b24ac3bbc4c6bfd8",
            "fc2a475403d0475daf1c4a4b83e15464",
            "6a06df3fdc4f4771beb07ebe05134034",
            "95903d60448e4d48bbdc7321e04a6a6c",
            "2059fbbe242842f99ddfc3986de2d5df",
            "cac2f9d7b6e24252a59214762f09132e",
            "1b40c99920234cb5bf7d39b8b418ca8e",
            "53d07a2ac8a14df782d8e88d5fc0162d",
            "df2bd2e04ce2442c95875e266a5f8753",
            "4590f197b61748e08c393b984afa8c28",
            "1b9f32565ae44efc9e884da70a75f32d",
            "340f05fca8334bd8b7686db4a4cdd600",
            "02ca6cc629904df58bab479633926b0a",
            "68b5e31e2f4949a3af9c5be09a874801",
            "19305dca945441d0ac4a29b3293ee994",
            "ca700341403f42beb6425cf04756f523",
            "48b701638cd54298875c900c31f03c2c",
            "b6d24c38325443db8ffd29dcfc88de58",
            "ad9abb7727914663973d4c8f15709612",
            "7922f9c3ddd34d0ca4b896b87abfc7c7",
            "b85e9e387cf64c49a6671cfc49c88bc0",
            "752421910f43483e9d8ca55db8e2ae2c",
            "af5b1c2aa3024f5aa3d5bc5be360e18f",
            "2e1d15d414274e2aa2f82670d0c280ba",
            "ce33e1f694fc4464b20233fb7cbb88e2",
            "b0ef9a51f73a41e0bf7ecc8e63d7f165",
            "f1f0c84ec1564ac192d43e48157a7775",
            "7acc7efaf7a74390ad39d71a1d9ecc8e",
            "fe8a725966ce4360817104e0860363b7",
            "425caa8cf7bb4c5b99299e31c14fa332",
            "61f8f1c072074c579dfc461dfe44cd9e",
            "6b85cd594586481c9c31810cf4f61983",
            "4998bcf9ad0a46948b9a0e3c07edbe88",
            "8f59ac54fba24769b6659665f3c62fb3",
            "bec97d60a0fb49429208c0cdf78917a2",
            "f2c4b6a9b9bc43ef9e6a6f9b245ca536",
            "eb5b345fbe4649f98d222412b64649d2",
            "74f8b13d0382457399f8a20ae05612ff",
            "5fbddf8aeddc4341bcf403ebbfddd8fd",
            "ac03667235124eb7bec7d9e9b67563b4",
            "2771f8578f3543ff88b26c60ac87d209",
            "e84a002f3f5d4d8e8ae360f4c79e1a99",
            "7059d71adad14c1cbb84abf41525af9a",
            "8652e47d6ee24d3a85f8457e93ea88bb",
            "a03934af5ed84b218dbddf7e03313487",
            "b7d62291b8aa46608d42b9634f6033ec",
            "445f4de0890a4652b6671f139c950ec7",
            "b3e5aa3fea9346fb96d299c31ad1cb89",
            "6451a994f932422898a7cd6e5cf691fd",
            "21ab49aa47d4415286d491a6700eddb3",
            "77ad11d31f4c4b0187b883b5af48b082",
            "6b00d1234a4f4cbda32151d55ff26005",
            "8e4ae0218911449ba622d69385f90c0f",
            "7bb1a0795e52439b824826a4c9f21175",
            "f2ecf5fd40d2469c948d16f335752389",
            "20816dfa29e846efa35fc17a890e5bdc"
          ]
        },
        "id": "DzBbQpiTz4Xc",
        "outputId": "7e2e8729-0c59-4cfc-b052-cc775e53da84"
      },
      "source": [
        "from tqdm.notebook import tqdm\n",
        "tests = pd.DataFrame()\n",
        "seed = 0\n",
        "\n",
        "for u in tqdm(unique_terms):\n",
        "  for t in tqdm(range(100), leave=False):\n",
        "    seed += 1\n",
        "    queried = X_train[X_train.str.contains(u)]\n",
        "    sample = queried.sample(n=queried.shape[0],replace=True,random_state=seed)\n",
        "    pred = model.predict(sample)\n",
        "    bin = np.where(pred==0, 1, 0) # turn it into a binary problem (hate speech vs non-hate speech)\n",
        "    averaged = bin.mean() # return the mean\n",
        "    tests = tests.append(pd.DataFrame({'term': [u], 'test': [t], 'result': [averaged]}))\n"
      ],
      "execution_count": 64,
      "outputs": [
        {
          "output_type": "display_data",
          "data": {
            "application/vnd.jupyter.widget-view+json": {
              "model_id": "ca95141917744f86b4b4aa0147869a80",
              "version_minor": 0,
              "version_major": 2
            },
            "text/plain": [
              "HBox(children=(FloatProgress(value=0.0, max=8.0), HTML(value='')))"
            ]
          },
          "metadata": {
            "tags": []
          }
        },
        {
          "output_type": "display_data",
          "data": {
            "application/vnd.jupyter.widget-view+json": {
              "model_id": "3060d8760c4248518b300052a040932c",
              "version_minor": 0,
              "version_major": 2
            },
            "text/plain": [
              "HBox(children=(FloatProgress(value=0.0), HTML(value='')))"
            ]
          },
          "metadata": {
            "tags": []
          }
        },
        {
          "output_type": "display_data",
          "data": {
            "application/vnd.jupyter.widget-view+json": {
              "model_id": "400ce6eabd754af8b24ac3bbc4c6bfd8",
              "version_minor": 0,
              "version_major": 2
            },
            "text/plain": [
              "HBox(children=(FloatProgress(value=0.0), HTML(value='')))"
            ]
          },
          "metadata": {
            "tags": []
          }
        },
        {
          "output_type": "display_data",
          "data": {
            "application/vnd.jupyter.widget-view+json": {
              "model_id": "df2bd2e04ce2442c95875e266a5f8753",
              "version_minor": 0,
              "version_major": 2
            },
            "text/plain": [
              "HBox(children=(FloatProgress(value=0.0), HTML(value='')))"
            ]
          },
          "metadata": {
            "tags": []
          }
        },
        {
          "output_type": "display_data",
          "data": {
            "application/vnd.jupyter.widget-view+json": {
              "model_id": "48b701638cd54298875c900c31f03c2c",
              "version_minor": 0,
              "version_major": 2
            },
            "text/plain": [
              "HBox(children=(FloatProgress(value=0.0), HTML(value='')))"
            ]
          },
          "metadata": {
            "tags": []
          }
        },
        {
          "output_type": "display_data",
          "data": {
            "application/vnd.jupyter.widget-view+json": {
              "model_id": "ce33e1f694fc4464b20233fb7cbb88e2",
              "version_minor": 0,
              "version_major": 2
            },
            "text/plain": [
              "HBox(children=(FloatProgress(value=0.0), HTML(value='')))"
            ]
          },
          "metadata": {
            "tags": []
          }
        },
        {
          "output_type": "display_data",
          "data": {
            "application/vnd.jupyter.widget-view+json": {
              "model_id": "4998bcf9ad0a46948b9a0e3c07edbe88",
              "version_minor": 0,
              "version_major": 2
            },
            "text/plain": [
              "HBox(children=(FloatProgress(value=0.0), HTML(value='')))"
            ]
          },
          "metadata": {
            "tags": []
          }
        },
        {
          "output_type": "display_data",
          "data": {
            "application/vnd.jupyter.widget-view+json": {
              "model_id": "2771f8578f3543ff88b26c60ac87d209",
              "version_minor": 0,
              "version_major": 2
            },
            "text/plain": [
              "HBox(children=(FloatProgress(value=0.0), HTML(value='')))"
            ]
          },
          "metadata": {
            "tags": []
          }
        },
        {
          "output_type": "display_data",
          "data": {
            "application/vnd.jupyter.widget-view+json": {
              "model_id": "6451a994f932422898a7cd6e5cf691fd",
              "version_minor": 0,
              "version_major": 2
            },
            "text/plain": [
              "HBox(children=(FloatProgress(value=0.0), HTML(value='')))"
            ]
          },
          "metadata": {
            "tags": []
          }
        },
        {
          "output_type": "stream",
          "text": [
            "\n"
          ],
          "name": "stdout"
        }
      ]
    },
    {
      "cell_type": "code",
      "metadata": {
        "colab": {
          "base_uri": "https://localhost:8080/",
          "height": 66,
          "referenced_widgets": [
            "3ef22f3d70f6463d988a242786140285",
            "2c5cd64df57841d295b89585489da529",
            "3f4d351c08114243940b7317f8c36952",
            "6ebcde2d811348b4b81a5175fe618bac",
            "34a049a24b554443a56f2d33d77657c1",
            "cc5573f9e314472a9d245e4db1eadc8f",
            "a8f088250c084d95b0b9d297d936a232",
            "56cdef4a0e8143fc96882a85beeb0b77"
          ]
        },
        "id": "FwTk56Ip2buq",
        "outputId": "d841df6a-5924-4229-83ce-dfae8e0580b6"
      },
      "source": [
        "ints = pd.DataFrame()\n",
        "\n",
        "for i in tqdm(unique_terms):\n",
        "  lower = np.percentile(tests[tests['term']==i]['result'], q=2.5)\n",
        "  upper = np.percentile(tests[tests['term']==i]['result'], q=97.5)\n",
        "  ints = ints.append(pd.DataFrame({'term': [i], 'lower': [lower], 'upper': [upper]}))\n",
        "\n",
        "ints = ints.assign(centre=lambda x: (x.lower+x.upper)/2)\\\n",
        "  .assign(xerr=lambda x: x.upper-x.centre)\\\n",
        "  .sort_values(by='centre')"
      ],
      "execution_count": 65,
      "outputs": [
        {
          "output_type": "display_data",
          "data": {
            "application/vnd.jupyter.widget-view+json": {
              "model_id": "3ef22f3d70f6463d988a242786140285",
              "version_minor": 0,
              "version_major": 2
            },
            "text/plain": [
              "HBox(children=(FloatProgress(value=0.0, max=8.0), HTML(value='')))"
            ]
          },
          "metadata": {
            "tags": []
          }
        },
        {
          "output_type": "stream",
          "text": [
            "\n"
          ],
          "name": "stdout"
        }
      ]
    },
    {
      "cell_type": "code",
      "metadata": {
        "colab": {
          "base_uri": "https://localhost:8080/",
          "height": 322
        },
        "id": "elEozOLA95Tg",
        "outputId": "bacc98d4-10c3-43dd-c8a4-124e357349b7"
      },
      "source": [
        "x = ints['centre']\n",
        "y = [censor(x) for x in ints['term']]\n",
        "xerr = ints['xerr']\n",
        "\n",
        "fig, ax = plt.subplots()\n",
        "\n",
        "plt.scatter(x, y, label = 'blah')\n",
        "plt.errorbar(x, y, yerr = None, xerr = xerr, ls='none', capsize=5)\n",
        "plt.axvline(x=0.5, linestyle='dashed')\n",
        "plt.title('Prediction of the classifier with sampled \\n documents containing top TF-IDF terms')\n",
        "plt.xlabel('Average Prediction')\n",
        "plt.ylabel('TF-IDF term')\n",
        "\n",
        "fig.canvas.draw()\n",
        "labels = [item.get_text() for item in ax.get_xticklabels()]\n",
        "labels[1] = '0\\n Not Hate'\n",
        "labels[6] = '1\\n Hate'\n",
        "ax.set_xticklabels(labels)\n",
        "\n",
        "plt.savefig('figure_8.png', dpi=200, transparent=True, bbox_inches='tight')\n",
        "plt.show()"
      ],
      "execution_count": 67,
      "outputs": [
        {
          "output_type": "display_data",
          "data": {
            "image/png": "[encoded data removed]",
            "text/plain": [
              "<Figure size 432x288 with 1 Axes>"
            ]
          },
          "metadata": {
            "tags": [],
            "needs_background": "light"
          }
        }
      ]
    }
  ]
}