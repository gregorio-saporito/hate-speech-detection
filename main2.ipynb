{
  "nbformat": 4,
  "nbformat_minor": 0,
  "metadata": {
    "colab": {
      "name": "main2.ipynb",
      "provenance": [],
      "toc_visible": true,
      "authorship_tag": "ABX9TyN39Y+GUe6N06rTNVHSdoim",
      "include_colab_link": true
    },
    "kernelspec": {
      "name": "python3",
      "display_name": "Python 3"
    },
    "language_info": {
      "name": "python"
    }
  },
  "cells": [
    {
      "cell_type": "markdown",
      "metadata": {
        "id": "view-in-github",
        "colab_type": "text"
      },
      "source": [
        "<a href=\"https://colab.research.google.com/github/gregorio-saporito/hate-speech-detection/blob/main/main2.ipynb\" target=\"_parent\"><img src=\"https://colab.research.google.com/assets/colab-badge.svg\" alt=\"Open In Colab\"/></a>"
      ]
    },
    {
      "cell_type": "markdown",
      "metadata": {
        "id": "XzPLFUdZB3Mo"
      },
      "source": [
        "# Text Mining and Sentiment Analysis: Hate Speech Detection\n",
        "Gregorio Luigi Saporito - DSE (2020-2021)"
      ]
    },
    {
      "cell_type": "markdown",
      "metadata": {
        "id": "GTm9xIW5B_Y6"
      },
      "source": [
        "### Libraries"
      ]
    },
    {
      "cell_type": "code",
      "metadata": {
        "colab": {
          "base_uri": "https://localhost:8080/"
        },
        "id": "mlyfm12RQQ94",
        "outputId": "5361d753-75c7-4855-94bc-82003f2382b5"
      },
      "source": [
        "!pip install text-preprocessing\n",
        "!pip install tweet-preprocessor\n",
        "!pip install -U nltk[twitter]"
      ],
      "execution_count": 2,
      "outputs": [
        {
          "output_type": "stream",
          "text": [
            "Requirement already satisfied: text-preprocessing in /usr/local/lib/python3.7/dist-packages (0.1.0)\n",
            "Requirement already satisfied: names-dataset in /usr/local/lib/python3.7/dist-packages (from text-preprocessing) (2.0.1)\n",
            "Requirement already satisfied: pyspellchecker in /usr/local/lib/python3.7/dist-packages (from text-preprocessing) (0.6.2)\n",
            "Requirement already satisfied: unittest-xml-reporting in /usr/local/lib/python3.7/dist-packages (from text-preprocessing) (3.0.4)\n",
            "Requirement already satisfied: nltk in /usr/local/lib/python3.7/dist-packages (from text-preprocessing) (3.6.2)\n",
            "Requirement already satisfied: contractions in /usr/local/lib/python3.7/dist-packages (from text-preprocessing) (0.0.48)\n",
            "Requirement already satisfied: joblib in /usr/local/lib/python3.7/dist-packages (from nltk->text-preprocessing) (1.0.1)\n",
            "Requirement already satisfied: regex in /usr/local/lib/python3.7/dist-packages (from nltk->text-preprocessing) (2019.12.20)\n",
            "Requirement already satisfied: tqdm in /usr/local/lib/python3.7/dist-packages (from nltk->text-preprocessing) (4.41.1)\n",
            "Requirement already satisfied: click in /usr/local/lib/python3.7/dist-packages (from nltk->text-preprocessing) (7.1.2)\n",
            "Requirement already satisfied: textsearch>=0.0.21 in /usr/local/lib/python3.7/dist-packages (from contractions->text-preprocessing) (0.0.21)\n",
            "Requirement already satisfied: anyascii in /usr/local/lib/python3.7/dist-packages (from textsearch>=0.0.21->contractions->text-preprocessing) (0.2.0)\n",
            "Requirement already satisfied: pyahocorasick in /usr/local/lib/python3.7/dist-packages (from textsearch>=0.0.21->contractions->text-preprocessing) (1.4.2)\n",
            "Requirement already satisfied: tweet-preprocessor in /usr/local/lib/python3.7/dist-packages (0.6.0)\n",
            "Requirement already up-to-date: nltk[twitter] in /usr/local/lib/python3.7/dist-packages (3.6.2)\n",
            "Requirement already satisfied, skipping upgrade: joblib in /usr/local/lib/python3.7/dist-packages (from nltk[twitter]) (1.0.1)\n",
            "Requirement already satisfied, skipping upgrade: regex in /usr/local/lib/python3.7/dist-packages (from nltk[twitter]) (2019.12.20)\n",
            "Requirement already satisfied, skipping upgrade: tqdm in /usr/local/lib/python3.7/dist-packages (from nltk[twitter]) (4.41.1)\n",
            "Requirement already satisfied, skipping upgrade: click in /usr/local/lib/python3.7/dist-packages (from nltk[twitter]) (7.1.2)\n",
            "Requirement already satisfied, skipping upgrade: twython; extra == \"twitter\" in /usr/local/lib/python3.7/dist-packages (from nltk[twitter]) (3.8.2)\n",
            "Requirement already satisfied, skipping upgrade: requests-oauthlib>=0.4.0 in /usr/local/lib/python3.7/dist-packages (from twython; extra == \"twitter\"->nltk[twitter]) (1.3.0)\n",
            "Requirement already satisfied, skipping upgrade: requests>=2.1.0 in /usr/local/lib/python3.7/dist-packages (from twython; extra == \"twitter\"->nltk[twitter]) (2.23.0)\n",
            "Requirement already satisfied, skipping upgrade: oauthlib>=3.0.0 in /usr/local/lib/python3.7/dist-packages (from requests-oauthlib>=0.4.0->twython; extra == \"twitter\"->nltk[twitter]) (3.1.0)\n",
            "Requirement already satisfied, skipping upgrade: idna<3,>=2.5 in /usr/local/lib/python3.7/dist-packages (from requests>=2.1.0->twython; extra == \"twitter\"->nltk[twitter]) (2.10)\n",
            "Requirement already satisfied, skipping upgrade: certifi>=2017.4.17 in /usr/local/lib/python3.7/dist-packages (from requests>=2.1.0->twython; extra == \"twitter\"->nltk[twitter]) (2020.12.5)\n",
            "Requirement already satisfied, skipping upgrade: chardet<4,>=3.0.2 in /usr/local/lib/python3.7/dist-packages (from requests>=2.1.0->twython; extra == \"twitter\"->nltk[twitter]) (3.0.4)\n",
            "Requirement already satisfied, skipping upgrade: urllib3!=1.25.0,!=1.25.1,<1.26,>=1.21.1 in /usr/local/lib/python3.7/dist-packages (from requests>=2.1.0->twython; extra == \"twitter\"->nltk[twitter]) (1.24.3)\n"
          ],
          "name": "stdout"
        }
      ]
    },
    {
      "cell_type": "code",
      "metadata": {
        "id": "wyFgiI97B_IO"
      },
      "source": [
        "from google.colab import files\n",
        "import pandas as pd\n",
        "import matplotlib.pyplot as plt\n",
        "import preprocessor as p\n",
        "from text_preprocessing import preprocess_text\n",
        "from text_preprocessing import to_lower, expand_contraction, remove_number, remove_punctuation, remove_whitespace, normalize_unicode, lemmatize_word\n",
        "from sklearn.model_selection import train_test_split\n",
        "from sklearn.feature_extraction.text import TfidfVectorizer\n",
        "from nltk.tokenize import word_tokenize\n",
        "from gensim.models.doc2vec import Doc2Vec, TaggedDocument\n",
        "import multiprocessing\n",
        "from tqdm import tqdm\n",
        "from sklearn import utils\n",
        "import nltk\n",
        "from nltk.sentiment import SentimentIntensityAnalyzer\n",
        "import numpy as np\n",
        "from sklearn.preprocessing import StandardScaler\n",
        "from sklearn.decomposition import TruncatedSVD\n",
        "from sklearn.linear_model import LogisticRegression\n",
        "from sklearn.model_selection import cross_val_score\n",
        "import statistics as st\n",
        "from sklearn.model_selection import StratifiedKFold\n",
        "from sklearn.metrics import accuracy_score"
      ],
      "execution_count": 3,
      "outputs": []
    },
    {
      "cell_type": "code",
      "metadata": {
        "colab": {
          "base_uri": "https://localhost:8080/"
        },
        "id": "ePVYGLXMT2cB",
        "outputId": "101704fc-bb45-4e3b-fcdf-1d8e35c824b9"
      },
      "source": [
        "nltk.download('vader_lexicon') "
      ],
      "execution_count": 4,
      "outputs": [
        {
          "output_type": "stream",
          "text": [
            "[nltk_data] Downloading package vader_lexicon to /root/nltk_data...\n",
            "[nltk_data]   Package vader_lexicon is already up-to-date!\n"
          ],
          "name": "stderr"
        },
        {
          "output_type": "execute_result",
          "data": {
            "text/plain": [
              "True"
            ]
          },
          "metadata": {
            "tags": []
          },
          "execution_count": 4
        }
      ]
    },
    {
      "cell_type": "markdown",
      "metadata": {
        "id": "-KSQol0ACJAr"
      },
      "source": [
        "### Upload the data to session storage\n",
        "Upload here below the __labeled_data.csv__ file. The labels correspond to\n",
        "- 0: hate speech\n",
        "- 1: offensive language\n",
        "- 2: neither"
      ]
    },
    {
      "cell_type": "code",
      "metadata": {
        "colab": {
          "resources": {
            "http://localhost:8080/nbextensions/google.colab/files.js": {
              "data": "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",
              "ok": true,
              "headers": [
                [
                  "content-type",
                  "application/javascript"
                ]
              ],
              "status": 200,
              "status_text": ""
            }
          },
          "base_uri": "https://localhost:8080/",
          "height": 39
        },
        "id": "GZZEUwcZCOVl",
        "outputId": "c9635da6-26a8-4e31-fbd5-7bc7d4286699"
      },
      "source": [
        "# upload here the data\n",
        "uploaded = files.upload()"
      ],
      "execution_count": 5,
      "outputs": [
        {
          "output_type": "display_data",
          "data": {
            "text/html": [
              "\n",
              "     <input type=\"file\" id=\"files-05416b68-1023-4117-b3e5-05587ca80e57\" name=\"files[]\" multiple disabled\n",
              "        style=\"border:none\" />\n",
              "     <output id=\"result-05416b68-1023-4117-b3e5-05587ca80e57\">\n",
              "      Upload widget is only available when the cell has been executed in the\n",
              "      current browser session. Please rerun this cell to enable.\n",
              "      </output>\n",
              "      <script src=\"/nbextensions/google.colab/files.js\"></script> "
            ],
            "text/plain": [
              "<IPython.core.display.HTML object>"
            ]
          },
          "metadata": {
            "tags": []
          }
        }
      ]
    },
    {
      "cell_type": "code",
      "metadata": {
        "id": "97ASttiJCasJ"
      },
      "source": [
        "# read the csv file, select the columns of interest, and rename them\n",
        "fields = ['Unnamed: 0', 'class', 'tweet']\n",
        "raw = pd.read_csv('labeled_data.csv', usecols=fields)\\\n",
        "  .rename(columns={\"Unnamed: 0\": \"id\", \"class\": \"label\"})"
      ],
      "execution_count": 6,
      "outputs": []
    },
    {
      "cell_type": "markdown",
      "metadata": {
        "id": "z8Oc0pEoCqjZ"
      },
      "source": [
        "### Inspect the data"
      ]
    },
    {
      "cell_type": "code",
      "metadata": {
        "colab": {
          "base_uri": "https://localhost:8080/",
          "height": 202
        },
        "id": "W5qh9INqCsDk",
        "outputId": "4a694c3b-1ece-43c2-9b7c-58dbcc4f4c76"
      },
      "source": [
        "# snapshot of the first rows\n",
        "raw.head()"
      ],
      "execution_count": 7,
      "outputs": [
        {
          "output_type": "execute_result",
          "data": {
            "text/html": [
              "<div>\n",
              "<style scoped>\n",
              "    .dataframe tbody tr th:only-of-type {\n",
              "        vertical-align: middle;\n",
              "    }\n",
              "\n",
              "    .dataframe tbody tr th {\n",
              "        vertical-align: top;\n",
              "    }\n",
              "\n",
              "    .dataframe thead th {\n",
              "        text-align: right;\n",
              "    }\n",
              "</style>\n",
              "<table border=\"1\" class=\"dataframe\">\n",
              "  <thead>\n",
              "    <tr style=\"text-align: right;\">\n",
              "      <th></th>\n",
              "      <th>id</th>\n",
              "      <th>label</th>\n",
              "      <th>tweet</th>\n",
              "    </tr>\n",
              "  </thead>\n",
              "  <tbody>\n",
              "    <tr>\n",
              "      <th>0</th>\n",
              "      <td>0</td>\n",
              "      <td>2</td>\n",
              "      <td>!!! RT @mayasolovely: As a woman you shouldn't...</td>\n",
              "    </tr>\n",
              "    <tr>\n",
              "      <th>1</th>\n",
              "      <td>1</td>\n",
              "      <td>1</td>\n",
              "      <td>!!!!! RT @mleew17: boy dats cold...tyga dwn ba...</td>\n",
              "    </tr>\n",
              "    <tr>\n",
              "      <th>2</th>\n",
              "      <td>2</td>\n",
              "      <td>1</td>\n",
              "      <td>!!!!!!! RT @UrKindOfBrand Dawg!!!! RT @80sbaby...</td>\n",
              "    </tr>\n",
              "    <tr>\n",
              "      <th>3</th>\n",
              "      <td>3</td>\n",
              "      <td>1</td>\n",
              "      <td>!!!!!!!!! RT @C_G_Anderson: @viva_based she lo...</td>\n",
              "    </tr>\n",
              "    <tr>\n",
              "      <th>4</th>\n",
              "      <td>4</td>\n",
              "      <td>1</td>\n",
              "      <td>!!!!!!!!!!!!! RT @ShenikaRoberts: The shit you...</td>\n",
              "    </tr>\n",
              "  </tbody>\n",
              "</table>\n",
              "</div>"
            ],
            "text/plain": [
              "   id  label                                              tweet\n",
              "0   0      2  !!! RT @mayasolovely: As a woman you shouldn't...\n",
              "1   1      1  !!!!! RT @mleew17: boy dats cold...tyga dwn ba...\n",
              "2   2      1  !!!!!!! RT @UrKindOfBrand Dawg!!!! RT @80sbaby...\n",
              "3   3      1  !!!!!!!!! RT @C_G_Anderson: @viva_based she lo...\n",
              "4   4      1  !!!!!!!!!!!!! RT @ShenikaRoberts: The shit you..."
            ]
          },
          "metadata": {
            "tags": []
          },
          "execution_count": 7
        }
      ]
    },
    {
      "cell_type": "code",
      "metadata": {
        "colab": {
          "base_uri": "https://localhost:8080/"
        },
        "id": "SQACy5sjCuzO",
        "outputId": "1e4fbf20-94ae-4f94-90c7-a035ebee1c31"
      },
      "source": [
        "# size of the dataset\n",
        "raw.shape"
      ],
      "execution_count": 8,
      "outputs": [
        {
          "output_type": "execute_result",
          "data": {
            "text/plain": [
              "(24783, 3)"
            ]
          },
          "metadata": {
            "tags": []
          },
          "execution_count": 8
        }
      ]
    },
    {
      "cell_type": "code",
      "metadata": {
        "colab": {
          "base_uri": "https://localhost:8080/"
        },
        "id": "0k771LY_CxzS",
        "outputId": "19743281-3057-4de0-b7e1-3a0c6cef3da5"
      },
      "source": [
        "# inspect the presence of missing values\n",
        "print(\n",
        "    'Check for null values\\n' +\n",
        "    str(raw.isnull().sum()) + '\\n'\n",
        "    'Check for na values\\n' +\n",
        "    str(raw.isna().sum())\n",
        ")"
      ],
      "execution_count": 9,
      "outputs": [
        {
          "output_type": "stream",
          "text": [
            "Check for null values\n",
            "id       0\n",
            "label    0\n",
            "tweet    0\n",
            "dtype: int64\n",
            "Check for na values\n",
            "id       0\n",
            "label    0\n",
            "tweet    0\n",
            "dtype: int64\n"
          ],
          "name": "stdout"
        }
      ]
    },
    {
      "cell_type": "code",
      "metadata": {
        "colab": {
          "base_uri": "https://localhost:8080/",
          "height": 248
        },
        "id": "BUfbEqTNCz5U",
        "outputId": "5264b07f-d717-4f61-86dc-21a84c9b2edb"
      },
      "source": [
        "# inspect the classes' frequency\n",
        "raw['label'].value_counts(normalize=True).plot.pie(autopct='%1.0f%%')\n",
        "plt.show()"
      ],
      "execution_count": 10,
      "outputs": [
        {
          "output_type": "display_data",
          "data": {
            "image/png": "[encoded data removed]",
            "text/plain": [
              "<Figure size 432x288 with 1 Axes>"
            ]
          },
          "metadata": {
            "tags": []
          }
        }
      ]
    },
    {
      "cell_type": "markdown",
      "metadata": {
        "id": "LeJSEQT3DAYk"
      },
      "source": [
        "### Preprocessing and Feature Extraction"
      ]
    },
    {
      "cell_type": "code",
      "metadata": {
        "id": "YxTk6wC7DL-C"
      },
      "source": [
        "# normalise tags, URLS, emoji, and smiley\n",
        "# the hashtags are left out because they could incorporate hate speech to detect\n",
        "p.set_options(p.OPT.MENTION, p.OPT.URL, p.OPT.EMOJI, p.OPT.SMILEY)\n",
        "raw['normalised'] = [p.tokenize(x) for x in raw['tweet']]\n",
        "\n",
        "# Preprocess text using custom preprocess functions in the pipeline\n",
        "def preprocess_txt(x):\n",
        "  preprocess_functions = [to_lower, expand_contraction, remove_number, remove_punctuation,\n",
        "                          remove_whitespace, normalize_unicode, lemmatize_word]\n",
        "  preprocessed_text = preprocess_text(x, preprocess_functions)\n",
        "  return preprocessed_text.replace(\"rt \", \"\").strip()\n",
        "\n",
        "raw['cleaned'] = [preprocess_txt(x) for x in raw['normalised']]"
      ],
      "execution_count": 11,
      "outputs": []
    },
    {
      "cell_type": "markdown",
      "metadata": {
        "id": "BpammUUkEv4i"
      },
      "source": [
        "### TF-IDF Feature Extraction"
      ]
    },
    {
      "cell_type": "code",
      "metadata": {
        "id": "hQERacfoFBnN"
      },
      "source": [
        "# split the sample in train and test\n",
        "corpus_train, corpus_test, y_train, y_test = train_test_split(raw['cleaned'], raw['label'], test_size=0.5, random_state=123)"
      ],
      "execution_count": 12,
      "outputs": []
    },
    {
      "cell_type": "code",
      "metadata": {
        "colab": {
          "base_uri": "https://localhost:8080/"
        },
        "id": "UjXhMjheGTP9",
        "outputId": "2253ed88-5127-4356-d988-5373ca51139b"
      },
      "source": [
        "# fit only on the training set to avoid data leak\n",
        "# sublinear_tf=True and use_idf=True activated as suggested for TfidfVectorizer later on\n",
        "vectorizer = TfidfVectorizer(sublinear_tf=True, use_idf=True)\n",
        "tfidf = vectorizer.fit(corpus_train)\n",
        "tfidf_train =  tfidf.transform(corpus_train)\n",
        "tfidf_test =  tfidf.transform(corpus_test)\n",
        "\n",
        "# check the shape\n",
        "print(tfidf_train.shape)\n",
        "print(tfidf_test.shape)"
      ],
      "execution_count": 13,
      "outputs": [
        {
          "output_type": "stream",
          "text": [
            "(12391, 13442)\n",
            "(12392, 13442)\n"
          ],
          "name": "stdout"
        }
      ]
    },
    {
      "cell_type": "markdown",
      "metadata": {
        "id": "0jwpOGUeHYOA"
      },
      "source": [
        "### Doc2vec Feature extraction"
      ]
    },
    {
      "cell_type": "code",
      "metadata": {
        "colab": {
          "base_uri": "https://localhost:8080/"
        },
        "id": "AXs18ip8Hcj0",
        "outputId": "c8617869-f047-4ca3-816b-cc4f24614aed"
      },
      "source": [
        "# function to merge the tokenised corpus and labels of the respective train and test sets into a single DataFrame\n",
        "def token_label(corpus,labels):\n",
        "  result = pd.DataFrame()\n",
        "  result['tokens'] = [nltk.word_tokenize(x) for x in corpus]\n",
        "  result['label'] = labels.tolist()\n",
        "  return result\n",
        "\n",
        "# tag documents\n",
        "train_tagged = token_label(corpus_train,y_train).apply(\n",
        "    lambda r: TaggedDocument(words=r['tokens'], tags=[r.label]), axis=1)\n",
        "test_tagged = token_label(corpus_test,y_test).apply(\n",
        "    lambda r: TaggedDocument(words=r['tokens'], tags=[r.label]), axis=1)\n",
        "\n",
        "# Doc2Vec model\n",
        "model_dbow = Doc2Vec(vector_size=300, workers=1, seed=123)\n",
        "model_dbow.build_vocab([x for x in tqdm(train_tagged.values)])"
      ],
      "execution_count": 14,
      "outputs": [
        {
          "output_type": "stream",
          "text": [
            "100%|██████████| 12391/12391 [00:00<00:00, 1451234.81it/s]\n"
          ],
          "name": "stderr"
        }
      ]
    },
    {
      "cell_type": "code",
      "metadata": {
        "colab": {
          "base_uri": "https://localhost:8080/"
        },
        "id": "0SlLWtzUJ0uV",
        "outputId": "ce4c0219-b0bf-4a6d-ab83-427d78322496"
      },
      "source": [
        "%%time\n",
        "for epoch in range(20):\n",
        "    model_dbow.train(utils.shuffle([x for x in tqdm(train_tagged.values)]), total_examples=len(train_tagged.values), epochs=1)\n",
        "    model_dbow.alpha -= 0.002\n",
        "    model_dbow.min_alpha = model_dbow.alpha"
      ],
      "execution_count": 15,
      "outputs": [
        {
          "output_type": "stream",
          "text": [
            "100%|██████████| 12391/12391 [00:00<00:00, 1241587.73it/s]\n",
            "100%|██████████| 12391/12391 [00:00<00:00, 973780.16it/s]\n",
            "100%|██████████| 12391/12391 [00:00<00:00, 1438382.07it/s]\n",
            "100%|██████████| 12391/12391 [00:00<00:00, 1928302.94it/s]\n",
            "100%|██████████| 12391/12391 [00:00<00:00, 2527802.57it/s]\n",
            "100%|██████████| 12391/12391 [00:00<00:00, 1527858.09it/s]\n",
            "100%|██████████| 12391/12391 [00:00<00:00, 2481100.91it/s]\n",
            "100%|██████████| 12391/12391 [00:00<00:00, 1613324.05it/s]\n",
            "100%|██████████| 12391/12391 [00:00<00:00, 1511505.96it/s]\n",
            "100%|██████████| 12391/12391 [00:00<00:00, 1407834.57it/s]\n",
            "100%|██████████| 12391/12391 [00:00<00:00, 2132431.51it/s]\n",
            "100%|██████████| 12391/12391 [00:00<00:00, 2263670.93it/s]\n",
            "100%|██████████| 12391/12391 [00:00<00:00, 1536985.30it/s]\n",
            "100%|██████████| 12391/12391 [00:00<00:00, 1437984.09it/s]\n",
            "100%|██████████| 12391/12391 [00:00<00:00, 1620568.16it/s]\n",
            "100%|██████████| 12391/12391 [00:00<00:00, 1274563.98it/s]\n",
            "100%|██████████| 12391/12391 [00:00<00:00, 1561318.86it/s]\n",
            "100%|██████████| 12391/12391 [00:00<00:00, 2542518.51it/s]\n",
            "100%|██████████| 12391/12391 [00:00<00:00, 1413655.23it/s]\n",
            "100%|██████████| 12391/12391 [00:00<00:00, 1494940.91it/s]\n"
          ],
          "name": "stderr"
        },
        {
          "output_type": "stream",
          "text": [
            "CPU times: user 17.1 s, sys: 119 ms, total: 17.2 s\n",
            "Wall time: 17.4 s\n"
          ],
          "name": "stdout"
        }
      ]
    },
    {
      "cell_type": "code",
      "metadata": {
        "id": "3mHV0_eWKFmG"
      },
      "source": [
        "def vec_for_learning(model, tagged_docs):\n",
        "    sents = tagged_docs.values\n",
        "    targets, regressors = zip(*[(doc.tags[0], model.infer_vector(doc.words, steps=20)) for doc in sents])\n",
        "    return targets, regressors\n",
        "\n",
        "# return the features\n",
        "y_train, doc2vec_train = vec_for_learning(model_dbow, train_tagged)\n",
        "y_test, doc2vec_test = vec_for_learning(model_dbow, test_tagged)"
      ],
      "execution_count": 16,
      "outputs": []
    },
    {
      "cell_type": "markdown",
      "metadata": {
        "id": "DSZ39FOePrhi"
      },
      "source": [
        "### Sentiment Feature Extraction"
      ]
    },
    {
      "cell_type": "code",
      "metadata": {
        "id": "Q2yg4gO_WBxE"
      },
      "source": [
        "# the order of the output columns is neg, neu, pos\n",
        "def buildsentdf(corpus):\n",
        "  sentdf = pd.DataFrame({'neg': [], 'neu': [], 'pos': []})\n",
        "  sia = SentimentIntensityAnalyzer()\n",
        "  for x in corpus:\n",
        "    sentout = sia.polarity_scores(x)\n",
        "    toappend = pd.DataFrame({'neg': [sentout['neg']], 'neu': [sentout['neu']], 'pos': [sentout['pos']]})\n",
        "    sentdf = sentdf.append(toappend)\n",
        "  return sentdf.values"
      ],
      "execution_count": 17,
      "outputs": []
    },
    {
      "cell_type": "code",
      "metadata": {
        "id": "-tJ1v-i-awTU"
      },
      "source": [
        "sent_train = buildsentdf(corpus_train)\n",
        "sent_test = buildsentdf(corpus_test)"
      ],
      "execution_count": 18,
      "outputs": []
    },
    {
      "cell_type": "markdown",
      "metadata": {
        "id": "W5zxgS8Qd2MU"
      },
      "source": [
        "### Merge Features"
      ]
    },
    {
      "cell_type": "code",
      "metadata": {
        "colab": {
          "base_uri": "https://localhost:8080/"
        },
        "id": "mZOTDNBJd8r2",
        "outputId": "1c462afb-e4fa-48b2-cd99-2ca0aa4ccf09"
      },
      "source": [
        "# the features will have to be converted to a common format\n",
        "print(type(tfidf_train))\n",
        "print(type(doc2vec_train))\n",
        "print(type(sent_train))\n",
        "\n",
        "# check the match of observations\n",
        "print(tfidf_train.toarray().shape)\n",
        "print(np.asarray(doc2vec_train).shape)\n",
        "print(sent_train.shape)\n",
        "\n",
        "# merge the features\n",
        "merged_train = np.concatenate((tfidf_train.toarray(),np.asarray(doc2vec_train),sent_train),axis=1)\n",
        "merged_test = np.concatenate((tfidf_test.toarray(),np.asarray(doc2vec_test),sent_test),axis=1)\n",
        "\n",
        "# rescale the data (fit only on training to avoid data leak)\n",
        "scaler = StandardScaler()\n",
        "scaler_model = scaler.fit(merged_train)\n",
        "X_train = scaler_model.transform(merged_train)\n",
        "X_test = scaler_model.transform(merged_test)\n",
        "\n",
        "# delete intermediate feature preprocessing to save space\n",
        "del tfidf_train, tfidf_test\n",
        "del doc2vec_train, doc2vec_test\n",
        "del sent_train, sent_test\n",
        "del merged_train, merged_test\n",
        "del train_tagged, test_tagged"
      ],
      "execution_count": 19,
      "outputs": [
        {
          "output_type": "stream",
          "text": [
            "<class 'scipy.sparse.csr.csr_matrix'>\n",
            "<class 'tuple'>\n",
            "<class 'numpy.ndarray'>\n",
            "(12391, 13442)\n",
            "(12391, 300)\n",
            "(12391, 3)\n"
          ],
          "name": "stdout"
        }
      ]
    },
    {
      "cell_type": "markdown",
      "metadata": {
        "id": "PHginOYMlALM"
      },
      "source": [
        "### Logistic classifier with dimensionality reduction (LSA)"
      ]
    },
    {
      "cell_type": "code",
      "metadata": {
        "colab": {
          "base_uri": "https://localhost:8080/",
          "height": 295
        },
        "id": "NIt2ikqUlLza",
        "outputId": "fa47b805-064b-4b3e-e6b5-a84089ee4016"
      },
      "source": [
        "svd = TruncatedSVD(n_components=200, random_state=123)\n",
        "svd_model = svd.fit(X_train)\n",
        "\n",
        "# plot singular values to have an idea of how many components to select\n",
        "fig = plt.figure()\n",
        "ax = plt.axes()\n",
        "\n",
        "ax.plot(range(1,201), svd_model.singular_values_)\n",
        "plt.title('Singular Values from TruncatedSVD')\n",
        "plt.xlabel('Components')\n",
        "plt.ylabel('Singular Values')\n",
        "\n",
        "plt.show()"
      ],
      "execution_count": 20,
      "outputs": [
        {
          "output_type": "display_data",
          "data": {
            "image/png": "[encoded data removed]",
            "text/plain": [
              "<Figure size 432x288 with 1 Axes>"
            ]
          },
          "metadata": {
            "tags": [],
            "needs_background": "light"
          }
        }
      ]
    },
    {
      "cell_type": "code",
      "metadata": {
        "id": "P5Mw0QhAnICF"
      },
      "source": [
        "# tune the model and transform training and test sets accordingly\n",
        "svdtuned = TruncatedSVD(n_components=50, random_state=123)\n",
        "svdtuned_model = svdtuned.fit(X_train)\n",
        "reduced_X_train = svdtuned_model.transform(X_train)\n",
        "reduced_X_test = svdtuned_model.transform(X_test)"
      ],
      "execution_count": 21,
      "outputs": []
    },
    {
      "cell_type": "code",
      "metadata": {
        "colab": {
          "base_uri": "https://localhost:8080/"
        },
        "id": "b2gZKT_9tY_o",
        "outputId": "f446e3d2-3756-4a4b-ad2f-a3687d6394ed"
      },
      "source": [
        "logistic = LogisticRegression(max_iter=10000,random_state=123,penalty='none')\n",
        "logistic_model = logistic.fit(reduced_X_train, y_train)\n",
        "print(\"5-fold cross validation score\")\n",
        "st.mean(cross_val_score(logistic_model, reduced_X_test, y_test, cv=5, scoring='accuracy'))"
      ],
      "execution_count": 22,
      "outputs": [
        {
          "output_type": "stream",
          "text": [
            "5-fold cross validation score\n"
          ],
          "name": "stdout"
        },
        {
          "output_type": "execute_result",
          "data": {
            "text/plain": [
              "0.8186732068340973"
            ]
          },
          "metadata": {
            "tags": []
          },
          "execution_count": 22
        }
      ]
    },
    {
      "cell_type": "code",
      "metadata": {
        "colab": {
          "base_uri": "https://localhost:8080/"
        },
        "id": "qvkLKfoYh5f_",
        "outputId": "9d6b9e02-e2c2-4dcf-dc2f-c426e1c41239"
      },
      "source": [
        "predicted = logistic_model.predict(reduced_X_test)\n",
        "accuracy_score(predicted,y_test)"
      ],
      "execution_count": 23,
      "outputs": [
        {
          "output_type": "execute_result",
          "data": {
            "text/plain": [
              "0.8189961265332473"
            ]
          },
          "metadata": {
            "tags": []
          },
          "execution_count": 23
        }
      ]
    },
    {
      "cell_type": "markdown",
      "metadata": {
        "id": "qSGxUspmTpJo"
      },
      "source": [
        "### Logistic enriched with regularisation"
      ]
    },
    {
      "cell_type": "code",
      "metadata": {
        "colab": {
          "base_uri": "https://localhost:8080/"
        },
        "id": "94qAlDs0dyIo",
        "outputId": "b3167590-deb3-40cb-9d04-d6282e22239c"
      },
      "source": [
        "logisticl2 = LogisticRegression(max_iter=10000,random_state=123,penalty='l2',C=0.5)\n",
        "logisticl2_model = logisticl2.fit(reduced_X_train, y_train)\n",
        "print(\"5-fold cross validation score\")\n",
        "st.mean(cross_val_score(logisticl2_model, reduced_X_test, y_test, cv=5, scoring='accuracy'))"
      ],
      "execution_count": 24,
      "outputs": [
        {
          "output_type": "stream",
          "text": [
            "5-fold cross validation score\n"
          ],
          "name": "stdout"
        },
        {
          "output_type": "execute_result",
          "data": {
            "text/plain": [
              "0.818431076083492"
            ]
          },
          "metadata": {
            "tags": []
          },
          "execution_count": 24
        }
      ]
    }
  ]
}